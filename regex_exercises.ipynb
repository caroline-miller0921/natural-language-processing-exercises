{
 "cells": [
  {
   "cell_type": "code",
   "execution_count": 4,
   "id": "7bbd0be9",
   "metadata": {},
   "outputs": [],
   "source": [
    "import pandas as pd\n",
    "import re # part of the python stdlib"
   ]
  },
  {
   "cell_type": "markdown",
   "id": "964b6233",
   "metadata": {},
   "source": [
    "**1. Write a function named is_vowel. It should accept a string as input and use a regular expression to determine if the passed string is a vowel. While not explicity mentioned in the lesson, you can treat the result of re.search as a boolean value that indicates whether or not the regular expression matches the given string.**"
   ]
  },
  {
   "cell_type": "code",
   "execution_count": 7,
   "id": "5fd62f00",
   "metadata": {},
   "outputs": [],
   "source": [
    "def is_vowel(some_string):\n",
    "    regexp = r'[AEIOUaeiou]'\n",
    "    match = re.search(regexp, some_string)\n",
    "    if match == None:\n",
    "        print('False')\n",
    "    else:\n",
    "        print('True')\n",
    "    "
   ]
  },
  {
   "cell_type": "code",
   "execution_count": 6,
   "id": "3d71bff6",
   "metadata": {},
   "outputs": [
    {
     "name": "stdout",
     "output_type": "stream",
     "text": [
      "None\n"
     ]
    }
   ],
   "source": [
    "some_string = 'b'\n",
    "regexp = r'AEIOUaeiou'\n",
    "    \n",
    "match = re.search(regexp, some_string)\n",
    "print(match)"
   ]
  },
  {
   "cell_type": "code",
   "execution_count": 8,
   "id": "87be9f50",
   "metadata": {},
   "outputs": [
    {
     "name": "stdout",
     "output_type": "stream",
     "text": [
      "True\n"
     ]
    }
   ],
   "source": [
    "is_vowel('a')"
   ]
  },
  {
   "cell_type": "code",
   "execution_count": 10,
   "id": "43d7a7f4",
   "metadata": {},
   "outputs": [
    {
     "name": "stdout",
     "output_type": "stream",
     "text": [
      "False\n"
     ]
    }
   ],
   "source": [
    "is_vowel('b')"
   ]
  },
  {
   "cell_type": "markdown",
   "id": "58f6f3a8",
   "metadata": {},
   "source": [
    "More concisely though...."
   ]
  },
  {
   "cell_type": "code",
   "execution_count": null,
   "id": "04c05557",
   "metadata": {},
   "outputs": [],
   "source": [
    "regexp = '^[AEIOUaeiou]{1}$'"
   ]
  },
  {
   "cell_type": "code",
   "execution_count": 10,
   "id": "62045101",
   "metadata": {},
   "outputs": [],
   "source": [
    "def is_vowel(some_string):\n",
    "    regexp = '^[AEIOUaeiou]{1}$'\n",
    "    match = bool(re.search(regexp, some_string))\n",
    "    return match"
   ]
  },
  {
   "cell_type": "code",
   "execution_count": 11,
   "id": "598a4a3b",
   "metadata": {},
   "outputs": [
    {
     "data": {
      "text/plain": [
       "True"
      ]
     },
     "execution_count": 11,
     "metadata": {},
     "output_type": "execute_result"
    }
   ],
   "source": [
    "is_vowel('A')"
   ]
  },
  {
   "cell_type": "code",
   "execution_count": 12,
   "id": "33123372",
   "metadata": {},
   "outputs": [
    {
     "data": {
      "text/plain": [
       "False"
      ]
     },
     "execution_count": 12,
     "metadata": {},
     "output_type": "execute_result"
    }
   ],
   "source": [
    "is_vowel('b')"
   ]
  },
  {
   "cell_type": "code",
   "execution_count": 13,
   "id": "e1275d52",
   "metadata": {},
   "outputs": [
    {
     "data": {
      "text/plain": [
       "False"
      ]
     },
     "execution_count": 13,
     "metadata": {},
     "output_type": "execute_result"
    }
   ],
   "source": [
    "is_vowel('AAAA')"
   ]
  },
  {
   "cell_type": "code",
   "execution_count": 14,
   "id": "d5a4e1dc",
   "metadata": {},
   "outputs": [
    {
     "data": {
      "text/plain": [
       "True"
      ]
     },
     "execution_count": 14,
     "metadata": {},
     "output_type": "execute_result"
    }
   ],
   "source": [
    "is_vowel('i')"
   ]
  },
  {
   "cell_type": "markdown",
   "id": "294bc155",
   "metadata": {},
   "source": [
    "**2. Write a function named is_valid_username that accepts a string as input. A valid username starts with a lowercase letter, and only consists of lowercase letters, numbers, or the _ character. It should also be no longer than 32 characters. The function should return either True or False depending on whether the passed string is a valid username.**"
   ]
  },
  {
   "cell_type": "code",
   "execution_count": 46,
   "id": "c61843b5",
   "metadata": {},
   "outputs": [],
   "source": [
    "def is_valid_username(username):\n",
    "    regexp = r'^[a-z][a-z0-9_]{,31}$'\n",
    "    match = re.search(regexp, username)\n",
    "    return bool(match)"
   ]
  },
  {
   "cell_type": "code",
   "execution_count": 47,
   "id": "69dfcee5",
   "metadata": {},
   "outputs": [
    {
     "data": {
      "text/plain": [
       "True"
      ]
     },
     "execution_count": 47,
     "metadata": {},
     "output_type": "execute_result"
    }
   ],
   "source": [
    "is_valid_username('crabshack__7942')"
   ]
  },
  {
   "cell_type": "code",
   "execution_count": 48,
   "id": "c80ee24f",
   "metadata": {},
   "outputs": [
    {
     "data": {
      "text/plain": [
       "False"
      ]
     },
     "execution_count": 48,
     "metadata": {},
     "output_type": "execute_result"
    }
   ],
   "source": [
    "is_valid_username('myfavoriterestaurantisjoescrabshack')"
   ]
  },
  {
   "cell_type": "code",
   "execution_count": 49,
   "id": "ca028b77",
   "metadata": {},
   "outputs": [
    {
     "data": {
      "text/plain": [
       "True"
      ]
     },
     "execution_count": 49,
     "metadata": {},
     "output_type": "execute_result"
    }
   ],
   "source": [
    "is_valid_username('crabshack234')"
   ]
  },
  {
   "cell_type": "code",
   "execution_count": 50,
   "id": "6983a321",
   "metadata": {},
   "outputs": [
    {
     "data": {
      "text/plain": [
       "False"
      ]
     },
     "execution_count": 50,
     "metadata": {},
     "output_type": "execute_result"
    }
   ],
   "source": [
    "is_valid_username('Crabshack234')"
   ]
  },
  {
   "cell_type": "code",
   "execution_count": 51,
   "id": "7f85b22a",
   "metadata": {},
   "outputs": [
    {
     "data": {
      "text/plain": [
       "False"
      ]
     },
     "execution_count": 51,
     "metadata": {},
     "output_type": "execute_result"
    }
   ],
   "source": [
    "is_valid_username('crabs%ack234')"
   ]
  },
  {
   "cell_type": "code",
   "execution_count": 52,
   "id": "2fea2b51",
   "metadata": {},
   "outputs": [
    {
     "data": {
      "text/plain": [
       "False"
      ]
     },
     "execution_count": 52,
     "metadata": {},
     "output_type": "execute_result"
    }
   ],
   "source": [
    "is_valid_username('noshavenovember09876543211234567890')"
   ]
  },
  {
   "cell_type": "code",
   "execution_count": 53,
   "id": "a8d3f54c",
   "metadata": {},
   "outputs": [
    {
     "data": {
      "text/plain": [
       "False"
      ]
     },
     "execution_count": 53,
     "metadata": {},
     "output_type": "execute_result"
    }
   ],
   "source": [
    "is_valid_username('crabsHack_234')"
   ]
  },
  {
   "cell_type": "markdown",
   "id": "02361b95",
   "metadata": {},
   "source": [
    "**3. Write a regular expression to capture phone numbers. It should match all of the following:**"
   ]
  },
  {
   "cell_type": "code",
   "execution_count": 54,
   "id": "d62ae799",
   "metadata": {},
   "outputs": [
    {
     "data": {
      "text/plain": [
       "[('(210)', '867', '5309')]"
      ]
     },
     "execution_count": 54,
     "metadata": {},
     "output_type": "execute_result"
    }
   ],
   "source": [
    "format1 = r'([\\(]\\d{3}[)]) (\\d{3}) (\\d{4})'\n",
    "re.findall(format1, '(210) 867 5309')"
   ]
  },
  {
   "cell_type": "code",
   "execution_count": 138,
   "id": "6ebc1bb3",
   "metadata": {},
   "outputs": [
    {
     "data": {
      "text/plain": [
       "<re.Match object; span=(0, 15), match='+1 210.867.5309'>"
      ]
     },
     "execution_count": 138,
     "metadata": {},
     "output_type": "execute_result"
    }
   ],
   "source": [
    "format2 = r'^[\\+]\\d{1,2}\\s\\d{3}\\.\\d{3}\\.\\d{4}'\n",
    "re.search(format2, '+1 210.867.5309')"
   ]
  },
  {
   "cell_type": "code",
   "execution_count": 139,
   "id": "968735e6",
   "metadata": {},
   "outputs": [
    {
     "data": {
      "text/plain": [
       "<re.Match object; span=(0, 8), match='867-5309'>"
      ]
     },
     "execution_count": 139,
     "metadata": {},
     "output_type": "execute_result"
    }
   ],
   "source": [
    "format3 = r'\\d{3}-\\d{4}'\n",
    "re.search(format3, '867-5309')"
   ]
  },
  {
   "cell_type": "code",
   "execution_count": 140,
   "id": "7b8c72ad",
   "metadata": {},
   "outputs": [
    {
     "data": {
      "text/plain": [
       "<re.Match object; span=(0, 12), match='210-867-5309'>"
      ]
     },
     "execution_count": 140,
     "metadata": {},
     "output_type": "execute_result"
    }
   ],
   "source": [
    "format4 = r'\\d{3}-\\d{3}-\\d{4}'\n",
    "re.search(format4, '210-867-5309')"
   ]
  },
  {
   "cell_type": "code",
   "execution_count": 57,
   "id": "fc3eb832",
   "metadata": {},
   "outputs": [],
   "source": [
    "# regexp = r'(?+?\\d{1}?\\d{3})?.?-?\\s?\\d{4}?\\d{3}?.?-?\\s?\\d{4}?'\n",
    "number1 = '(210) 867 5309'\n",
    "number2 = '+1 210.867.5309'\n",
    "number3 = '867-5309'\n",
    "number4 = '210-867-5309'\n"
   ]
  },
  {
   "cell_type": "code",
   "execution_count": 55,
   "id": "66f9772a",
   "metadata": {},
   "outputs": [],
   "source": [
    "regexp = r'([\\+]?\\d{1,2}?) ([\\(]?\\d{3})?.?\\s?[\\)]?-?) (\\d{3}?\\.?\\s?-?) (\\d{4}?)'"
   ]
  },
  {
   "cell_type": "code",
   "execution_count": 146,
   "id": "9261ec34",
   "metadata": {},
   "outputs": [
    {
     "name": "stdout",
     "output_type": "stream",
     "text": [
      "['(210) 867 5309', '+1 210.867.5309', '867-5309', '210-867-5309']\n"
     ]
    }
   ],
   "source": [
    "numbers = [number1, number2, number3, number4]\n",
    "\n",
    "print(numbers)"
   ]
  },
  {
   "cell_type": "code",
   "execution_count": 59,
   "id": "a1c629d3",
   "metadata": {},
   "outputs": [],
   "source": [
    "regexp = r'(\\+\\d+)?.?(\\?d{3}\\)?)?.?(\\d{3}).?(\\d{4})'\n",
    "\n",
    "# the period in between the two question marks represents ANYTHIN REALLY"
   ]
  },
  {
   "cell_type": "code",
   "execution_count": 60,
   "id": "69b4fec8",
   "metadata": {},
   "outputs": [],
   "source": [
    "def is_phone_number(some_string):\n",
    "    regexp = r'(\\+\\d+)?.?(\\?d{3}\\)?)?.?(\\d{3}).?(\\d{4})'\n",
    "    match = re.search(regexp, some_string)\n",
    "    return bool(match)"
   ]
  },
  {
   "cell_type": "code",
   "execution_count": 61,
   "id": "be711803",
   "metadata": {},
   "outputs": [
    {
     "data": {
      "text/plain": [
       "True"
      ]
     },
     "execution_count": 61,
     "metadata": {},
     "output_type": "execute_result"
    }
   ],
   "source": [
    "is_phone_number('(210) 867 5309')"
   ]
  },
  {
   "cell_type": "code",
   "execution_count": 62,
   "id": "92a7fb29",
   "metadata": {},
   "outputs": [
    {
     "data": {
      "text/plain": [
       "True"
      ]
     },
     "execution_count": 62,
     "metadata": {},
     "output_type": "execute_result"
    }
   ],
   "source": [
    "is_phone_number('+1 210.867.5309')"
   ]
  },
  {
   "cell_type": "code",
   "execution_count": 63,
   "id": "983d05d6",
   "metadata": {},
   "outputs": [
    {
     "data": {
      "text/plain": [
       "True"
      ]
     },
     "execution_count": 63,
     "metadata": {},
     "output_type": "execute_result"
    }
   ],
   "source": [
    "is_phone_number('867-5309')"
   ]
  },
  {
   "cell_type": "code",
   "execution_count": 64,
   "id": "ff2ccf10",
   "metadata": {},
   "outputs": [
    {
     "data": {
      "text/plain": [
       "True"
      ]
     },
     "execution_count": 64,
     "metadata": {},
     "output_type": "execute_result"
    }
   ],
   "source": [
    "is_phone_number('210-867-5309')"
   ]
  },
  {
   "cell_type": "code",
   "execution_count": 65,
   "id": "8c36f2af",
   "metadata": {},
   "outputs": [
    {
     "data": {
      "text/plain": [
       "True"
      ]
     },
     "execution_count": 65,
     "metadata": {},
     "output_type": "execute_result"
    }
   ],
   "source": [
    "is_phone_number('+12 345 354 6756')"
   ]
  },
  {
   "cell_type": "markdown",
   "id": "8db14602",
   "metadata": {},
   "source": [
    "**4. Use regular expressions to convert the dates below to the standardized year-month-day format.**"
   ]
  },
  {
   "cell_type": "code",
   "execution_count": 69,
   "id": "a4cc319c",
   "metadata": {},
   "outputs": [],
   "source": [
    "dates = pd.Series([\n",
    "    '02/04/19',\n",
    "    '02/05/19',\n",
    "    '02/06/19',\n",
    "    '02/08/19',\n",
    "    '02/09/19',\n",
    "    '02/10/19'])"
   ]
  },
  {
   "cell_type": "code",
   "execution_count": 70,
   "id": "2c316fad",
   "metadata": {},
   "outputs": [],
   "source": [
    "dates = dates.replace('19', '2019', regex=True)"
   ]
  },
  {
   "cell_type": "code",
   "execution_count": 71,
   "id": "b5f0df2c",
   "metadata": {},
   "outputs": [
    {
     "data": {
      "text/plain": [
       "0    02/04/2019\n",
       "1    02/05/2019\n",
       "2    02/06/2019\n",
       "3    02/07/2019\n",
       "4    02/08/2019\n",
       "5    02/09/2019\n",
       "6    02/10/2019\n",
       "dtype: object"
      ]
     },
     "execution_count": 71,
     "metadata": {},
     "output_type": "execute_result"
    }
   ],
   "source": [
    "dates"
   ]
  },
  {
   "cell_type": "code",
   "execution_count": 72,
   "id": "ba459c62",
   "metadata": {},
   "outputs": [],
   "source": [
    "regexp = r'(\\d{2})/(\\d{2})/(\\d{4})'"
   ]
  },
  {
   "cell_type": "code",
   "execution_count": 73,
   "id": "0fcb6380",
   "metadata": {},
   "outputs": [
    {
     "name": "stderr",
     "output_type": "stream",
     "text": [
      "/var/folders/gn/krty7k0175z7_1gpw49cwdch0000gn/T/ipykernel_2927/1473327001.py:1: FutureWarning: The default value of regex will change from True to False in a future version.\n",
      "  dates = dates.str.replace(regexp, r'\\3-2-1')\n"
     ]
    }
   ],
   "source": [
    "dates = dates.str.replace(regexp, r'\\3-2-1')"
   ]
  },
  {
   "cell_type": "code",
   "execution_count": 74,
   "id": "a5833a1d",
   "metadata": {},
   "outputs": [
    {
     "data": {
      "text/plain": [
       "0    2019-2-1\n",
       "1    2019-2-1\n",
       "2    2019-2-1\n",
       "3    2019-2-1\n",
       "4    2019-2-1\n",
       "5    2019-2-1\n",
       "6    2019-2-1\n",
       "dtype: object"
      ]
     },
     "execution_count": 74,
     "metadata": {},
     "output_type": "execute_result"
    }
   ],
   "source": [
    "dates"
   ]
  },
  {
   "cell_type": "markdown",
   "id": "5cf93f4e",
   "metadata": {},
   "source": [
    "**5. Write a regex to extract the various parts of these logfile lines:**"
   ]
  },
  {
   "cell_type": "code",
   "execution_count": 80,
   "id": "b92e66d2",
   "metadata": {},
   "outputs": [],
   "source": [
    "logfile_lines = '''\n",
    "GET /api/v1/sales?page=86 [16/Apr/2019:193452+0000] HTTP/1.1 {200} 510348 \"python-requests/2.21.0\" 97.105.19.58\n",
    "POST /users_accounts/file-upload [16/Apr/2019:193452+0000] HTTP/1.1 {201} 42 \"User-Agent: Mozilla/5.0 (X11; Fedora; Fedora; Linux x86_64) AppleWebKit/537.36 (KHTML, like Gecko) Chrome/73.0.3683.86 Safari/537.36\" 97.105.19.58\n",
    "GET /api/v1/items?page=3 [16/Apr/2019:193453+0000] HTTP/1.1 {429} 3561 \"python-requests/2.21.0\" 97.105.19.58\n",
    "'''"
   ]
  },
  {
   "cell_type": "code",
   "execution_count": 81,
   "id": "77d16b17",
   "metadata": {},
   "outputs": [],
   "source": [
    "regex = r'(?P<method>.*?)\\s+(?P<path>/.*)\\s+\\[(?P<timestamp>.*?)\\]\\s+(?P<protocol>.*?)\\s+[\\{](?P<status>\\d.*?)[\\}]\\s+(?P<size>.*?)\\s+[\\\"](?P<user_agent>.*?)[\\\"]\\s+(?P<ip>\\d.*?$)'"
   ]
  },
  {
   "cell_type": "code",
   "execution_count": 82,
   "id": "7c0c1fb9",
   "metadata": {},
   "outputs": [],
   "source": [
    "regex = re.compile(regex, re.VERBOSE)"
   ]
  },
  {
   "cell_type": "code",
   "execution_count": 83,
   "id": "70ef7b1b",
   "metadata": {},
   "outputs": [],
   "source": [
    "lines = pd.Series(logfile_lines.strip().split('\\n'))"
   ]
  },
  {
   "cell_type": "code",
   "execution_count": 84,
   "id": "c538e17e",
   "metadata": {},
   "outputs": [
    {
     "data": {
      "text/plain": [
       "0    GET /api/v1/sales?page=86 [16/Apr/2019:193452+...\n",
       "1    POST /users_accounts/file-upload [16/Apr/2019:...\n",
       "2    GET /api/v1/items?page=3 [16/Apr/2019:193453+0...\n",
       "dtype: object"
      ]
     },
     "execution_count": 84,
     "metadata": {},
     "output_type": "execute_result"
    }
   ],
   "source": [
    "lines"
   ]
  },
  {
   "cell_type": "code",
   "execution_count": 85,
   "id": "309e0a29",
   "metadata": {},
   "outputs": [
    {
     "data": {
      "text/html": [
       "<div>\n",
       "<style scoped>\n",
       "    .dataframe tbody tr th:only-of-type {\n",
       "        vertical-align: middle;\n",
       "    }\n",
       "\n",
       "    .dataframe tbody tr th {\n",
       "        vertical-align: top;\n",
       "    }\n",
       "\n",
       "    .dataframe thead th {\n",
       "        text-align: right;\n",
       "    }\n",
       "</style>\n",
       "<table border=\"1\" class=\"dataframe\">\n",
       "  <thead>\n",
       "    <tr style=\"text-align: right;\">\n",
       "      <th></th>\n",
       "      <th>method</th>\n",
       "      <th>path</th>\n",
       "      <th>timestamp</th>\n",
       "      <th>protocol</th>\n",
       "      <th>status</th>\n",
       "      <th>size</th>\n",
       "      <th>user_agent</th>\n",
       "      <th>ip</th>\n",
       "    </tr>\n",
       "  </thead>\n",
       "  <tbody>\n",
       "    <tr>\n",
       "      <th>0</th>\n",
       "      <td>GET</td>\n",
       "      <td>/api/v1/sales?page=86</td>\n",
       "      <td>16/Apr/2019:193452+0000</td>\n",
       "      <td>HTTP/1.1</td>\n",
       "      <td>200</td>\n",
       "      <td>510348</td>\n",
       "      <td>python-requests/2.21.0</td>\n",
       "      <td>97.105.19.58</td>\n",
       "    </tr>\n",
       "    <tr>\n",
       "      <th>1</th>\n",
       "      <td>POST</td>\n",
       "      <td>/users_accounts/file-upload</td>\n",
       "      <td>16/Apr/2019:193452+0000</td>\n",
       "      <td>HTTP/1.1</td>\n",
       "      <td>201</td>\n",
       "      <td>42</td>\n",
       "      <td>User-Agent: Mozilla/5.0 (X11; Fedora; Fedora; ...</td>\n",
       "      <td>97.105.19.58</td>\n",
       "    </tr>\n",
       "    <tr>\n",
       "      <th>2</th>\n",
       "      <td>GET</td>\n",
       "      <td>/api/v1/items?page=3</td>\n",
       "      <td>16/Apr/2019:193453+0000</td>\n",
       "      <td>HTTP/1.1</td>\n",
       "      <td>429</td>\n",
       "      <td>3561</td>\n",
       "      <td>python-requests/2.21.0</td>\n",
       "      <td>97.105.19.58</td>\n",
       "    </tr>\n",
       "  </tbody>\n",
       "</table>\n",
       "</div>"
      ],
      "text/plain": [
       "  method                         path                timestamp  protocol  \\\n",
       "0    GET        /api/v1/sales?page=86  16/Apr/2019:193452+0000  HTTP/1.1   \n",
       "1   POST  /users_accounts/file-upload  16/Apr/2019:193452+0000  HTTP/1.1   \n",
       "2    GET         /api/v1/items?page=3  16/Apr/2019:193453+0000  HTTP/1.1   \n",
       "\n",
       "  status    size                                         user_agent  \\\n",
       "0    200  510348                             python-requests/2.21.0   \n",
       "1    201      42  User-Agent: Mozilla/5.0 (X11; Fedora; Fedora; ...   \n",
       "2    429    3561                             python-requests/2.21.0   \n",
       "\n",
       "             ip  \n",
       "0  97.105.19.58  \n",
       "1  97.105.19.58  \n",
       "2  97.105.19.58  "
      ]
     },
     "execution_count": 85,
     "metadata": {},
     "output_type": "execute_result"
    }
   ],
   "source": [
    "lines.str.extract(regex)"
   ]
  },
  {
   "cell_type": "code",
   "execution_count": null,
   "id": "6c9ba692",
   "metadata": {},
   "outputs": [],
   "source": []
  },
  {
   "cell_type": "code",
   "execution_count": null,
   "id": "0cbc75cd",
   "metadata": {},
   "outputs": [],
   "source": []
  },
  {
   "cell_type": "code",
   "execution_count": null,
   "id": "a21d41f8",
   "metadata": {},
   "outputs": [],
   "source": []
  }
 ],
 "metadata": {
  "kernelspec": {
   "display_name": "Python 3 (ipykernel)",
   "language": "python",
   "name": "python3"
  },
  "language_info": {
   "codemirror_mode": {
    "name": "ipython",
    "version": 3
   },
   "file_extension": ".py",
   "mimetype": "text/x-python",
   "name": "python",
   "nbconvert_exporter": "python",
   "pygments_lexer": "ipython3",
   "version": "3.9.13"
  }
 },
 "nbformat": 4,
 "nbformat_minor": 5
}
