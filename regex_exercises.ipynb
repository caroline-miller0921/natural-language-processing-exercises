{
 "cells": [
  {
   "cell_type": "code",
   "execution_count": 1,
   "id": "7bbd0be9",
   "metadata": {},
   "outputs": [],
   "source": [
    "import pandas as pd\n",
    "import re # part of the python stdlib"
   ]
  },
  {
   "cell_type": "markdown",
   "id": "964b6233",
   "metadata": {},
   "source": [
    "**1. Write a function named is_vowel. It should accept a string as input and use a regular expression to determine if the passed string is a vowel. While not explicity mentioned in the lesson, you can treat the result of re.search as a boolean value that indicates whether or not the regular expression matches the given string.**"
   ]
  },
  {
   "cell_type": "code",
   "execution_count": 7,
   "id": "5fd62f00",
   "metadata": {},
   "outputs": [],
   "source": [
    "def is_vowel(some_string):\n",
    "    regexp = r'[AEIOUaeiou]'\n",
    "    match = re.search(regexp, some_string)\n",
    "    if match == None:\n",
    "        print('False')\n",
    "    else:\n",
    "        print('True')\n",
    "    "
   ]
  },
  {
   "cell_type": "code",
   "execution_count": 6,
   "id": "3d71bff6",
   "metadata": {},
   "outputs": [
    {
     "name": "stdout",
     "output_type": "stream",
     "text": [
      "None\n"
     ]
    }
   ],
   "source": [
    "some_string = 'b'\n",
    "regexp = r'AEIOUaeiou'\n",
    "    \n",
    "match = re.search(regexp, some_string)\n",
    "print(match)"
   ]
  },
  {
   "cell_type": "code",
   "execution_count": 8,
   "id": "87be9f50",
   "metadata": {},
   "outputs": [
    {
     "name": "stdout",
     "output_type": "stream",
     "text": [
      "True\n"
     ]
    }
   ],
   "source": [
    "is_vowel('a')"
   ]
  },
  {
   "cell_type": "code",
   "execution_count": 10,
   "id": "43d7a7f4",
   "metadata": {},
   "outputs": [
    {
     "name": "stdout",
     "output_type": "stream",
     "text": [
      "False\n"
     ]
    }
   ],
   "source": [
    "is_vowel('b')"
   ]
  },
  {
   "cell_type": "markdown",
   "id": "294bc155",
   "metadata": {},
   "source": [
    "**2. Write a function named is_valid_username that accepts a string as input. A valid username starts with a lowercase letter, and only consists of lowercase letters, numbers, or the _ character. It should also be no longer than 32 characters. The function should return either True or False depending on whether the passed string is a valid username.**"
   ]
  },
  {
   "cell_type": "code",
   "execution_count": 81,
   "id": "c61843b5",
   "metadata": {},
   "outputs": [],
   "source": [
    "def is_valid_username(username):\n",
    "    regexp = r'^[a-z]\\w*$'\n",
    "    match = re.search(regexp, username)\n",
    "    if match == None:\n",
    "        print('The username you have chosen contains characters which do not meet the criteria.\\nPlease enter a valid username.')\n",
    "    else:\n",
    "        if len(username) > 32:\n",
    "            print('The username you have chosen is too long. Please enter a username that does not exceed 32 characters.')\n",
    "        else:\n",
    "            print(f'{username} is a valid username.')"
   ]
  },
  {
   "cell_type": "code",
   "execution_count": 79,
   "id": "325774d4",
   "metadata": {},
   "outputs": [],
   "source": [
    "regexp = r'^[a-z]\\w*$'\n",
    "username= 'crabs%ack234'\n",
    "\n",
    "re.search(regexp, username)"
   ]
  },
  {
   "cell_type": "code",
   "execution_count": 82,
   "id": "ca028b77",
   "metadata": {},
   "outputs": [
    {
     "name": "stdout",
     "output_type": "stream",
     "text": [
      "crabshack234 is a valid username.\n"
     ]
    }
   ],
   "source": [
    "is_valid_username('crabshack234')"
   ]
  },
  {
   "cell_type": "code",
   "execution_count": 83,
   "id": "6983a321",
   "metadata": {},
   "outputs": [
    {
     "name": "stdout",
     "output_type": "stream",
     "text": [
      "The username you have chosen contains characters which do not meet the criteria.\n",
      "Please enter a valid username.\n"
     ]
    }
   ],
   "source": [
    "is_valid_username('Crabshack234')"
   ]
  },
  {
   "cell_type": "code",
   "execution_count": 84,
   "id": "7f85b22a",
   "metadata": {},
   "outputs": [
    {
     "name": "stdout",
     "output_type": "stream",
     "text": [
      "The username you have chosen contains characters which do not meet the criteria.\n",
      "Please enter a valid username.\n"
     ]
    }
   ],
   "source": [
    "is_valid_username('crabs%ack234')"
   ]
  },
  {
   "cell_type": "code",
   "execution_count": 86,
   "id": "2fea2b51",
   "metadata": {},
   "outputs": [
    {
     "name": "stdout",
     "output_type": "stream",
     "text": [
      "The username you have chosen is too long. Please enter a username that does not exceed 32 characters.\n"
     ]
    }
   ],
   "source": [
    "is_valid_username('noshavenovember09876543211234567890')"
   ]
  },
  {
   "cell_type": "code",
   "execution_count": 87,
   "id": "a8d3f54c",
   "metadata": {},
   "outputs": [
    {
     "name": "stdout",
     "output_type": "stream",
     "text": [
      "crabsHack_234 is a valid username.\n"
     ]
    }
   ],
   "source": [
    "is_valid_username('crabsHack_234')"
   ]
  },
  {
   "cell_type": "markdown",
   "id": "02361b95",
   "metadata": {},
   "source": [
    "**3. Write a regular expression to capture phone numbers. It should match all of the following:**"
   ]
  },
  {
   "cell_type": "code",
   "execution_count": 162,
   "id": "d62ae799",
   "metadata": {},
   "outputs": [
    {
     "ename": "ValueError",
     "evalue": "not enough values to unpack (expected 3, got 1)",
     "output_type": "error",
     "traceback": [
      "\u001b[0;31m---------------------------------------------------------------------------\u001b[0m",
      "\u001b[0;31mValueError\u001b[0m                                Traceback (most recent call last)",
      "Input \u001b[0;32mIn [162]\u001b[0m, in \u001b[0;36m<cell line: 2>\u001b[0;34m()\u001b[0m\n\u001b[1;32m      1\u001b[0m format1 \u001b[38;5;241m=\u001b[39m \u001b[38;5;124mr\u001b[39m\u001b[38;5;124m'\u001b[39m\u001b[38;5;124m([\u001b[39m\u001b[38;5;124m\\\u001b[39m\u001b[38;5;124m(]\u001b[39m\u001b[38;5;124m\\\u001b[39m\u001b[38;5;124md\u001b[39m\u001b[38;5;132;01m{3}\u001b[39;00m\u001b[38;5;124m[)]) (\u001b[39m\u001b[38;5;124m\\\u001b[39m\u001b[38;5;124md\u001b[39m\u001b[38;5;132;01m{3}\u001b[39;00m\u001b[38;5;124m) (\u001b[39m\u001b[38;5;124m\\\u001b[39m\u001b[38;5;124md\u001b[39m\u001b[38;5;132;01m{4}\u001b[39;00m\u001b[38;5;124m)\u001b[39m\u001b[38;5;124m'\u001b[39m\n\u001b[0;32m----> 2\u001b[0m group1, group2, group3 \u001b[38;5;241m=\u001b[39m re\u001b[38;5;241m.\u001b[39mfindall(format1, \u001b[38;5;124m'\u001b[39m\u001b[38;5;124m(210) 867 5309\u001b[39m\u001b[38;5;124m'\u001b[39m)\n",
      "\u001b[0;31mValueError\u001b[0m: not enough values to unpack (expected 3, got 1)"
     ]
    }
   ],
   "source": [
    "format1 = r'([\\(]\\d{3}[)]) (\\d{3}) (\\d{4})'\n",
    "group1, group2, group3 = re.findall(format1, '(210) 867 5309')"
   ]
  },
  {
   "cell_type": "code",
   "execution_count": 138,
   "id": "6ebc1bb3",
   "metadata": {},
   "outputs": [
    {
     "data": {
      "text/plain": [
       "<re.Match object; span=(0, 15), match='+1 210.867.5309'>"
      ]
     },
     "execution_count": 138,
     "metadata": {},
     "output_type": "execute_result"
    }
   ],
   "source": [
    "format2 = r'^[\\+]\\d{1,2}\\s\\d{3}\\.\\d{3}\\.\\d{4}'\n",
    "re.search(format2, '+1 210.867.5309')"
   ]
  },
  {
   "cell_type": "code",
   "execution_count": 139,
   "id": "968735e6",
   "metadata": {},
   "outputs": [
    {
     "data": {
      "text/plain": [
       "<re.Match object; span=(0, 8), match='867-5309'>"
      ]
     },
     "execution_count": 139,
     "metadata": {},
     "output_type": "execute_result"
    }
   ],
   "source": [
    "format3 = r'\\d{3}-\\d{4}'\n",
    "re.search(format3, '867-5309')"
   ]
  },
  {
   "cell_type": "code",
   "execution_count": 140,
   "id": "7b8c72ad",
   "metadata": {},
   "outputs": [
    {
     "data": {
      "text/plain": [
       "<re.Match object; span=(0, 12), match='210-867-5309'>"
      ]
     },
     "execution_count": 140,
     "metadata": {},
     "output_type": "execute_result"
    }
   ],
   "source": [
    "format4 = r'\\d{3}-\\d{3}-\\d{4}'\n",
    "re.search(format4, '210-867-5309')"
   ]
  },
  {
   "cell_type": "code",
   "execution_count": 141,
   "id": "fc3eb832",
   "metadata": {},
   "outputs": [],
   "source": [
    "# regexp = r'(?+?\\d{1}?\\d{3})?.?-?\\s?\\d{4}?\\d{3}?.?-?\\s?\\d{4}?'\n",
    "number1 = '(210) 867 5309'\n",
    "number2 = '+1 210.867.5309'\n",
    "number3 = '867-5309'\n",
    "number4 = '210-867-5309'\n"
   ]
  },
  {
   "cell_type": "code",
   "execution_count": 155,
   "id": "66f9772a",
   "metadata": {},
   "outputs": [],
   "source": [
    "regexp = r'[\\+]?\\d{1,2}? [\\(]?\\d{3})?.?\\s?[\\)]?-? \\d{3}?\\.?\\s?-? \\d{4}?'"
   ]
  },
  {
   "cell_type": "code",
   "execution_count": 146,
   "id": "9261ec34",
   "metadata": {},
   "outputs": [
    {
     "name": "stdout",
     "output_type": "stream",
     "text": [
      "['(210) 867 5309', '+1 210.867.5309', '867-5309', '210-867-5309']\n"
     ]
    }
   ],
   "source": [
    "numbers = [number1, number2, number3, number4]\n",
    "\n",
    "print(numbers)"
   ]
  },
  {
   "cell_type": "code",
   "execution_count": 156,
   "id": "a1c629d3",
   "metadata": {},
   "outputs": [
    {
     "ename": "error",
     "evalue": "unbalanced parenthesis at position 24",
     "output_type": "error",
     "traceback": [
      "\u001b[0;31m---------------------------------------------------------------------------\u001b[0m",
      "\u001b[0;31merror\u001b[0m                                     Traceback (most recent call last)",
      "Input \u001b[0;32mIn [156]\u001b[0m, in \u001b[0;36m<cell line: 1>\u001b[0;34m()\u001b[0m\n\u001b[0;32m----> 1\u001b[0m \u001b[43mre\u001b[49m\u001b[38;5;241;43m.\u001b[39;49m\u001b[43mfindall\u001b[49m\u001b[43m(\u001b[49m\u001b[43mregexp\u001b[49m\u001b[43m,\u001b[49m\u001b[43m \u001b[49m\u001b[43mnumber1\u001b[49m\u001b[43m)\u001b[49m\n",
      "File \u001b[0;32m/opt/homebrew/anaconda3/lib/python3.9/re.py:241\u001b[0m, in \u001b[0;36mfindall\u001b[0;34m(pattern, string, flags)\u001b[0m\n\u001b[1;32m    233\u001b[0m \u001b[38;5;28;01mdef\u001b[39;00m \u001b[38;5;21mfindall\u001b[39m(pattern, string, flags\u001b[38;5;241m=\u001b[39m\u001b[38;5;241m0\u001b[39m):\n\u001b[1;32m    234\u001b[0m     \u001b[38;5;124;03m\"\"\"Return a list of all non-overlapping matches in the string.\u001b[39;00m\n\u001b[1;32m    235\u001b[0m \n\u001b[1;32m    236\u001b[0m \u001b[38;5;124;03m    If one or more capturing groups are present in the pattern, return\u001b[39;00m\n\u001b[0;32m   (...)\u001b[0m\n\u001b[1;32m    239\u001b[0m \n\u001b[1;32m    240\u001b[0m \u001b[38;5;124;03m    Empty matches are included in the result.\"\"\"\u001b[39;00m\n\u001b[0;32m--> 241\u001b[0m     \u001b[38;5;28;01mreturn\u001b[39;00m \u001b[43m_compile\u001b[49m\u001b[43m(\u001b[49m\u001b[43mpattern\u001b[49m\u001b[43m,\u001b[49m\u001b[43m \u001b[49m\u001b[43mflags\u001b[49m\u001b[43m)\u001b[49m\u001b[38;5;241m.\u001b[39mfindall(string)\n",
      "File \u001b[0;32m/opt/homebrew/anaconda3/lib/python3.9/re.py:304\u001b[0m, in \u001b[0;36m_compile\u001b[0;34m(pattern, flags)\u001b[0m\n\u001b[1;32m    302\u001b[0m \u001b[38;5;28;01mif\u001b[39;00m \u001b[38;5;129;01mnot\u001b[39;00m sre_compile\u001b[38;5;241m.\u001b[39misstring(pattern):\n\u001b[1;32m    303\u001b[0m     \u001b[38;5;28;01mraise\u001b[39;00m \u001b[38;5;167;01mTypeError\u001b[39;00m(\u001b[38;5;124m\"\u001b[39m\u001b[38;5;124mfirst argument must be string or compiled pattern\u001b[39m\u001b[38;5;124m\"\u001b[39m)\n\u001b[0;32m--> 304\u001b[0m p \u001b[38;5;241m=\u001b[39m \u001b[43msre_compile\u001b[49m\u001b[38;5;241;43m.\u001b[39;49m\u001b[43mcompile\u001b[49m\u001b[43m(\u001b[49m\u001b[43mpattern\u001b[49m\u001b[43m,\u001b[49m\u001b[43m \u001b[49m\u001b[43mflags\u001b[49m\u001b[43m)\u001b[49m\n\u001b[1;32m    305\u001b[0m \u001b[38;5;28;01mif\u001b[39;00m \u001b[38;5;129;01mnot\u001b[39;00m (flags \u001b[38;5;241m&\u001b[39m DEBUG):\n\u001b[1;32m    306\u001b[0m     \u001b[38;5;28;01mif\u001b[39;00m \u001b[38;5;28mlen\u001b[39m(_cache) \u001b[38;5;241m>\u001b[39m\u001b[38;5;241m=\u001b[39m _MAXCACHE:\n\u001b[1;32m    307\u001b[0m         \u001b[38;5;66;03m# Drop the oldest item\u001b[39;00m\n",
      "File \u001b[0;32m/opt/homebrew/anaconda3/lib/python3.9/sre_compile.py:788\u001b[0m, in \u001b[0;36mcompile\u001b[0;34m(p, flags)\u001b[0m\n\u001b[1;32m    786\u001b[0m \u001b[38;5;28;01mif\u001b[39;00m isstring(p):\n\u001b[1;32m    787\u001b[0m     pattern \u001b[38;5;241m=\u001b[39m p\n\u001b[0;32m--> 788\u001b[0m     p \u001b[38;5;241m=\u001b[39m \u001b[43msre_parse\u001b[49m\u001b[38;5;241;43m.\u001b[39;49m\u001b[43mparse\u001b[49m\u001b[43m(\u001b[49m\u001b[43mp\u001b[49m\u001b[43m,\u001b[49m\u001b[43m \u001b[49m\u001b[43mflags\u001b[49m\u001b[43m)\u001b[49m\n\u001b[1;32m    789\u001b[0m \u001b[38;5;28;01melse\u001b[39;00m:\n\u001b[1;32m    790\u001b[0m     pattern \u001b[38;5;241m=\u001b[39m \u001b[38;5;28;01mNone\u001b[39;00m\n",
      "File \u001b[0;32m/opt/homebrew/anaconda3/lib/python3.9/sre_parse.py:969\u001b[0m, in \u001b[0;36mparse\u001b[0;34m(str, flags, state)\u001b[0m\n\u001b[1;32m    967\u001b[0m \u001b[38;5;28;01mif\u001b[39;00m source\u001b[38;5;241m.\u001b[39mnext \u001b[38;5;129;01mis\u001b[39;00m \u001b[38;5;129;01mnot\u001b[39;00m \u001b[38;5;28;01mNone\u001b[39;00m:\n\u001b[1;32m    968\u001b[0m     \u001b[38;5;28;01massert\u001b[39;00m source\u001b[38;5;241m.\u001b[39mnext \u001b[38;5;241m==\u001b[39m \u001b[38;5;124m\"\u001b[39m\u001b[38;5;124m)\u001b[39m\u001b[38;5;124m\"\u001b[39m\n\u001b[0;32m--> 969\u001b[0m     \u001b[38;5;28;01mraise\u001b[39;00m source\u001b[38;5;241m.\u001b[39merror(\u001b[38;5;124m\"\u001b[39m\u001b[38;5;124munbalanced parenthesis\u001b[39m\u001b[38;5;124m\"\u001b[39m)\n\u001b[1;32m    971\u001b[0m \u001b[38;5;28;01mfor\u001b[39;00m g \u001b[38;5;129;01min\u001b[39;00m p\u001b[38;5;241m.\u001b[39mstate\u001b[38;5;241m.\u001b[39mgrouprefpos:\n\u001b[1;32m    972\u001b[0m     \u001b[38;5;28;01mif\u001b[39;00m g \u001b[38;5;241m>\u001b[39m\u001b[38;5;241m=\u001b[39m p\u001b[38;5;241m.\u001b[39mstate\u001b[38;5;241m.\u001b[39mgroups:\n",
      "\u001b[0;31merror\u001b[0m: unbalanced parenthesis at position 24"
     ]
    }
   ],
   "source": [
    "re.findall(regexp, number1)"
   ]
  },
  {
   "cell_type": "markdown",
   "id": "8db14602",
   "metadata": {},
   "source": [
    "**4. Use regular expressions to convert the dates below to the standardized year-month-day format.**"
   ]
  },
  {
   "cell_type": "code",
   "execution_count": 187,
   "id": "a4cc319c",
   "metadata": {},
   "outputs": [],
   "source": [
    "dates = pd.Series([\n",
    "    '02/04/19',\n",
    "    '02/05/19',\n",
    "    '02/06/19',\n",
    "    '02/07/19',\n",
    "    '02/08/19',\n",
    "    '02/09/19',\n",
    "    '02/10/19'])"
   ]
  },
  {
   "cell_type": "code",
   "execution_count": 212,
   "id": "2c316fad",
   "metadata": {},
   "outputs": [],
   "source": [
    "dates = dates.replace('19', '2019', regex=True)"
   ]
  },
  {
   "cell_type": "code",
   "execution_count": 213,
   "id": "b5f0df2c",
   "metadata": {},
   "outputs": [
    {
     "data": {
      "text/plain": [
       "0    02/04/2019\n",
       "1    02/05/2019\n",
       "2    02/06/2019\n",
       "3    02/07/2019\n",
       "4    02/08/2019\n",
       "5    02/09/2019\n",
       "6    02/10/2019\n",
       "dtype: object"
      ]
     },
     "execution_count": 213,
     "metadata": {},
     "output_type": "execute_result"
    }
   ],
   "source": [
    "dates"
   ]
  },
  {
   "cell_type": "code",
   "execution_count": 216,
   "id": "ba459c62",
   "metadata": {},
   "outputs": [],
   "source": [
    "regexp = r'(\\d{2})/(\\d{2})/(\\d{4})'"
   ]
  },
  {
   "cell_type": "code",
   "execution_count": 220,
   "id": "0fcb6380",
   "metadata": {},
   "outputs": [
    {
     "name": "stderr",
     "output_type": "stream",
     "text": [
      "/var/folders/gn/krty7k0175z7_1gpw49cwdch0000gn/T/ipykernel_2363/1473327001.py:1: FutureWarning: The default value of regex will change from True to False in a future version.\n",
      "  dates = dates.str.replace(regexp, r'\\3-2-1')\n"
     ]
    }
   ],
   "source": [
    "dates = dates.str.replace(regexp, r'\\3-2-1')"
   ]
  },
  {
   "cell_type": "code",
   "execution_count": 221,
   "id": "a5833a1d",
   "metadata": {},
   "outputs": [
    {
     "data": {
      "text/plain": [
       "0    2019-2-1\n",
       "1    2019-2-1\n",
       "2    2019-2-1\n",
       "3    2019-2-1\n",
       "4    2019-2-1\n",
       "5    2019-2-1\n",
       "6    2019-2-1\n",
       "dtype: object"
      ]
     },
     "execution_count": 221,
     "metadata": {},
     "output_type": "execute_result"
    }
   ],
   "source": [
    "dates"
   ]
  },
  {
   "cell_type": "markdown",
   "id": "5cf93f4e",
   "metadata": {},
   "source": [
    "**5. Write a regex to extract the various parts of these logfile lines:**"
   ]
  },
  {
   "cell_type": "code",
   "execution_count": 222,
   "id": "b92e66d2",
   "metadata": {},
   "outputs": [],
   "source": [
    "logfile_lines = '''\n",
    "GET /api/v1/sales?page=86 [16/Apr/2019:193452+0000] HTTP/1.1 {200} 510348 \"python-requests/2.21.0\" 97.105.19.58\n",
    "POST /users_accounts/file-upload [16/Apr/2019:193452+0000] HTTP/1.1 {201} 42 \"User-Agent: Mozilla/5.0 (X11; Fedora; Fedora; Linux x86_64) AppleWebKit/537.36 (KHTML, like Gecko) Chrome/73.0.3683.86 Safari/537.36\" 97.105.19.58\n",
    "GET /api/v1/items?page=3 [16/Apr/2019:193453+0000] HTTP/1.1 {429} 3561 \"python-requests/2.21.0\" 97.105.19.58\n",
    "'''"
   ]
  },
  {
   "cell_type": "code",
   "execution_count": 276,
   "id": "77d16b17",
   "metadata": {},
   "outputs": [],
   "source": [
    "regex = r'(?P<method>.*?)\\s(?P<path>/.*)\\s\\[(?P<timestamp>.*?)\\]\\s(?P<protocol>.*?)\\s[\\{](?P<status>\\d.*?)[\\}]\\s(?P<size>.*?)\\s[\\\"](?P<user_agent>.*?)[\\\"]\\s(?P<ip>\\d.*?$)'"
   ]
  },
  {
   "cell_type": "code",
   "execution_count": 277,
   "id": "7c0c1fb9",
   "metadata": {},
   "outputs": [],
   "source": [
    "regex = re.compile(regex, re.VERBOSE)"
   ]
  },
  {
   "cell_type": "code",
   "execution_count": 278,
   "id": "70ef7b1b",
   "metadata": {},
   "outputs": [],
   "source": [
    "lines = pd.Series(logfile_lines.strip().split('\\n'))"
   ]
  },
  {
   "cell_type": "code",
   "execution_count": 279,
   "id": "c538e17e",
   "metadata": {},
   "outputs": [
    {
     "data": {
      "text/plain": [
       "0    GET /api/v1/sales?page=86 [16/Apr/2019:193452+...\n",
       "1    POST /users_accounts/file-upload [16/Apr/2019:...\n",
       "2    GET /api/v1/items?page=3 [16/Apr/2019:193453+0...\n",
       "dtype: object"
      ]
     },
     "execution_count": 279,
     "metadata": {},
     "output_type": "execute_result"
    }
   ],
   "source": [
    "lines"
   ]
  },
  {
   "cell_type": "code",
   "execution_count": 280,
   "id": "309e0a29",
   "metadata": {},
   "outputs": [
    {
     "data": {
      "text/html": [
       "<div>\n",
       "<style scoped>\n",
       "    .dataframe tbody tr th:only-of-type {\n",
       "        vertical-align: middle;\n",
       "    }\n",
       "\n",
       "    .dataframe tbody tr th {\n",
       "        vertical-align: top;\n",
       "    }\n",
       "\n",
       "    .dataframe thead th {\n",
       "        text-align: right;\n",
       "    }\n",
       "</style>\n",
       "<table border=\"1\" class=\"dataframe\">\n",
       "  <thead>\n",
       "    <tr style=\"text-align: right;\">\n",
       "      <th></th>\n",
       "      <th>method</th>\n",
       "      <th>path</th>\n",
       "      <th>timestamp</th>\n",
       "      <th>protocol</th>\n",
       "      <th>status</th>\n",
       "      <th>size</th>\n",
       "      <th>user_agent</th>\n",
       "      <th>ip</th>\n",
       "    </tr>\n",
       "  </thead>\n",
       "  <tbody>\n",
       "    <tr>\n",
       "      <th>0</th>\n",
       "      <td>GET</td>\n",
       "      <td>/api/v1/sales?page=86</td>\n",
       "      <td>16/Apr/2019:193452+0000</td>\n",
       "      <td>HTTP/1.1</td>\n",
       "      <td>200</td>\n",
       "      <td>510348</td>\n",
       "      <td>python-requests/2.21.0</td>\n",
       "      <td>97.105.19.58</td>\n",
       "    </tr>\n",
       "    <tr>\n",
       "      <th>1</th>\n",
       "      <td>POST</td>\n",
       "      <td>/users_accounts/file-upload</td>\n",
       "      <td>16/Apr/2019:193452+0000</td>\n",
       "      <td>HTTP/1.1</td>\n",
       "      <td>201</td>\n",
       "      <td>42</td>\n",
       "      <td>User-Agent: Mozilla/5.0 (X11; Fedora; Fedora; ...</td>\n",
       "      <td>97.105.19.58</td>\n",
       "    </tr>\n",
       "    <tr>\n",
       "      <th>2</th>\n",
       "      <td>GET</td>\n",
       "      <td>/api/v1/items?page=3</td>\n",
       "      <td>16/Apr/2019:193453+0000</td>\n",
       "      <td>HTTP/1.1</td>\n",
       "      <td>429</td>\n",
       "      <td>3561</td>\n",
       "      <td>python-requests/2.21.0</td>\n",
       "      <td>97.105.19.58</td>\n",
       "    </tr>\n",
       "  </tbody>\n",
       "</table>\n",
       "</div>"
      ],
      "text/plain": [
       "  method                         path                timestamp  protocol  \\\n",
       "0    GET        /api/v1/sales?page=86  16/Apr/2019:193452+0000  HTTP/1.1   \n",
       "1   POST  /users_accounts/file-upload  16/Apr/2019:193452+0000  HTTP/1.1   \n",
       "2    GET         /api/v1/items?page=3  16/Apr/2019:193453+0000  HTTP/1.1   \n",
       "\n",
       "  status    size                                         user_agent  \\\n",
       "0    200  510348                             python-requests/2.21.0   \n",
       "1    201      42  User-Agent: Mozilla/5.0 (X11; Fedora; Fedora; ...   \n",
       "2    429    3561                             python-requests/2.21.0   \n",
       "\n",
       "             ip  \n",
       "0  97.105.19.58  \n",
       "1  97.105.19.58  \n",
       "2  97.105.19.58  "
      ]
     },
     "execution_count": 280,
     "metadata": {},
     "output_type": "execute_result"
    }
   ],
   "source": [
    "lines.str.extract(regex)"
   ]
  },
  {
   "cell_type": "code",
   "execution_count": null,
   "id": "6c9ba692",
   "metadata": {},
   "outputs": [],
   "source": []
  },
  {
   "cell_type": "code",
   "execution_count": null,
   "id": "0cbc75cd",
   "metadata": {},
   "outputs": [],
   "source": []
  },
  {
   "cell_type": "code",
   "execution_count": null,
   "id": "a21d41f8",
   "metadata": {},
   "outputs": [],
   "source": []
  }
 ],
 "metadata": {
  "kernelspec": {
   "display_name": "Python 3 (ipykernel)",
   "language": "python",
   "name": "python3"
  },
  "language_info": {
   "codemirror_mode": {
    "name": "ipython",
    "version": 3
   },
   "file_extension": ".py",
   "mimetype": "text/x-python",
   "name": "python",
   "nbconvert_exporter": "python",
   "pygments_lexer": "ipython3",
   "version": "3.9.13"
  }
 },
 "nbformat": 4,
 "nbformat_minor": 5
}
