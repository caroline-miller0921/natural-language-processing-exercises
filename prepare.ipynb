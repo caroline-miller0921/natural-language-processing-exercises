{
 "cells": [
  {
   "cell_type": "code",
   "execution_count": 1,
   "id": "87f5c5df",
   "metadata": {},
   "outputs": [],
   "source": [
    "import unicodedata\n",
    "import re\n",
    "import json\n",
    "\n",
    "import nltk\n",
    "from nltk.tokenize.toktok import ToktokTokenizer\n",
    "from nltk.corpus import stopwords\n",
    "\n",
    "import pandas as pd\n",
    "\n",
    "import acquire as a\n",
    "import os\n",
    "import acquire_news_articles as n"
   ]
  },
  {
   "cell_type": "markdown",
   "id": "ca3efcf8",
   "metadata": {},
   "source": [
    "**1. Define a function named basic_clean. It should take in a string and apply some basic text cleaning to it:**\n",
    "\n",
    "Lowercase everything\n",
    "\n",
    "Normalize unicode characters\n",
    "\n",
    "Replace anything that is not a letter, number, whitespace or a single quote. "
   ]
  },
  {
   "cell_type": "code",
   "execution_count": 24,
   "id": "67f5d96b",
   "metadata": {},
   "outputs": [],
   "source": [
    "some_string = \"I'm gonna soak up the Sun. I'm gonna tell everyone to lighten up!\""
   ]
  },
  {
   "cell_type": "code",
   "execution_count": 25,
   "id": "ff46cfad",
   "metadata": {},
   "outputs": [],
   "source": [
    "def lower(some_string):\n",
    "    some_string = some_string.lower()\n",
    "    return some_string"
   ]
  },
  {
   "cell_type": "code",
   "execution_count": 26,
   "id": "a7310ce3",
   "metadata": {},
   "outputs": [
    {
     "data": {
      "text/plain": [
       "\"i'm gonna soak up the sun. i'm gonna tell everyone to lighten up!\""
      ]
     },
     "execution_count": 26,
     "metadata": {},
     "output_type": "execute_result"
    }
   ],
   "source": [
    "lower(some_string)"
   ]
  },
  {
   "cell_type": "code",
   "execution_count": 3,
   "id": "05fd36b8",
   "metadata": {},
   "outputs": [],
   "source": [
    "def normalize(some_string):\n",
    "    some_string = unicodedata.normalize('NFKD', some_string).encode('ascii', 'ignore').decode('utf-8')\n",
    "    some_string = re.sub(r'[^a-zA-Z0-9\\'\\s]', '', some_string)\n",
    "    return some_string"
   ]
  },
  {
   "cell_type": "code",
   "execution_count": 27,
   "id": "cde1b2a7",
   "metadata": {},
   "outputs": [
    {
     "data": {
      "text/plain": [
       "\"I'm gonna soak up the Sun I'm gonna tell everyone to lighten up\""
      ]
     },
     "execution_count": 27,
     "metadata": {},
     "output_type": "execute_result"
    }
   ],
   "source": [
    "normalize(some_string)"
   ]
  },
  {
   "cell_type": "code",
   "execution_count": 29,
   "id": "2c128e56",
   "metadata": {},
   "outputs": [],
   "source": [
    "def basic_clean(some_string):\n",
    "    some_string = lower(some_string)\n",
    "    some_string = normalize(some_string)\n",
    "    return some_string"
   ]
  },
  {
   "cell_type": "code",
   "execution_count": 30,
   "id": "69808db2",
   "metadata": {},
   "outputs": [
    {
     "data": {
      "text/plain": [
       "\"i'm gonna soak up the sun i'm gonna tell everyone to lighten up\""
      ]
     },
     "execution_count": 30,
     "metadata": {},
     "output_type": "execute_result"
    }
   ],
   "source": [
    "basic_clean(some_string)"
   ]
  },
  {
   "cell_type": "code",
   "execution_count": 5,
   "id": "86d0e8a9",
   "metadata": {},
   "outputs": [],
   "source": [
    "def tokenize(some_string):\n",
    "    tokenizer = nltk.tokenize.ToktokTokenizer()\n",
    "    return tokenizer.tokenize(some_string, return_str=True)"
   ]
  },
  {
   "cell_type": "code",
   "execution_count": 31,
   "id": "59b6e031",
   "metadata": {},
   "outputs": [
    {
     "data": {
      "text/plain": [
       "\"I ' m gonna soak up the Sun. I ' m gonna tell everyone to lighten up !\""
      ]
     },
     "execution_count": 31,
     "metadata": {},
     "output_type": "execute_result"
    }
   ],
   "source": [
    "tokenize(some_string)"
   ]
  },
  {
   "cell_type": "code",
   "execution_count": 39,
   "id": "bea1fbf1",
   "metadata": {},
   "outputs": [],
   "source": [
    "def lemmatize(some_string):\n",
    "    lemmatizer = nltk.WordNetLemmatizer()\n",
    "    return ' '.join(\n",
    "        [lemmatizer.lemmatize(word) for word in some_string.split()])"
   ]
  },
  {
   "cell_type": "code",
   "execution_count": 40,
   "id": "0d16037e",
   "metadata": {},
   "outputs": [
    {
     "data": {
      "text/plain": [
       "\"I'm gonna soak up the Sun. I'm gonna tell everyone to lighten up!\""
      ]
     },
     "execution_count": 40,
     "metadata": {},
     "output_type": "execute_result"
    }
   ],
   "source": [
    "lemmatize(some_string)"
   ]
  },
  {
   "cell_type": "code",
   "execution_count": 42,
   "id": "450c2ef4",
   "metadata": {},
   "outputs": [],
   "source": [
    "def stem(some_string):\n",
    "    stemmer = nltk.porter.PorterStemmer()\n",
    "    return ' '.join(\n",
    "        [stemmer.stem(word) for word in some_string.split()])"
   ]
  },
  {
   "cell_type": "code",
   "execution_count": 43,
   "id": "2025d0e4",
   "metadata": {},
   "outputs": [
    {
     "data": {
      "text/plain": [
       "\"i'm gonna soak up the sun. i'm gonna tell everyon to lighten up!\""
      ]
     },
     "execution_count": 43,
     "metadata": {},
     "output_type": "execute_result"
    }
   ],
   "source": [
    "stem(some_string)"
   ]
  },
  {
   "cell_type": "code",
   "execution_count": 44,
   "id": "868e21c4",
   "metadata": {},
   "outputs": [],
   "source": [
    "def remove_stopwords(some_string, extra_words=[], keep_words=[]):\n",
    "    stopwords_custom = set(stopwords.words('english')) - \\\n",
    "    set(keep_words)\n",
    "    stopwords_custom = list(stopwords_custom.union(extra_words))\n",
    "    return ' '.join([word for word in some_string.split()\n",
    "                     if word not in stopwords_custom])"
   ]
  },
  {
   "cell_type": "code",
   "execution_count": 45,
   "id": "c965026c",
   "metadata": {},
   "outputs": [
    {
     "data": {
      "text/plain": [
       "\"I'm gonna soak Sun. I'm gonna tell everyone lighten up!\""
      ]
     },
     "execution_count": 45,
     "metadata": {},
     "output_type": "execute_result"
    }
   ],
   "source": [
    "remove_stopwords(some_string)"
   ]
  },
  {
   "cell_type": "code",
   "execution_count": 47,
   "id": "0b39eb1b",
   "metadata": {},
   "outputs": [],
   "source": [
    "def transform_data(df, extra_words=[], keep_words=[]):\n",
    "    df = df.rename(columns={'content': 'original'})\n",
    "    df['clean'] = df['original'].apply(basic_clean).apply(\n",
    "        tokenize).apply(remove_stopwords)\n",
    "    df['stemmed'] = df['clean'].apply(stem)\n",
    "    df['lemmatized'] = df['stemmed'].apply(lemmatize)\n",
    "    return df"
   ]
  },
  {
   "cell_type": "code",
   "execution_count": 10,
   "id": "659bd69c",
   "metadata": {},
   "outputs": [],
   "source": [
    "news_df = a.get_inshorts_df()"
   ]
  },
  {
   "cell_type": "code",
   "execution_count": 11,
   "id": "81173d52",
   "metadata": {},
   "outputs": [
    {
     "data": {
      "text/html": [
       "<div>\n",
       "<style scoped>\n",
       "    .dataframe tbody tr th:only-of-type {\n",
       "        vertical-align: middle;\n",
       "    }\n",
       "\n",
       "    .dataframe tbody tr th {\n",
       "        vertical-align: top;\n",
       "    }\n",
       "\n",
       "    .dataframe thead th {\n",
       "        text-align: right;\n",
       "    }\n",
       "</style>\n",
       "<table border=\"1\" class=\"dataframe\">\n",
       "  <thead>\n",
       "    <tr style=\"text-align: right;\">\n",
       "      <th></th>\n",
       "      <th>title</th>\n",
       "      <th>content</th>\n",
       "      <th>category</th>\n",
       "    </tr>\n",
       "  </thead>\n",
       "  <tbody>\n",
       "    <tr>\n",
       "      <th>0</th>\n",
       "      <td>Yashasvi Jaiswal's reaction to Virat Kohli's p...</td>\n",
       "      <td>RR opener Yashasvi Jaiswal's reaction to Virat...</td>\n",
       "      <td>sports</td>\n",
       "    </tr>\n",
       "    <tr>\n",
       "      <th>1</th>\n",
       "      <td>I don't sledge someone upfront, not my habit: ...</td>\n",
       "      <td>LSG fast bowler Naveen-ul-Haq, in an interacti...</td>\n",
       "      <td>sports</td>\n",
       "    </tr>\n",
       "    <tr>\n",
       "      <th>2</th>\n",
       "      <td>Table-toppers GT to bowl first against MI, bot...</td>\n",
       "      <td>Table-toppers Gujarat Titans (GT) captain Hard...</td>\n",
       "      <td>sports</td>\n",
       "    </tr>\n",
       "    <tr>\n",
       "      <th>3</th>\n",
       "      <td>Jos Buttler fined 10% of match fee for breachi...</td>\n",
       "      <td>RR opener Jos Buttler has been fined 10% of hi...</td>\n",
       "      <td>sports</td>\n",
       "    </tr>\n",
       "    <tr>\n",
       "      <th>4</th>\n",
       "      <td>KL Rahul shares 'Doff the cap' GIF for Yashasv...</td>\n",
       "      <td>KL Rahul took to Twitter to share a 'Doff the ...</td>\n",
       "      <td>sports</td>\n",
       "    </tr>\n",
       "    <tr>\n",
       "      <th>...</th>\n",
       "      <td>...</td>\n",
       "      <td>...</td>\n",
       "      <td>...</td>\n",
       "    </tr>\n",
       "    <tr>\n",
       "      <th>20</th>\n",
       "      <td>The girl went through hell, it needs to be tol...</td>\n",
       "      <td>After Asaram Bapu sent a legal notice to maker...</td>\n",
       "      <td>entertainment</td>\n",
       "    </tr>\n",
       "    <tr>\n",
       "      <th>21</th>\n",
       "      <td>Team of 'The Kerala Story' to attend BJP's 'ya...</td>\n",
       "      <td>The team of 'The Kerala Story' movie will be a...</td>\n",
       "      <td>entertainment</td>\n",
       "    </tr>\n",
       "    <tr>\n",
       "      <th>22</th>\n",
       "      <td>This baby is planned, says Robert De Niro on 7...</td>\n",
       "      <td>Actor Robert De Niro, who recently announced t...</td>\n",
       "      <td>entertainment</td>\n",
       "    </tr>\n",
       "    <tr>\n",
       "      <th>23</th>\n",
       "      <td>I'm busy, don't have time for 'Come, let's gos...</td>\n",
       "      <td>Actress Kavita Kaushik has said that she has b...</td>\n",
       "      <td>entertainment</td>\n",
       "    </tr>\n",
       "    <tr>\n",
       "      <th>24</th>\n",
       "      <td>Actors' fees should be realistic to not affect...</td>\n",
       "      <td>Actress Yami Gautam, in an interview, said tha...</td>\n",
       "      <td>entertainment</td>\n",
       "    </tr>\n",
       "  </tbody>\n",
       "</table>\n",
       "<p>100 rows × 3 columns</p>\n",
       "</div>"
      ],
      "text/plain": [
       "                                                title  \\\n",
       "0   Yashasvi Jaiswal's reaction to Virat Kohli's p...   \n",
       "1   I don't sledge someone upfront, not my habit: ...   \n",
       "2   Table-toppers GT to bowl first against MI, bot...   \n",
       "3   Jos Buttler fined 10% of match fee for breachi...   \n",
       "4   KL Rahul shares 'Doff the cap' GIF for Yashasv...   \n",
       "..                                                ...   \n",
       "20  The girl went through hell, it needs to be tol...   \n",
       "21  Team of 'The Kerala Story' to attend BJP's 'ya...   \n",
       "22  This baby is planned, says Robert De Niro on 7...   \n",
       "23  I'm busy, don't have time for 'Come, let's gos...   \n",
       "24  Actors' fees should be realistic to not affect...   \n",
       "\n",
       "                                              content       category  \n",
       "0   RR opener Yashasvi Jaiswal's reaction to Virat...         sports  \n",
       "1   LSG fast bowler Naveen-ul-Haq, in an interacti...         sports  \n",
       "2   Table-toppers Gujarat Titans (GT) captain Hard...         sports  \n",
       "3   RR opener Jos Buttler has been fined 10% of hi...         sports  \n",
       "4   KL Rahul took to Twitter to share a 'Doff the ...         sports  \n",
       "..                                                ...            ...  \n",
       "20  After Asaram Bapu sent a legal notice to maker...  entertainment  \n",
       "21  The team of 'The Kerala Story' movie will be a...  entertainment  \n",
       "22  Actor Robert De Niro, who recently announced t...  entertainment  \n",
       "23  Actress Kavita Kaushik has said that she has b...  entertainment  \n",
       "24  Actress Yami Gautam, in an interview, said tha...  entertainment  \n",
       "\n",
       "[100 rows x 3 columns]"
      ]
     },
     "execution_count": 11,
     "metadata": {},
     "output_type": "execute_result"
    }
   ],
   "source": [
    "news_df"
   ]
  },
  {
   "cell_type": "code",
   "execution_count": 12,
   "id": "49852689",
   "metadata": {},
   "outputs": [],
   "source": [
    "codeup_df = a.get_blog_df()"
   ]
  },
  {
   "cell_type": "code",
   "execution_count": 13,
   "id": "10791fae",
   "metadata": {},
   "outputs": [
    {
     "data": {
      "text/html": [
       "<div>\n",
       "<style scoped>\n",
       "    .dataframe tbody tr th:only-of-type {\n",
       "        vertical-align: middle;\n",
       "    }\n",
       "\n",
       "    .dataframe tbody tr th {\n",
       "        vertical-align: top;\n",
       "    }\n",
       "\n",
       "    .dataframe thead th {\n",
       "        text-align: right;\n",
       "    }\n",
       "</style>\n",
       "<table border=\"1\" class=\"dataframe\">\n",
       "  <thead>\n",
       "    <tr style=\"text-align: right;\">\n",
       "      <th></th>\n",
       "      <th>title</th>\n",
       "      <th>content</th>\n",
       "    </tr>\n",
       "  </thead>\n",
       "  <tbody>\n",
       "    <tr>\n",
       "      <th>0</th>\n",
       "      <td>Women in tech: Panelist Spotlight – Magdalena ...</td>\n",
       "      <td>\\nCodeup is hosting a Women in Tech Panel in h...</td>\n",
       "    </tr>\n",
       "    <tr>\n",
       "      <th>1</th>\n",
       "      <td>Women in tech: Panelist Spotlight – Rachel Rob...</td>\n",
       "      <td>\\nCodeup is hosting a Women in Tech Panel in h...</td>\n",
       "    </tr>\n",
       "    <tr>\n",
       "      <th>2</th>\n",
       "      <td>Women in Tech: Panelist Spotlight – Sarah Mellor</td>\n",
       "      <td>\\nCodeup is hosting a Women in Tech Panel in ...</td>\n",
       "    </tr>\n",
       "    <tr>\n",
       "      <th>3</th>\n",
       "      <td>Women in Tech: Panelist Spotlight – Madeleine ...</td>\n",
       "      <td>\\nCodeup is hosting a Women in Tech Panel in h...</td>\n",
       "    </tr>\n",
       "    <tr>\n",
       "      <th>4</th>\n",
       "      <td>Black Excellence in Tech: Panelist Spotlight –...</td>\n",
       "      <td>\\n\\nCodeup is hosting a Black Excellence in Te...</td>\n",
       "    </tr>\n",
       "    <tr>\n",
       "      <th>5</th>\n",
       "      <td>Black excellence in tech: Panelist Spotlight –...</td>\n",
       "      <td>\\nCodeup is hosting our second Black Excellenc...</td>\n",
       "    </tr>\n",
       "  </tbody>\n",
       "</table>\n",
       "</div>"
      ],
      "text/plain": [
       "                                               title  \\\n",
       "0  Women in tech: Panelist Spotlight – Magdalena ...   \n",
       "1  Women in tech: Panelist Spotlight – Rachel Rob...   \n",
       "2   Women in Tech: Panelist Spotlight – Sarah Mellor   \n",
       "3  Women in Tech: Panelist Spotlight – Madeleine ...   \n",
       "4  Black Excellence in Tech: Panelist Spotlight –...   \n",
       "5  Black excellence in tech: Panelist Spotlight –...   \n",
       "\n",
       "                                             content  \n",
       "0  \\nCodeup is hosting a Women in Tech Panel in h...  \n",
       "1  \\nCodeup is hosting a Women in Tech Panel in h...  \n",
       "2   \\nCodeup is hosting a Women in Tech Panel in ...  \n",
       "3  \\nCodeup is hosting a Women in Tech Panel in h...  \n",
       "4  \\n\\nCodeup is hosting a Black Excellence in Te...  \n",
       "5  \\nCodeup is hosting our second Black Excellenc...  "
      ]
     },
     "execution_count": 13,
     "metadata": {},
     "output_type": "execute_result"
    }
   ],
   "source": [
    "codeup_df"
   ]
  },
  {
   "cell_type": "markdown",
   "id": "cc8219c0",
   "metadata": {},
   "source": [
    "**8. For each dataframe, produce the following columns:**\n",
    "\n",
    "title to hold the title\n",
    "\n",
    "original to hold the original article/post content\n",
    "\n",
    "clean to hold the normalized and tokenized original with the stopwords removed.\n",
    "\n",
    "stemmed to hold the stemmed version of the cleaned data.\n",
    "\n",
    "lemmatized to hold the lemmatized version of the cleaned data."
   ]
  },
  {
   "cell_type": "code",
   "execution_count": 48,
   "id": "6184f36a",
   "metadata": {},
   "outputs": [
    {
     "data": {
      "text/html": [
       "<div>\n",
       "<style scoped>\n",
       "    .dataframe tbody tr th:only-of-type {\n",
       "        vertical-align: middle;\n",
       "    }\n",
       "\n",
       "    .dataframe tbody tr th {\n",
       "        vertical-align: top;\n",
       "    }\n",
       "\n",
       "    .dataframe thead th {\n",
       "        text-align: right;\n",
       "    }\n",
       "</style>\n",
       "<table border=\"1\" class=\"dataframe\">\n",
       "  <thead>\n",
       "    <tr style=\"text-align: right;\">\n",
       "      <th></th>\n",
       "      <th>title</th>\n",
       "      <th>original</th>\n",
       "      <th>clean</th>\n",
       "      <th>stemmed</th>\n",
       "      <th>lemmatized</th>\n",
       "    </tr>\n",
       "  </thead>\n",
       "  <tbody>\n",
       "    <tr>\n",
       "      <th>0</th>\n",
       "      <td>Women in tech: Panelist Spotlight – Magdalena ...</td>\n",
       "      <td>\\nCodeup is hosting a Women in Tech Panel in h...</td>\n",
       "      <td>codeup hosting women tech panel honor womens h...</td>\n",
       "      <td>codeup host women tech panel honor women histo...</td>\n",
       "      <td>codeup host woman tech panel honor woman histo...</td>\n",
       "    </tr>\n",
       "    <tr>\n",
       "      <th>1</th>\n",
       "      <td>Women in tech: Panelist Spotlight – Rachel Rob...</td>\n",
       "      <td>\\nCodeup is hosting a Women in Tech Panel in h...</td>\n",
       "      <td>codeup hosting women tech panel honor womens h...</td>\n",
       "      <td>codeup host women tech panel honor women histo...</td>\n",
       "      <td>codeup host woman tech panel honor woman histo...</td>\n",
       "    </tr>\n",
       "    <tr>\n",
       "      <th>2</th>\n",
       "      <td>Women in Tech: Panelist Spotlight – Sarah Mellor</td>\n",
       "      <td>\\nCodeup is hosting a Women in Tech Panel in ...</td>\n",
       "      <td>codeup hosting women tech panel honor womens h...</td>\n",
       "      <td>codeup host women tech panel honor women histo...</td>\n",
       "      <td>codeup host woman tech panel honor woman histo...</td>\n",
       "    </tr>\n",
       "    <tr>\n",
       "      <th>3</th>\n",
       "      <td>Women in Tech: Panelist Spotlight – Madeleine ...</td>\n",
       "      <td>\\nCodeup is hosting a Women in Tech Panel in h...</td>\n",
       "      <td>codeup hosting women tech panel honor womens h...</td>\n",
       "      <td>codeup host women tech panel honor women histo...</td>\n",
       "      <td>codeup host woman tech panel honor woman histo...</td>\n",
       "    </tr>\n",
       "    <tr>\n",
       "      <th>4</th>\n",
       "      <td>Black Excellence in Tech: Panelist Spotlight –...</td>\n",
       "      <td>\\n\\nCodeup is hosting a Black Excellence in Te...</td>\n",
       "      <td>codeup hosting black excellence tech panel hon...</td>\n",
       "      <td>codeup host black excel tech panel honor black...</td>\n",
       "      <td>codeup host black excel tech panel honor black...</td>\n",
       "    </tr>\n",
       "    <tr>\n",
       "      <th>5</th>\n",
       "      <td>Black excellence in tech: Panelist Spotlight –...</td>\n",
       "      <td>\\nCodeup is hosting our second Black Excellenc...</td>\n",
       "      <td>codeup hosting second black excellence tech pa...</td>\n",
       "      <td>codeup host second black excel tech panel hono...</td>\n",
       "      <td>codeup host second black excel tech panel hono...</td>\n",
       "    </tr>\n",
       "  </tbody>\n",
       "</table>\n",
       "</div>"
      ],
      "text/plain": [
       "                                               title  \\\n",
       "0  Women in tech: Panelist Spotlight – Magdalena ...   \n",
       "1  Women in tech: Panelist Spotlight – Rachel Rob...   \n",
       "2   Women in Tech: Panelist Spotlight – Sarah Mellor   \n",
       "3  Women in Tech: Panelist Spotlight – Madeleine ...   \n",
       "4  Black Excellence in Tech: Panelist Spotlight –...   \n",
       "5  Black excellence in tech: Panelist Spotlight –...   \n",
       "\n",
       "                                            original  \\\n",
       "0  \\nCodeup is hosting a Women in Tech Panel in h...   \n",
       "1  \\nCodeup is hosting a Women in Tech Panel in h...   \n",
       "2   \\nCodeup is hosting a Women in Tech Panel in ...   \n",
       "3  \\nCodeup is hosting a Women in Tech Panel in h...   \n",
       "4  \\n\\nCodeup is hosting a Black Excellence in Te...   \n",
       "5  \\nCodeup is hosting our second Black Excellenc...   \n",
       "\n",
       "                                               clean  \\\n",
       "0  codeup hosting women tech panel honor womens h...   \n",
       "1  codeup hosting women tech panel honor womens h...   \n",
       "2  codeup hosting women tech panel honor womens h...   \n",
       "3  codeup hosting women tech panel honor womens h...   \n",
       "4  codeup hosting black excellence tech panel hon...   \n",
       "5  codeup hosting second black excellence tech pa...   \n",
       "\n",
       "                                             stemmed  \\\n",
       "0  codeup host women tech panel honor women histo...   \n",
       "1  codeup host women tech panel honor women histo...   \n",
       "2  codeup host women tech panel honor women histo...   \n",
       "3  codeup host women tech panel honor women histo...   \n",
       "4  codeup host black excel tech panel honor black...   \n",
       "5  codeup host second black excel tech panel hono...   \n",
       "\n",
       "                                          lemmatized  \n",
       "0  codeup host woman tech panel honor woman histo...  \n",
       "1  codeup host woman tech panel honor woman histo...  \n",
       "2  codeup host woman tech panel honor woman histo...  \n",
       "3  codeup host woman tech panel honor woman histo...  \n",
       "4  codeup host black excel tech panel honor black...  \n",
       "5  codeup host second black excel tech panel hono...  "
      ]
     },
     "execution_count": 48,
     "metadata": {},
     "output_type": "execute_result"
    }
   ],
   "source": [
    "codeup_cleaned = transform_data(codeup_df)\n",
    "codeup_cleaned"
   ]
  },
  {
   "cell_type": "code",
   "execution_count": 51,
   "id": "ed9ea068",
   "metadata": {},
   "outputs": [
    {
     "data": {
      "text/html": [
       "<div>\n",
       "<style scoped>\n",
       "    .dataframe tbody tr th:only-of-type {\n",
       "        vertical-align: middle;\n",
       "    }\n",
       "\n",
       "    .dataframe tbody tr th {\n",
       "        vertical-align: top;\n",
       "    }\n",
       "\n",
       "    .dataframe thead th {\n",
       "        text-align: right;\n",
       "    }\n",
       "</style>\n",
       "<table border=\"1\" class=\"dataframe\">\n",
       "  <thead>\n",
       "    <tr style=\"text-align: right;\">\n",
       "      <th></th>\n",
       "      <th>title</th>\n",
       "      <th>original</th>\n",
       "      <th>category</th>\n",
       "      <th>clean</th>\n",
       "      <th>stemmed</th>\n",
       "      <th>lemmatized</th>\n",
       "    </tr>\n",
       "  </thead>\n",
       "  <tbody>\n",
       "    <tr>\n",
       "      <th>0</th>\n",
       "      <td>Yashasvi Jaiswal's reaction to Virat Kohli's p...</td>\n",
       "      <td>RR opener Yashasvi Jaiswal's reaction to Virat...</td>\n",
       "      <td>sports</td>\n",
       "      <td>rr opener yashasvi jaiswal ' reaction virat ko...</td>\n",
       "      <td>rr open yashasvi jaiswal ' reaction virat kohl...</td>\n",
       "      <td>rr open yashasvi jaiswal ' reaction virat kohl...</td>\n",
       "    </tr>\n",
       "    <tr>\n",
       "      <th>1</th>\n",
       "      <td>I don't sledge someone upfront, not my habit: ...</td>\n",
       "      <td>LSG fast bowler Naveen-ul-Haq, in an interacti...</td>\n",
       "      <td>sports</td>\n",
       "      <td>lsg fast bowler naveenulhaq interaction teamma...</td>\n",
       "      <td>lsg fast bowler naveenulhaq interact teammat a...</td>\n",
       "      <td>lsg fast bowler naveenulhaq interact teammat a...</td>\n",
       "    </tr>\n",
       "    <tr>\n",
       "      <th>2</th>\n",
       "      <td>Table-toppers GT to bowl first against MI, bot...</td>\n",
       "      <td>Table-toppers Gujarat Titans (GT) captain Hard...</td>\n",
       "      <td>sports</td>\n",
       "      <td>tabletoppers gujarat titans gt captain hardik ...</td>\n",
       "      <td>tabletopp gujarat titan gt captain hardik pand...</td>\n",
       "      <td>tabletopp gujarat titan gt captain hardik pand...</td>\n",
       "    </tr>\n",
       "    <tr>\n",
       "      <th>3</th>\n",
       "      <td>Jos Buttler fined 10% of match fee for breachi...</td>\n",
       "      <td>RR opener Jos Buttler has been fined 10% of hi...</td>\n",
       "      <td>sports</td>\n",
       "      <td>rr opener jos buttler fined 10 match fee breac...</td>\n",
       "      <td>rr open jo buttler fine 10 match fee breach ip...</td>\n",
       "      <td>rr open jo buttler fine 10 match fee breach ip...</td>\n",
       "    </tr>\n",
       "    <tr>\n",
       "      <th>4</th>\n",
       "      <td>KL Rahul shares 'Doff the cap' GIF for Yashasv...</td>\n",
       "      <td>KL Rahul took to Twitter to share a 'Doff the ...</td>\n",
       "      <td>sports</td>\n",
       "      <td>kl rahul took twitter share ' doff cap ' gif m...</td>\n",
       "      <td>kl rahul took twitter share ' doff cap ' gif m...</td>\n",
       "      <td>kl rahul took twitter share ' doff cap ' gif m...</td>\n",
       "    </tr>\n",
       "    <tr>\n",
       "      <th>...</th>\n",
       "      <td>...</td>\n",
       "      <td>...</td>\n",
       "      <td>...</td>\n",
       "      <td>...</td>\n",
       "      <td>...</td>\n",
       "      <td>...</td>\n",
       "    </tr>\n",
       "    <tr>\n",
       "      <th>20</th>\n",
       "      <td>The girl went through hell, it needs to be tol...</td>\n",
       "      <td>After Asaram Bapu sent a legal notice to maker...</td>\n",
       "      <td>entertainment</td>\n",
       "      <td>asaram bapu sent legal notice makers ' sirf ek...</td>\n",
       "      <td>asaram bapu sent legal notic maker ' sirf ek b...</td>\n",
       "      <td>asaram bapu sent legal notic maker ' sirf ek b...</td>\n",
       "    </tr>\n",
       "    <tr>\n",
       "      <th>21</th>\n",
       "      <td>Team of 'The Kerala Story' to attend BJP's 'ya...</td>\n",
       "      <td>The team of 'The Kerala Story' movie will be a...</td>\n",
       "      <td>entertainment</td>\n",
       "      <td>team ' kerala story ' movie attending bjp ' ' ...</td>\n",
       "      <td>team ' kerala stori ' movi attend bjp ' ' hind...</td>\n",
       "      <td>team ' kerala stori ' movi attend bjp ' ' hind...</td>\n",
       "    </tr>\n",
       "    <tr>\n",
       "      <th>22</th>\n",
       "      <td>This baby is planned, says Robert De Niro on 7...</td>\n",
       "      <td>Actor Robert De Niro, who recently announced t...</td>\n",
       "      <td>entertainment</td>\n",
       "      <td>actor robert de niro recently announced birth ...</td>\n",
       "      <td>actor robert de niro recent announc birth seve...</td>\n",
       "      <td>actor robert de niro recent announc birth seve...</td>\n",
       "    </tr>\n",
       "    <tr>\n",
       "      <th>23</th>\n",
       "      <td>I'm busy, don't have time for 'Come, let's gos...</td>\n",
       "      <td>Actress Kavita Kaushik has said that she has b...</td>\n",
       "      <td>entertainment</td>\n",
       "      <td>actress kavita kaushik said busy creatively ac...</td>\n",
       "      <td>actress kavita kaushik said busi creativ activ...</td>\n",
       "      <td>actress kavita kaushik said busi creativ activ...</td>\n",
       "    </tr>\n",
       "    <tr>\n",
       "      <th>24</th>\n",
       "      <td>Actors' fees should be realistic to not affect...</td>\n",
       "      <td>Actress Yami Gautam, in an interview, said tha...</td>\n",
       "      <td>entertainment</td>\n",
       "      <td>actress yami gautam interview said hopes fee c...</td>\n",
       "      <td>actress yami gautam interview said hope fee co...</td>\n",
       "      <td>actress yami gautam interview said hope fee co...</td>\n",
       "    </tr>\n",
       "  </tbody>\n",
       "</table>\n",
       "<p>100 rows × 6 columns</p>\n",
       "</div>"
      ],
      "text/plain": [
       "                                                title  \\\n",
       "0   Yashasvi Jaiswal's reaction to Virat Kohli's p...   \n",
       "1   I don't sledge someone upfront, not my habit: ...   \n",
       "2   Table-toppers GT to bowl first against MI, bot...   \n",
       "3   Jos Buttler fined 10% of match fee for breachi...   \n",
       "4   KL Rahul shares 'Doff the cap' GIF for Yashasv...   \n",
       "..                                                ...   \n",
       "20  The girl went through hell, it needs to be tol...   \n",
       "21  Team of 'The Kerala Story' to attend BJP's 'ya...   \n",
       "22  This baby is planned, says Robert De Niro on 7...   \n",
       "23  I'm busy, don't have time for 'Come, let's gos...   \n",
       "24  Actors' fees should be realistic to not affect...   \n",
       "\n",
       "                                             original       category  \\\n",
       "0   RR opener Yashasvi Jaiswal's reaction to Virat...         sports   \n",
       "1   LSG fast bowler Naveen-ul-Haq, in an interacti...         sports   \n",
       "2   Table-toppers Gujarat Titans (GT) captain Hard...         sports   \n",
       "3   RR opener Jos Buttler has been fined 10% of hi...         sports   \n",
       "4   KL Rahul took to Twitter to share a 'Doff the ...         sports   \n",
       "..                                                ...            ...   \n",
       "20  After Asaram Bapu sent a legal notice to maker...  entertainment   \n",
       "21  The team of 'The Kerala Story' movie will be a...  entertainment   \n",
       "22  Actor Robert De Niro, who recently announced t...  entertainment   \n",
       "23  Actress Kavita Kaushik has said that she has b...  entertainment   \n",
       "24  Actress Yami Gautam, in an interview, said tha...  entertainment   \n",
       "\n",
       "                                                clean  \\\n",
       "0   rr opener yashasvi jaiswal ' reaction virat ko...   \n",
       "1   lsg fast bowler naveenulhaq interaction teamma...   \n",
       "2   tabletoppers gujarat titans gt captain hardik ...   \n",
       "3   rr opener jos buttler fined 10 match fee breac...   \n",
       "4   kl rahul took twitter share ' doff cap ' gif m...   \n",
       "..                                                ...   \n",
       "20  asaram bapu sent legal notice makers ' sirf ek...   \n",
       "21  team ' kerala story ' movie attending bjp ' ' ...   \n",
       "22  actor robert de niro recently announced birth ...   \n",
       "23  actress kavita kaushik said busy creatively ac...   \n",
       "24  actress yami gautam interview said hopes fee c...   \n",
       "\n",
       "                                              stemmed  \\\n",
       "0   rr open yashasvi jaiswal ' reaction virat kohl...   \n",
       "1   lsg fast bowler naveenulhaq interact teammat a...   \n",
       "2   tabletopp gujarat titan gt captain hardik pand...   \n",
       "3   rr open jo buttler fine 10 match fee breach ip...   \n",
       "4   kl rahul took twitter share ' doff cap ' gif m...   \n",
       "..                                                ...   \n",
       "20  asaram bapu sent legal notic maker ' sirf ek b...   \n",
       "21  team ' kerala stori ' movi attend bjp ' ' hind...   \n",
       "22  actor robert de niro recent announc birth seve...   \n",
       "23  actress kavita kaushik said busi creativ activ...   \n",
       "24  actress yami gautam interview said hope fee co...   \n",
       "\n",
       "                                           lemmatized  \n",
       "0   rr open yashasvi jaiswal ' reaction virat kohl...  \n",
       "1   lsg fast bowler naveenulhaq interact teammat a...  \n",
       "2   tabletopp gujarat titan gt captain hardik pand...  \n",
       "3   rr open jo buttler fine 10 match fee breach ip...  \n",
       "4   kl rahul took twitter share ' doff cap ' gif m...  \n",
       "..                                                ...  \n",
       "20  asaram bapu sent legal notic maker ' sirf ek b...  \n",
       "21  team ' kerala stori ' movi attend bjp ' ' hind...  \n",
       "22  actor robert de niro recent announc birth seve...  \n",
       "23  actress kavita kaushik said busi creativ activ...  \n",
       "24  actress yami gautam interview said hope fee co...  \n",
       "\n",
       "[100 rows x 6 columns]"
      ]
     },
     "execution_count": 51,
     "metadata": {},
     "output_type": "execute_result"
    }
   ],
   "source": [
    "news_cleaned = transform_data(news_df)\n",
    "news_cleaned"
   ]
  }
 ],
 "metadata": {
  "kernelspec": {
   "display_name": "Python 3 (ipykernel)",
   "language": "python",
   "name": "python3"
  },
  "language_info": {
   "codemirror_mode": {
    "name": "ipython",
    "version": 3
   },
   "file_extension": ".py",
   "mimetype": "text/x-python",
   "name": "python",
   "nbconvert_exporter": "python",
   "pygments_lexer": "ipython3",
   "version": "3.9.13"
  }
 },
 "nbformat": 4,
 "nbformat_minor": 5
}
