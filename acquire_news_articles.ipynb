{
 "cells": [
  {
   "cell_type": "code",
   "execution_count": 1,
   "id": "1aee8a08",
   "metadata": {},
   "outputs": [],
   "source": [
    "from requests import get\n",
    "from bs4 import BeautifulSoup\n",
    "import os\n",
    "import requests\n",
    "import itertools\n",
    "import pandas as pd"
   ]
  },
  {
   "cell_type": "code",
   "execution_count": 2,
   "id": "669ad175",
   "metadata": {},
   "outputs": [],
   "source": [
    "import acquire_news_articles as na"
   ]
  },
  {
   "cell_type": "code",
   "execution_count": 12,
   "id": "d70231ae",
   "metadata": {},
   "outputs": [],
   "source": [
    "article_list = na.get_news_articles()"
   ]
  },
  {
   "cell_type": "code",
   "execution_count": 13,
   "id": "88cab641",
   "metadata": {},
   "outputs": [
    {
     "data": {
      "text/plain": [
       "[[{'title': \"RR's Yashasvi Jaiswal smashes fastest fifty in IPL history\",\n",
       "   'content': 'Rajasthan Royals (RR) opener Yashasvi Jaiswal on Thursday broke the record for slamming the fastest fifty in the history of IPL. The 21-year-old reached his half-century off 13 deliveries against Kolkata Knight Riders (KKR) at Eden Gardens in Kolkata. The previous record was jointly held by KL Rahul and Pat Cummins, who had taken 14 deliveries each.\\n\\n\\n\\n\\n\\n',\n",
       "   'category': 'sports'},\n",
       "  {'title': \"Jadeja likes 'Trauma' tweet that criticised CSK fans wanting him to get out to see Dhoni\",\n",
       "   'content': 'CSK\\'s Ravindra Jadeja liked a tweet that criticised CSK fans wanting him to get out to see MS Dhoni bat. Referring to Jadeja\\'s remark that CSK fans wait for him to get out, the tweet stated, \"Jaddu saying this with...smile...but lot of pain inside...it\\'s...trauma! Imagine your own team spectators not supporting you...Criticising you even after...three Man of the Match [awards]!\"',\n",
       "   'category': 'sports'},\n",
       "  {'title': 'I keep hearing chants for Mahi bhai, crowd waits for me to get out: Ravindra Jadeja',\n",
       "   'content': 'On being asked whether he\\'d want to bat higher for CSK, all-rounder Ravindra Jadeja said, \"When I bat after MS Dhoni...crowd keeps chanting for Mahi bhai.\" He added, \"When I bat before him, the crowd waits for me to get out [so that Dhoni can come to bat].\" He further said, \"As long as the team wins, I\\'m happy.\"',\n",
       "   'category': 'sports'},\n",
       "  {'title': \"I came home crying, shaved my head: KKR's Suyash Sharma on U-19 trials snub\",\n",
       "   'content': 'Talking about not being selected after giving trials for Under-19 last year, KKR\\'s Suyash Sharma said, \"I came home crying and shaved my head.\" He added, \"I was quite disappointed. Couldn’t believe despite doing well...this was happening to me.\" He further said, “I vowed to work on my skills so much so that one day...they will call me up themselves.\"',\n",
       "   'category': 'sports'},\n",
       "  {'title': \"RR to bowl first against KKR, Trent Boult returns to RR's playing XI\",\n",
       "   'content': 'Rajasthan Royals (RR) captain Sanju Samson won the toss and elected to bowl first against Kolkata Knight Riders (KKR) in their IPL 2023 match on Thursday. KKR have won their previous two matches, while RR have suffered three defeats in a row in the tournament. RR have included Trent Boult and KM Asif in their playing XI.',\n",
       "   'category': 'sports'},\n",
       "  {'title': 'Yuzvendra Chahal creates history, takes most wickets in IPL',\n",
       "   'content': 'RR leg-spinner Yuzvendra Chahal has created history by becoming the highest wicket-taker in IPL. By dismissing KKR captain Nitish Rana in their IPL 2023 match on Thursday, Chahal took his tally of wickets in IPL to 184. He overtook Dwayne Bravo, who was the previous highest wicket-taker in IPL with 183 scalps.',\n",
       "   'category': 'sports'},\n",
       "  {'title': \"'Mera Meme Bana Diya' song fits perfectly with my knock: Tewatia on his 5 sixes in 1 over\",\n",
       "   'content': 'On being asked about his five sixes in an over for RR against KXIP in IPL 2020, GT all-rounder Rahul Tewatia said, \"I like watching videos of my performances from...past.\"  Referring to an edited video of his knock which had \\'Edit Karke Image Tune Mera Meme Bana Diya\\' song in background, Tewatia said, \"It fits perfectly with the innings.\"',\n",
       "   'category': 'sports'},\n",
       "  {'title': 'Glenn Maxwell, wife Vini Raman expecting rainbow baby, share pic of ultrasound',\n",
       "   'content': 'Australia all-rounder Glenn Maxwell and his wife Vini Raman took to Instagram to announce their rainbow baby is due in September 2023. Sharing picture of an ultrasound, Vini wrote, \"It\\'s so important for us to acknowledge this journey hasn\\'t been...smoothest or easiest.\" Notably, rainbow baby is a term coined for baby born after miscarriage, stillbirth or loss of an infant.',\n",
       "   'category': 'sports'},\n",
       "  {'title': 'ICC releases annual ODI rankings, Pakistan overtake India to take 2nd spot',\n",
       "   'content': 'The ICC on Thursday released the annual ODI rankings, with Pakistan overtaking India to be ranked second. Australia retained their number one spot with 118 rating points, while Pakistan are second with 116 points and India are third with 115 points. The finalists of 2019 World Cup, New Zealand and England, are ranked fourth and fifth, respectively.',\n",
       "   'category': 'sports'},\n",
       "  {'title': \"It's all lies: Ronaldo's mother on\\xa0reports of his relationship problems with girlfriend\",\n",
       "   'content': 'Cristiano Ronaldo\\'s mother Dolores has refuted rumours of relationship problems between Ronaldo and his girlfriend Georgina Rodriguez. \"It’s all lies...Every couple argues, but what’s been written is a lie,\" Dolores said. Earlier, Georgina, in an Instagram post, had said, \"The jealous one invents a rumour, the gossipy one spreads it and the idiot believes it.\"',\n",
       "   'category': 'sports'},\n",
       "  {'title': \"Dad said 'People taunted me a lot, you shut them up': RR's Jurel\",\n",
       "   'content': 'Sharing his father\\'s reaction following his 34 off 15 balls against CSK, RR\\'s Dhruv Jurel said, \"My father said, \\'People taunted me a lot that I\\'m spoiling your life by not forcing you to study but you shut everyone up\\'.\" \"My parents were very emotional,\" added Jurel. \"When my gloves would tear, papa would stitch...by hand,\" Jurel had earlier stated.',\n",
       "   'category': 'sports'},\n",
       "  {'title': \"Yelled as loud as I can, everyone only heard 'Dhoni, Dhoni': Boult\",\n",
       "   'content': 'RR\\'s Trent Boult said he tried to yell as loudly as he could during his team\\'s huddle before taking the field in the recent IPL 2023 match against CSK. \"Everyone could only hear, \\'Dhoni, Dhoni\\' getting screamed across the ground,\" added Boult. The pacer termed Sanju Samson as \"quite funny\", adding that Yuzvendra Chahal\\'s the heartbeat of their dressing room.',\n",
       "   'category': 'sports'},\n",
       "  {'title': 'Harsha compares facing CSK at Chepauk to a spider inviting a fly',\n",
       "   'content': 'Talking about facing MS Dhoni-led CSK on a slow turner at Chepauk Stadium, commentator Harsha Bhogle tweeted, \"[It\\'s] like a spider inviting a fly.\" \"Hopefully, the spider doesn\\'t get caught in its own web,\" read a reaction. Ex-India cricketer Irfan Pathan had earlier stated that Dhoni \"closes the door\" of the stadium, \"thrashes the opposition\" mercilessly in CSK\\'s home matches.',\n",
       "   'category': 'sports'},\n",
       "  {'title': \"MSD told Jadeja 'Wrist's dropping, you're undercutting': Dasgupta\",\n",
       "   'content': 'Ex-India cricketer Deep Dasgupta said MS Dhoni spoke to Ravindra Jadeja throughout the second innings in CSK\\'s IPL 2023 match against DC. \"Dhoni said that Jadeja\\'s wrist is dropping and he is undercutting,\" he added. Discussing DC opener Phil Salt\\'s dismissal, Dasgupta stated, \"Every time Phil sees the ball swinging...he charges. Before he could do that, MS was up there.\"',\n",
       "   'category': 'sports'},\n",
       "  {'title': \"You'll never win if there are 34 dot balls: Ponting on DC's loss\",\n",
       "   'content': 'DC head coach Ricky Ponting said there were 34 dot balls during DC\\'s chase against CSK, adding that a team can never win while chasing down a target if there are so many dot balls. \"This match marked the...seventh time this season where we\\'ve lost a wicket in the game\\'s first over...We didn\\'t show any urgency against spinners,\" he stated.',\n",
       "   'category': 'sports'},\n",
       "  {'title': \"Few T20 cameos won't make SKY a great ODI player: Sivaramakrishnan\",\n",
       "   'content': 'Reacting to his earlier tweet where he had termed Suryakumar Yadav as a great example of only certain players being protected, ex-India spinner Laxman Sivaramakrishnan tweeted, \"I still stand by it.\" \"A few cameos in T20s...[won\\'t] make Suryakumar a great player [in] ODIs,\" added Sivaramakrishnan. \"You can\\'t pick a player based on T20 performance for all formats,\" he\\'d earlier tweeted.',\n",
       "   'category': 'sports'},\n",
       "  {'title': \"Ganguly keeps switching seats if we are struggling: DC's Ponting\",\n",
       "   'content': 'DC head coach Ricky Ponting said DC\\'s Director of Cricket Sourav Ganguly keeps switching his seat in case the team isn\\'t performing well during a game. \"When things start to turn, he comes back and sits next to me,\" added Ponting. \"He...doesn\\'t show it as much...as I do but he\\'s just as nervous as most of us,\" he stated.',\n",
       "   'category': 'sports'},\n",
       "  {'title': 'No one manages spinners better than Dhoni on slow pitch: Irfan',\n",
       "   'content': 'Ex-India all-rounder Irfan Pathan praised MS Dhoni for the way he managed his spinners in the Chennai Super Kings (CSK) match against Delhi Capitals (DC) on Wednesday. \"If it\\'s a slow pitch, no one manages the spinners better than Dhoni,\" Irfan said. He added that Dhoni wasn\\'t only involved in managing his bowlers but also in formulating strategies with them. ',\n",
       "   'category': 'sports'},\n",
       "  {'title': \"His journey is a life lesson: Harbhajan on KKR's Rinku Singh\",\n",
       "   'content': 'Former India cricketer Harbhajan Singh said KKR\\'s Rinku Singh\\'s journey is a life lesson and all young kids should learn from him. \"He\\'s such an inspirational player. He has run all the hard yards and worked very hard to get to where he\\'s today,\" Harbhajan added. He further stated, \"That India cap is not far away from Rinku Singh\\'s head.\"',\n",
       "   'category': 'sports'},\n",
       "  {'title': \"Protesting wrestlers wear black bands, call it a 'Black Day'\",\n",
       "   'content': \"Wrestlers protesting against the alleged sexual harassment by WFI chief Brij Bhushan Singh wore black bands on Thursday as a mark of protest and called it a 'Black Day'. Vinesh Phogat, Bajrang Punia, Sakshee Malikkh and Satyawart Kadian were spotted wearing black bands on their foreheads, while some supporters wore them on their arms. \",\n",
       "   'category': 'sports'},\n",
       "  {'title': \"He will be more impactful in new franchise: Daren on KKR's Narine\",\n",
       "   'content': 'Former West Indies captain Daren Ganga, while talking about KKR spinner Sunil Narine\\'s form in IPL 2023, said the latter should change his franchise to freshen up and be more impactful. He added that Narine is still a \"formidable force\" and has been \"consistent with line and lengths\". Narine is playing for KKR since 2012.',\n",
       "   'category': 'sports'},\n",
       "  {'title': 'Village kid playing in chaddi baniyan now finisher in IPL: Tewatia',\n",
       "   'content': 'Speaking about his journey in the IPL, GT all-rounder Rahul Tewatia said, \"A kid from...village, playing in \\'chaddi baniyan\\' on...streets, is now playing the role of a finisher in an IPL team.\" On being asked if he still dreams of playing for India, Tewatia stated that dream has been there \"since I was a kid watching cricket on television\".\\n\\n\\n\\n',\n",
       "   'category': 'sports'},\n",
       "  {'title': \"He should fix knee & return next year: Harbhajan on Dhoni's injury\",\n",
       "   'content': 'Talking about CSK captain MS Dhoni\\'s injury, ex-India cricketer Harbhajan Singh said the former should \"fix that knee and come back next year\". \"Whatever the talk is going on over this being Dhoni\\'s last season, I think that should be put to rest,\" Singh stated. Dhoni was seen limping while running between the wickets in the match against DC.\\n',\n",
       "   'category': 'sports'},\n",
       "  {'title': 'MS Dhoni has found his best again this season of IPL: Graeme Smith',\n",
       "   'content': 'Ex-South Africa captain Graeme Smith said there\\'s \"enormous pressure\" on CSK captain MS Dhoni every time he goes to bat. \"The roars every time he gets on strike, and the crowd goes berserk. It\\'s incredible to watch [and] this IPL season he has found his best again,\" Smith added. Dhoni scored 20 runs off nine balls against DC on Wednesday.',\n",
       "   'category': 'sports'},\n",
       "  {'title': \"Zlatan said 'I live on building top so God can look over': Tomori\",\n",
       "   'content': 'Recalling his conversation with Zlatan Ibrahimović, AC Milan defender Fikayo Tomori said, \"He...[asked] me where I lived...It was actually a building close to his.\" The defender stated that Ibrahimović said he lived at the top of his building so that \"God can look over the city\". \"I remember thinking, \\'So, this is the Zlatan I...[saw] on social media!\" said Tomori.',\n",
       "   'category': 'sports'}],\n",
       " [{'title': 'Video shows moment cake is thrown at Porsche Chairman during meeting',\n",
       "   'content': \"A video captured the moment a cake was thrown at Porsche SE Chairman, Wolfgang Porsche, during parent company Volkswagen's shareholder meeting in Berlin. It also sent bits flying toward Volkswagen supervisory board Chairman Hans Dieter Poetsch. An activist threw the cake in protest against Volkswagen's factory in China's Xinjiang, accusing the company of ignoring human rights abuses in the region.\",\n",
       "   'category': 'business'},\n",
       "  {'title': 'Pakistan rupee falls to all-time low of 300 a US dollar',\n",
       "   'content': \"Pakistan's rupee slumped to a new record low of 300 a US dollar on Thursday. The fall comes amid the military stepping in to squash violent protests that erupted after former Prime Minister Imran Khan's arrest this week. Dollar bonds due 2031 rose from the lowest since November and were indicated at 33.44 cents on the dollar.\",\n",
       "   'category': 'business'},\n",
       "  {'title': \"Dr Reddy's stock falls 7% after Q4 result, is Nifty 50's top loser\",\n",
       "   'content': \"Dr Reddy's Laboratories' shares fell nearly 7% on NSE and were the top loser on the Nifty 50 index on Thursday after analysts cut ratings and estimates after the company's fourth-quarter profit missed estimates. Dr Reddy's Laboratories' stock was trading 6.81% lower at ₹4,552/share at 3:03 pm on NSE. Its net profit rose to ₹960 crore in the March quarter.\\n\\n\\n\",\n",
       "   'category': 'business'},\n",
       "  {'title': \"Who is Robyn Grew, Man Group's first female CEO in 240 years?\",\n",
       "   'content': 'London-based Man Group, the largest publicly listed hedge fund, appointed 54-year-old Robyn Grew as its first female CEO in 240 years. Currently the Group President, Robyn is a qualified barrister who attended Coventry University to study business law and Bar School in London. She has worked in the investment industry since 1994 with companies like Lehman Brothers and Barclays Capital.',\n",
       "   'category': 'business'},\n",
       "  {'title': 'Bank of England raises lending rates to 4.5% in 12th straight hike',\n",
       "   'content': 'Bank of England (BoE) raised its benchmark lending rate to 4.5%, the highest level since 2008. This is the 12th straight hike as the BoE is fighting double-digit price increases. BoE no longer predicts recession after it revised up its growth forecasts from gloomy numbers released in February, the biggest such improvement since it first published forecasts in 1997.',\n",
       "   'category': 'business'},\n",
       "  {'title': 'Wells Fargo ex-VP in US invited female employee to shower with him: Lawsuit',\n",
       "   'content': 'Carl Nelson, a former Senior VP at financial services company Wells Fargo, invited a female subordinate to his house to \"exercise and shower with him\", according to a lawsuit filed in the Los Angeles Superior Court. He allegedly gave her unwanted massages because she \"looked tense\". Nelson also threatened to deny her job opportunities if she didn\\'t date him.',\n",
       "   'category': 'business'},\n",
       "  {'title': 'UK blocks Microsoft, Activision from buying interest in each other',\n",
       "   'content': \"UK's Competition and Markets Authority (CMA) published an interim order on Thursday that restricts Microsoft and 'Call of Duty' maker Activision Blizzard from acquiring an interest in each other without its consent. This comes weeks after the competition regulator blocked Microsoft's $69-billion acquisition of Activision. The deal was blocked over concerns it'd affect competition in cloud gaming.\",\n",
       "   'category': 'business'},\n",
       "  {'title': 'Peloton recalls 2 mn exercise bikes over seat post breaking issue',\n",
       "   'content': 'US-based exercise equipment firm Peloton has recalled 20 lakh exercise bikes in the US over the possibility of the seat post breaking while in use, the US Consumer Product Safety Commission (CPSC) said. The firm has received 35 reports of the seat post breaking and detaching from the bike during use. There have been 13 reports of injuries.',\n",
       "   'category': 'business'},\n",
       "  {'title': 'Joining ONDC will become market compulsion for e-comm giants: CEO',\n",
       "   'content': 'Open Network for Digital Commerce (ONDC) CEO T Koshy said it will become a \"market compulsion\" for e-commerce giants like Amazon and Flipkart to join the government-backed network. \"As a policy, we encourage everyone to come to ONDC with their main platforms...We never force anyone to do anything...In the long run, our intention is to bring everyone onboard,\" Koshy said.\\n',\n",
       "   'category': 'business'},\n",
       "  {'title': 'Karnataka HC quashes GST notice of ₹21,000-cr against Gameskraft',\n",
       "   'content': 'The Karnataka High Court on Thursday quashed a GST notice against Bengaluru-based online gaming company Gameskraft Technology for alleged evasion of ₹21,000 crore, the biggest such claim in the history of indirect taxation. In September 2022, a GST intelligence unit issued a show-cause notice to Gameskraft for the alleged evasion. Gameskraft was also accused of promoting online betting.\\n',\n",
       "   'category': 'business'},\n",
       "  {'title': \"Can't simply restart investments, need to evaluate: SoftBank CFO \",\n",
       "   'content': 'SoftBank CFO Yoshimitsu Goto said while the company has seen signs of improvement in the last three months, it \"can\\'t simply restart investments\". He stated that SoftBank would look at the ongoing \"technological evolution\" and invest in AI-related opportunities. \"It\\'s not that we will only invest in generative AI, but AI is kind of our main focus,\" he added.',\n",
       "   'category': 'business'},\n",
       "  {'title': 'BharatPe is a $3 bn write-off, value destroyed by Rajnish: Grover',\n",
       "   'content': 'After the Delhi Police Economic Offences Wing registered an FIR against Ashneer Grover and his family, the BharatPe Co-founder said the company is a $3 billion write-off and its value has been destroyed by Chairman Rajnish Kumar. \"I\\'ve said earlier also that hiring him (Kumar) was my mistake...The company has seen zero growth...since I left BharatPe,\" Grover told Moneycontrol.\\n',\n",
       "   'category': 'business'},\n",
       "  {'title': 'ONDC caps incentives for sellers amid surge in orders',\n",
       "   'content': 'The government-backed Open Network for Digital Commerce (ONDC) has capped incentives for seller-side apps amid a surge in daily orders. An incentive of up to ₹75, which was being provided for logistics-related costs for every eligible order, has been capped at a maximum of ₹2.25 lakh per seller-side app per day. ONDC has also made changes related to hyperlocal deliveries.',\n",
       "   'category': 'business'},\n",
       "  {'title': 'Emirates Group reports record annual profit of $3 bn in 2022-23',\n",
       "   'content': 'Dubai\\'s Emirates Group has reported a record annual profit of $3 billion in 2022-23. Its revenue increased 81% to $32.6 billion. Emirates airline also reported its most profitable year ever with a profit of $ 2.9 billion. The airline had made a \"full recovery\" since the hit to demand caused by COVID-19, CEO Sheikh Ahmed bin Saeed Al Maktoum said.',\n",
       "   'category': 'business'},\n",
       "  {'title': \"Billionaire Icahn's firm failed to address key issues: Hindenburg\",\n",
       "   'content': 'Hindenburg Research has said that billionaire Carl Icahn\\'s investment firm Icahn Enterprises LP (IEP) has failed to address every key issue it had raised. The short seller has initiated a short position in IEP bonds. Earlier, Icahn called Hindenburg\\'s report against his firm \"self-serving\" and vowed to take all appropriate steps to \"fight back\".',\n",
       "   'category': 'business'},\n",
       "  {'title': 'Weekly jobless claims in US jump to highest level since late 2021',\n",
       "   'content': \"The amount of Americans filing new claims for jobless benefits rose to its highest level since October 2021 last week. The labor department's data showed that initial claims for state unemployment benefits increased 22,000 to a seasonally adjusted 2,64,000 for the week ended May 6. The Federal Reserve raised its benchmark interest rate to a 16-year high earlier this month.\",\n",
       "   'category': 'business'},\n",
       "  {'title': \"Gautam Adani's 3 firms planning to raise $5 billion: Report\",\n",
       "   'content': \"Billionaire Gautam Adani-led three companies are planning to raise funds up to $5 billion, Bloomberg reported. The board of Adani Enterprises, Adani Green Energy and Adani Transmission will meet on Saturday to discuss a fundraise via sale of shares or other securities, an exchange filing stated. Earlier this year, Adani Group's market value dipped following a report from Hindenburg Research.\",\n",
       "   'category': 'business'},\n",
       "  {'title': 'Govt lowers GST e-invoicing threshold to ₹5 crore from Aug 1',\n",
       "   'content': 'The government said that e-invoicing will be required from registered entities with an annual turnover of ₹5 crore from August 1, 2023. This move is a part of the phased reduction in the turnover limit for e-invoicing. Earlier, this limit was fixed at ₹10 crore, as per the official notification issued in August 2022.',\n",
       "   'category': 'business'},\n",
       "  {'title': 'Too early for Fed to declare victory on inflation: US billionaire',\n",
       "   'content': 'US billionaire David Rubenstein has warned it\\'s too early for the US Federal Reserve to declare victory on inflation after several rate increases in the past year. \"It\\'s premature to have rate cuts this summer,\" Rubenstein said. \"The Fed has said its target is 2% inflation. There\\'s no way in the world you get to 2% this summer,\" he added.',\n",
       "   'category': 'business'},\n",
       "  {'title': 'Asian Paints net profit rises 45% to ₹1,268 crore in Q4',\n",
       "   'content': 'The net profit of Asian Paints jumped 45.11% to ₹1,268.41 crore for the quarter ended March 31, 2023. The Mumbai-headquartered company had reported a net profit of ₹874.05 crore in the year-ago quarter. Its revenue from sales went up 10.91% to ₹8,750.85 crore, while its revenue from operations rose 11.33% to ₹8,787.34 crore in quarter four.',\n",
       "   'category': 'business'},\n",
       "  {'title': 'Burning Yeezy shoes sitting in storage not a solution: Adidas CEO',\n",
       "   'content': 'Adidas CEO Bjoern Gulden has said that the firm will sell some of the merchandise from its defunct Yeezy partnership with rapper Kanye West and that burning the shoes sitting in storage would not be a solution. Millions of Yeezy shoes, having a retail value of $1.3 billion, are in storage after their sale was put on hold. ',\n",
       "   'category': 'business'},\n",
       "  {'title': 'METRO Cash & Carry completes ₹2,850 cr deal with Reliance Retail',\n",
       "   'content': 'German retailer METRO AG announced the completion of the sale of its Indian business to Reliance Retail Ventures for ₹2,850 crore. The deal includes all 31 wholesale stores operated by METRO Cash & Carry India and the entire real estate portfolio to Reliance. All METRO India stores will continue to operate under the METRO brand during the agreed transition period.',\n",
       "   'category': 'business'},\n",
       "  {'title': \"We need crew to stick to us to restart operations: Go First's IRP\",\n",
       "   'content': 'Go First\\'s IRP Abhilash Lal, on Thursday, reassured the airline\\'s employees that all steps are being taken to ensure that it resumes operations soon. \"Go First cannot restart without a crew...we need all of you to stick with us while we figure out how to restart operations,\" Lal was quoted as saying by an employee who spoke to Moneycontrol.',\n",
       "   'category': 'business'},\n",
       "  {'title': 'NIIF appoints COO Rajiv Dhar as interim CEO, MD',\n",
       "   'content': \"National Investment and Infrastructure Fund (NIIF), an investment platform for international and Indian investors, has appointed COO Rajiv Dhar as the MD and CEO of the company on interim basis. The succession follows Sujoy Bose's request to relieve him from his responsibilities as MD and CEO, the company said. Dhar has been part of NIIF since 2017.\",\n",
       "   'category': 'business'},\n",
       "  {'title': 'McD sued for $15,000 after its food allegedly burns 4-yr-old in US',\n",
       "   'content': \"McDonald's has been sued for $15,000 in the US by the parents of a four-year-old after their daughter allegedly suffered second-degree burns due to the outlet's chicken nugget in 2019. The incident reportedly occurred when they bought a 'Chicken McNugget' meal at a drive-thru. The McNugget dropped and got wedged between her thigh and the seatbelt for approximately two minutes.\",\n",
       "   'category': 'business'}],\n",
       " [{'title': \"Rashmika trolled for promoting chicken in ad, Twitter user says 'Isn't she vegetarian?'\",\n",
       "   'content': 'Rashmika Mandanna has been trolled for a burger brand\\'s advertisement, where she\\'s seen eating chicken. Several people pointed out that Rashmika earlier revealed she\\'s a vegetarian. \"Celebs and their hypocrisy,\" a person tweeted while another person wrote, \"Isn\\'t she vegetarian?\" However, another comment read, \"We all are humans, not perfect. We all have phases of eating vegetarian food.\"',\n",
       "   'category': 'entertainment'},\n",
       "  {'title': \"I don't give a f*** who he has dated: Priyanka Chopra on Nick Jonas' ex-girlfriends\",\n",
       "   'content': 'Priyanka Chopra revealed she never got bothered by husband Nick Jonas\\' dating history. \"I don\\'t give a f*** who he\\'s dated...We\\'re talking about the future...I don\\'t read my book backwards. I believe you go forward in your chapters,\" she said on Alex Cooper\\'s Call Her Daddy podcast. Nick\\'s exes reportedly include Miley Cyrus, Selena Gomez, Olivia Culpo and others.',\n",
       "   'category': 'entertainment'},\n",
       "  {'title': 'Beyoncé wears colour-changing dress during concert; video surfaces',\n",
       "   'content': 'Singer Beyoncé wore a colour-changing dress during her Renaissance World Tour. A clip from the tour\\'s opening night show held in Stockholm showed her plain-white costume changing colours through UV lights. Reddit Co-founder Alexis Ohanian reacted to the dress by tweeting, \"I was wondering when someone would incorporate this tech into a performance — leave it to Beyoncé.\"',\n",
       "   'category': 'entertainment'},\n",
       "  {'title': 'Deepika Padukone appears on TIME Magazine cover, pic released',\n",
       "   'content': 'Deepika Padukone has appeared on the cover of American news magazine TIME, with pictures of the same and from her magazine photoshoot being released online. \"The Global Star. Deepika Padukone is bringing the world to Bollywood,\" says the cover of the May edition of the magazine. Deepika also shared behind-the-scenes pictures from the shoot.',\n",
       "   'category': 'entertainment'},\n",
       "  {'title': \"'Taarak Mehta...' actress Jennifer accuses producer Asit of harassment, quits show\",\n",
       "   'content': 'TV actress Jennifer Mistry Bansiwal, who played the role of Mrs Roshan Sodhi on \\'Taarak Mehta Ka Ooltah Chashmah\\', has accused its producer Asit Modi of making \"sexual advances\" towards her \"many times\". The actress told ETimes she quit the show two months back and that she has filed a sexual harassment complaint against Modi and executive producer Jatin Bajaj.',\n",
       "   'category': 'entertainment'},\n",
       "  {'title': \"Deepika reacts to political backlash against her, says 'don’t feel anything about it'\",\n",
       "   'content': 'Deepika Padukone has reacted to the various political controversies and backlash against her and her movie roles in a TIME Magazine interview. \"I don\\'t know if I\\'m supposed to feel something about it. But the truth is, I don\\'t feel anything about it,\" said Deepika. Protests were held over her movies \\'Padmaavat\\' and \\'Pathaan\\'.',\n",
       "   'category': 'entertainment'},\n",
       "  {'title': \"Fought cancer, was told I had 2-3 years left: 'Rocky' actor Dolph Lundgren\",\n",
       "   'content': 'Dolph Lundgren, who was seen in films like \\'Rocky IV\\' and \\'The Expendables\\', has revealed he battled cancer and at one point was told that he had \"two to three years\" left. Lundgren revealed he was first diagnosed with a tumour in 2015. He underwent surgery to remove six tumours in 2020 but was diagnosed with a liver tumour again.',\n",
       "   'category': 'entertainment'},\n",
       "  {'title': \"TMKOC's Mandar reacts to Jennifer accusing producer of harassment\",\n",
       "   'content': 'Reacting to Jennifer Mistry Bansiwal accusing \\'Taarak Mehta Ka Ooltah Chashmah\\' producer Asit Modi of sexual harassment, her co-star Mandar Chandwadkar said, \"I\\'m wondering why did she do this. I\\'ve no clue about what happened between them.\" \"It\\'s a happy place with a healthy environment,\" he added, responding to Jennifer\\'s remark that \\'TMKOC\\' set is male chauvinistic.',\n",
       "   'category': 'entertainment'},\n",
       "  {'title': \"Complaint filed against Prabhas, Kriti Sanon's 'Adipurush' before Censor Board\",\n",
       "   'content': \"A complaint has been filed against Prabhas and Kriti Sanon's film 'Adipurush' before Censor Board. The complaint, filed by Sanatan Dharma Pracharak Sanjay Dinanath Tiwari, said if mistakes can be made at the time of poster and teaser releases, then such errors can also be in the film which might hurt religious sentiments. The complaint demanded a special screen test.\",\n",
       "   'category': 'entertainment'},\n",
       "  {'title': 'Gauahar Khan, Zaid Darbar blessed with a baby boy',\n",
       "   'content': 'Actress Gauahar Khan and her husband Zaid Darbar shared on Instagram that they have been blessed with a baby boy. \"Arrived 10th of May 2023 to make us realise what happiness truly means,\" their social media post read. The couple got married in December 2020 and announced that they were expecting two years later.',\n",
       "   'category': 'entertainment'},\n",
       "  {'title': \"Blackmail, cheap publicity: 'Taarak Mehta...' makers on Jennifer's harassment claims\",\n",
       "   'content': '\\'Taarak Mehta Ka Ooltah Chashmah\\' producer Asit Modi has called actress Jennifer Mistry Bansiwal\\'s sexual harassment allegation against him \"baseless\" and said he will take legal action against her for trying to defame him. The show\\'s project head Sohil Ramani said, \"She\\'s just doing it to blackmail us. It is for cheap publicity.\" Jennifer also named Ramani in her complaint.',\n",
       "   'category': 'entertainment'},\n",
       "  {'title': \"Decision to protect people of WB: TMC on banning 'Kerala Story'\",\n",
       "   'content': 'TMC leader Madan Mitra on Thursday said \\'The Kerala Story\\' was banned in West Bengal to protect the people of the state. \"Mamata Banerjee has no resentment against \\'The Kerala Story\\', but after some incidents in...the country, the decision...[was taken] for maintaining law and order,\" he said. On Wednesday, BJP workers protested in Siliguri against the ban on the movie.',\n",
       "   'category': 'entertainment'},\n",
       "  {'title': \"MP has withdrawn tax exemption to 'The Kerala...': Congress MP\",\n",
       "   'content': 'Congress Rajya Sabha MP Vivek Tankha has claimed that his advocate friends have told him that the Madhya Pradesh government has withdrawn the tax exemption given to the movie \\'The Kerala Story\\' and shared a picture of the order on the same. He called the decision \"prudent\" and added that the movie isn\\'t suitable for the youth.',\n",
       "   'category': 'entertainment'},\n",
       "  {'title': \"Can't attend parties & ask for work: Neha on being told to network\",\n",
       "   'content': 'Actress Neha Sharma revealed that in the beginning, she was advised to do networking to get work in Bollywood. \"It\\'s not something I can do. I\\'m an actor, I know how to act, I don\\'t know how to be, \\'Sir kaam de do,\\'\" she said. Neha shared that she did go to parties, but soon realised \\'networking\\' wasn\\'t her thing.',\n",
       "   'category': 'entertainment'},\n",
       "  {'title': \"Imagine Dragons films music video in war-torn Ukraine's front line\",\n",
       "   'content': \"Musical band Imagine Dragons has released a music video which it filmed on the front lines of war-torn Ukraine. The video for the group's song 'Crushed' follows a Ukrainian boy, named Sasha, who endured months of shelling in his town. The band said it hopes to raise money for the victims of the war, which broke out in February 2022.\",\n",
       "   'category': 'entertainment'},\n",
       "  {'title': 'Ranveer has always put me & my ambitions first: Deepika',\n",
       "   'content': 'Actress Deepika Padukone, who has appeared on the cover of TIME magazine, said that her husband-actor Ranveer Singh has always put her first. In the interview, Deepika talked about how actresses came with a shelf life that expired after their marriage. \"I\\'ve never had that experience because [Ranveer] has always put me, my dreams, and my ambitions first,\" Deepika said.',\n",
       "   'category': 'entertainment'},\n",
       "  {'title': 'After Anushka, Manushi Chhillar to make her debut at Cannes 2023',\n",
       "   'content': 'Former Miss World and actress Manushi Chhillar will be making her debut at the Cannes Film Festival 2023. The festival will also be attended by actress Anushka Sharma, who will make her debut at the event. The 76th edition of the film festival is scheduled to take place from May 16 to May 27.',\n",
       "   'category': 'entertainment'},\n",
       "  {'title': \"I'll only play lead even if I've to invest my money: Nawazuddin\",\n",
       "   'content': 'Actor Nawazuddin Siddiqui said that he will only be doing lead roles in movies even if he will have to invest his own money. \"In this industry...supporting actors are relegated to secondary roles. I\\'ve somehow escaped that and I don\\'t want to repeat that,\" he added. Nawazuddin will next be seen in \\'Jogira Sara Ra Ra\\'.',\n",
       "   'category': 'entertainment'},\n",
       "  {'title': \"Guj vendor gives free tea to holders of 'The Kerala Story' tickets\",\n",
       "   'content': \"A tea seller in Gujarat's Surat is offering free tea and coffee to those who produce tickets of 'The Kerala Story'. The seller has also put up a poster of the controversial movie at 'Kesariya Tea Shop'. Last year, a sarpanch in Gujarat said people would be exempted from local taxes if they came with tickets of 'The Kashmir Files'.\",\n",
       "   'category': 'entertainment'},\n",
       "  {'title': \"Sonam is gutsy, Deepika isn't adventurous: Designers Abu-Sandeep\",\n",
       "   'content': 'While talking about Hindi film actresses being adventurous in their fashion choices, designers Abu Jani and Sandeep Khosla said that no one, except for Sonam Kapoor is \"gutsy\". \"Nobody makes a style statement today apart from a Sonam Kapoor who...does whatever she wants to do,\" they said. \"Deepika Padukone is...always perfect but she is not adventurous,\" the designers added.',\n",
       "   'category': 'entertainment'},\n",
       "  {'title': 'Uorfi is daring, where are girls like this?: Designers Abu-Sandeep',\n",
       "   'content': 'Fashion designers Abu Jani and Sandeep Khosla, who recently collaborated with Uorfi Javed, said that people told them that \"she\\'s got nothing\". \"She is daring, where are girls like this? And a mind of her own and a bright mind,\" the designers added. They added that unlike many other actors, she knows exactly what she is doing.',\n",
       "   'category': 'entertainment'},\n",
       "  {'title': \"Want to ask Amitabh Bachchan 'Where do you want to stop?': Piyush\",\n",
       "   'content': 'Actor Piyush Mishra said that he wants to ask Amitabh Bachchan about what drives him to continue working at the age of 80. \"There is no one else like him, and nobody works as intensely as he does,\" Mishra said. He added, \"I want to ask him, \\'Where do you want to go?...where do you want to stop?\\'\"',\n",
       "   'category': 'entertainment'},\n",
       "  {'title': \"Even after 8 years, children are watching 'F.I.R.': Kavita Kaushik\",\n",
       "   'content': 'Actress Kavita Kaushik, known for her TV show \\'F.I.R.\\' which ended in 2015, said that even after eight years, children are still watching \\'F.I.R.\\'. \"When they...recognise me, it feels strange, but special,\" she said. \"It was much later that I got to know about the impact the show had left on people as well as the Indian television,\" Kavita said.',\n",
       "   'category': 'entertainment'},\n",
       "  {'title': 'Irrfan was in constant internal struggle: Piyush Mishra',\n",
       "   'content': 'Actor-writer-musician Piyush Mishra explained the difference between the current and older generations of actors, citing an example of the late actor Irrfan Khan. \"He used to be in a constant struggle with himself. He knew that becoming a better actor would take time and effort,\" he said. \"Today\\'s generation thinks...going...gym and singing equals training. They want everything fast,\" he added.',\n",
       "   'category': 'entertainment'},\n",
       "  {'title': 'I never made wrong decisions: Kangana on Rascals & Double Dhamaal',\n",
       "   'content': 'Kangana Ranaut reacted to an old video shared by a fan page where she talked about doing films like \\'Double Dhamaal\\' and \\'Rascals\\'. \"Even when I knew I deserved better, I never grew frustrated or cynical...above all, I never made any wrong decisions ever,\" she said. In the video, Kangana said doing these films was a \\'part of the plan\\'.',\n",
       "   'category': 'entertainment'}],\n",
       " [{'title': \"WhatsApp responds to int'l calls scam, announces new move to cut calls by 50%\",\n",
       "   'content': 'WhatsApp has ramped up its AI and machine learning systems to deal with the issue of users receiving spam calls from international numbers. \"Our new enforcement will reduce the current calling rate by at least 50%,\" a WhatsApp spokesperson said. \"By missed call, bad actors lead curious users to call or message back only to get scammed,\" the spokesperson added.',\n",
       "   'category': 'technology'},\n",
       "  {'title': \"What is the Universal Translator tool announced at Google's I/O developer conference?\",\n",
       "   'content': 'At its I/O developer conference, Google announced it is testing a translation service that redubs video in a new language while also synchronising speaker\\'s lips with words they never spoke. Called \"Universal Translator\", the tool transcribes the speech; translates it; regenerates the speech in that language; and then edits video so that speaker\\'s lips more closely match the new audio.',\n",
       "   'category': 'technology'},\n",
       "  {'title': 'Govt to send notice to WhatsApp on international spam calls',\n",
       "   'content': 'The Ministry of Electronics and Information Technology (MeitY) will send a notice to WhatsApp on the issue of international spam calls to users, MoS IT Rajeev Chandrasekhar said. \"It is a part of the normal scope of activity of MeitY...We ask questions proactively and they will respond,\" he said. \"One issue is how do these numbers get out,\" he added.',\n",
       "   'category': 'technology'},\n",
       "  {'title': 'Google Search to show AI-powered results; shares first look',\n",
       "   'content': 'Google during its annual I/O conference announced it will experiment with generative AI capabilities in Google Search. \"You’ll see an AI-powered snapshot of key information to consider, with links to dig deeper,\" Google said. Google will also help users shop with generative AI by providing them with a snapshot of noteworthy factors to consider and products that fit the bill.',\n",
       "   'category': 'technology'},\n",
       "  {'title': 'Why do we celebrate National Technology Day on May 11?',\n",
       "   'content': \"India celebrates National Technology Day on May 11 to mark completion of 'Operation Shakti' in 1998. The operation was a series of five nuclear bomb tests conducted at Indian Army's Pokhran test range in May 1998. The celebration of National Technology Day was started in 1999 by former PM Atal Bihari Vajpayee, under whose leadership the tests were conducted.\",\n",
       "   'category': 'technology'},\n",
       "  {'title': 'Karnataka HC quashes GST notice of ₹21,000-cr against Gameskraft',\n",
       "   'content': 'The Karnataka High Court on Thursday quashed a GST notice against Bengaluru-based online gaming company Gameskraft Technology for alleged evasion of ₹21,000 crore, the biggest such claim in the history of indirect taxation. In September 2022, a GST intelligence unit issued a show-cause notice to Gameskraft for the alleged evasion. Gameskraft was also accused of promoting online betting.\\n',\n",
       "   'category': 'technology'},\n",
       "  {'title': 'No data sets programme access to Google without investment: MoS IT',\n",
       "   'content': 'MoS for IT Rajeev Chandrasekhar has said foreign firms like Google will have to invest in Indian startups for access to Indian data sets programme. \"The India data sets programme will have access only for Indian startups. Google or other international companies have to invest in Indian artificial intelligence startups to get access in turn,\" he said.',\n",
       "   'category': 'technology'},\n",
       "  {'title': 'PM Modi launches ₹5,800-cr projects on National Technology Day',\n",
       "   'content': 'Prime Minister Narendra Modi on Thursday laid the foundation stone and dedicated to the country multiple projects worth over ₹5,800 crore on the occasion of National Technology Day. Laser Interferometer Gravitational Wave Observatory and Homi Bhabha Cancer Hospital and Research Centre were among the projects for which foundation stone was laid. PM also unveiled a commemorative stamp and coin.',\n",
       "   'category': 'technology'},\n",
       "  {'title': 'Peloton recalls 2 mn exercise bikes over seat post breaking issue',\n",
       "   'content': 'US-based exercise equipment firm Peloton has recalled 20 lakh exercise bikes in the US over the possibility of the seat post breaking while in use, the US Consumer Product Safety Commission (CPSC) said. The firm has received 35 reports of the seat post breaking and detaching from the bike during use. There have been 13 reports of injuries.',\n",
       "   'category': 'technology'},\n",
       "  {'title': 'PM allotted ₹1,200 crore to invest in Indian chip startups: MoS IT',\n",
       "   'content': \"Prime Minister Narendra Modi has allocated a budget of ₹1,200 crore to invest in Indian semiconductor design start-ups and 27 domestic start-ups have already made the cut to benefit from the scheme, Minister of State for IT Rajeev Chandrasekhar said on Thursday. He also said the government's focus is to support deeptech startups in areas like artificial intelligence and semiconductors.\\n\\n\\n\",\n",
       "   'category': 'technology'},\n",
       "  {'title': \"ChatGPT may use concepts that humans don't have words for: OpenAI\",\n",
       "   'content': 'OpenAI has said that language models, like the one ChatGPT uses, may represent \"alien concepts\" that humans don\\'t have words for. \"This could happen...because the model has discovered natural abstractions that humans have yet to discover,\" OpenAI said. It added that it could also be the case as language models care about different things like statistical constructs.',\n",
       "   'category': 'technology'},\n",
       "  {'title': \"Try it, but don't trust it yet: Musk on Twitter's 'Encrypted DMs'\",\n",
       "   'content': 'After Twitter began rolling out its \\'Encrypted DMs\\' feature to Twitter Blue subscribers and verified organisations, CEO Elon Musk said, \"Try it, but don\\'t trust it yet.\" The feature is only available if both sender and receiver of messages are availing the feature. Also, the message recipient must either follow the sender or should\\'ve communicated with them on Twitter previously.',\n",
       "   'category': 'technology'},\n",
       "  {'title': \"Google's image search tool to help spot AI-generated fake pictures\",\n",
       "   'content': 'Google is introducing an \"About this image\" tool to help users evaluate the reliability of visual content. Its own generative AI tools will include metadata with each picture to indicate if it\\'s an AI-created image. \"About this image\" will provide users with when an image or similar images were first indexed by Google and where it may have first appeared. ',\n",
       "   'category': 'technology'},\n",
       "  {'title': 'Russia fines Google $38,600 for LGBT propaganda, fake info: Report',\n",
       "   'content': 'Russia has fined Google $38,600 for failing to delete YouTube videos promoting \"LGBT propaganda\" and \"false information\" about Russia\\'s military campaign in Ukraine, Russian news agencies reported. Google\\'s Russian subsidiary filed for bankruptcy last year after its bank accounts were seized by authorities following a December 2021 fine of $92.6 million over \"repeated failure\" to delete content.',\n",
       "   'category': 'technology'},\n",
       "  {'title': 'India uses technology to empower, not to show dominance: PM Modi',\n",
       "   'content': \"Addressing a National Technology Day event, PM Narendra Modi asserted that technology for the country is not about showing its dominance but as a tool to speed up its development. He hailed the 1998 Pokhran nuclear tests as one of the most glorious days in India's history. PM Modi said his government has used technology as a source of empowerment.\",\n",
       "   'category': 'technology'},\n",
       "  {'title': \"Twitter begins rollout of 'Encrypted DMs' for paid subscribers\",\n",
       "   'content': \"Twitter has begun rolling out its 'Encrypted DMs' feature to Twitter Blue subscribers and verified organisations, both of which are paid subscriptions. According to Twitter's website, the feature is only available if both sender and receiver of messages are availing the feature. Moreover, the message recipient must either follow the sender or should've communicated with them on Twitter previously.\",\n",
       "   'category': 'technology'},\n",
       "  {'title': 'ICMR successfully conducts trial of blood bag delivery via drones',\n",
       "   'content': \"Indian Council of Medical Research on Wednesday successfully conducted trial run of blood bag delivery using drones under its 'i-DRONE' initiative. The initiative, ICMR's Drone Response and Outreach for North East, was used by ICMR during COVID-19 pandemic for distributing vaccines to hard-to-reach areas. The trial flight carried 10 units of whole blood samples from Greater Noida to New Delhi.\",\n",
       "   'category': 'technology'},\n",
       "  {'title': 'Google to add AI tool to Gmail that will write emails for users',\n",
       "   'content': \"Google on Wednesday announced it'd add an AI feature to Gmail that will let users generate emails based on prompts. Giving a demonstration of the 'Help me write' feature, CEO Sundar Pichai asked Gmail to write an email to get refund for a cancelled flight. Users will also be able to ask Gmail to 'formalise', 'elaborate' or 'shorten' AI-generated emails.\",\n",
       "   'category': 'technology'},\n",
       "  {'title': 'Google opens AI chatbot Bard to 180 countries including India',\n",
       "   'content': \"Google on Wednesday said it's removing waitlist for its AI chatbot Bard and opening the tool to more than 180 countries, including India. The company had initially rolled out the chatbot to the US and the UK. In its latest announcement, Google said Bard is now also available in Japanese and Korean, with support for 40 more languages coming soon. \",\n",
       "   'category': 'technology'},\n",
       "  {'title': 'Google unveils AI-powered immersive view for routes in Maps',\n",
       "   'content': 'Google on Wednesday unveiled an updated version of Google Maps that will let users get an immersive view of routes they plan to take. The update uses AI and computer vision to create a digital model of the world. Users will be able preview additional information about their route including parking and air quality with this technology, Google said.',\n",
       "   'category': 'technology'},\n",
       "  {'title': 'New Twitter Blue users using GPT to gain followers: CRED Founder',\n",
       "   'content': 'New Twitter Blue subscribers are \"in diligent process of gathering followers with text support of GPT\", CRED Founder Kunal Shah tweeted. \"Twitter should probably allow them to post something interesting and profound automatically from GPT everyday as part of the paid subscription,\" Shah added. A user replied, \"Eventually, Twitter might just be millions of LLM bots talking to each other.\"',\n",
       "   'category': 'technology'},\n",
       "  {'title': \"Cisco CEO meets PM Modi, says 'Thank you for your leadership'\",\n",
       "   'content': 'Cisco CEO Chuck Robbins met PM Narendra Modi on Wednesday, the same day when the US-based technology company announced that it will start manufacturing in India. Sharing pictures from the visit, Robbins tweeted, \"Thank you for your leadership, Honourable PM.\" Reacting to the post, the PM said, \"Good to see Cisco harnessing the wide range of opportunities available in India.\"',\n",
       "   'category': 'technology'},\n",
       "  {'title': 'UK blocks Microsoft, Activision from buying interest in each other',\n",
       "   'content': \"UK's Competition and Markets Authority (CMA) published an interim order on Thursday that restricts Microsoft and 'Call of Duty' maker Activision Blizzard from acquiring an interest in each other without its consent. This comes weeks after the competition regulator blocked Microsoft's $69-billion acquisition of Activision. The deal was blocked over concerns it'd affect competition in cloud gaming.\",\n",
       "   'category': 'technology'},\n",
       "  {'title': \"Fixing bug that falsely shows WhatsApp used phone's mic: Google\",\n",
       "   'content': 'Google has said it\\'s working on a fix after a Twitter engineer claimed WhatsApp was using his Android phone\\'s microphone in the background when he was asleep. \"This reported bug in Android affecting WhatsApp users produces incorrect privacy indicators and notifications in the Privacy Dashboard,\" Google said. Earlier, WhatsApp also said an Android bug is behind the issue.',\n",
       "   'category': 'technology'},\n",
       "  {'title': 'Joining ONDC will become market compulsion for e-comm giants: CEO',\n",
       "   'content': 'Open Network for Digital Commerce (ONDC) CEO T Koshy said it will become a \"market compulsion\" for e-commerce giants like Amazon and Flipkart to join the government-backed network. \"As a policy, we encourage everyone to come to ONDC with their main platforms...We never force anyone to do anything...In the long run, our intention is to bring everyone onboard,\" Koshy said.\\n',\n",
       "   'category': 'technology'}]]"
      ]
     },
     "execution_count": 13,
     "metadata": {},
     "output_type": "execute_result"
    }
   ],
   "source": [
    "article_list"
   ]
  },
  {
   "cell_type": "code",
   "execution_count": null,
   "id": "eb946d26",
   "metadata": {},
   "outputs": [],
   "source": []
  },
  {
   "cell_type": "code",
   "execution_count": null,
   "id": "7d0705e8",
   "metadata": {},
   "outputs": [],
   "source": [
    "sports_list = na.get_sports_list()"
   ]
  },
  {
   "cell_type": "code",
   "execution_count": null,
   "id": "6e409cb8",
   "metadata": {},
   "outputs": [],
   "source": []
  },
  {
   "cell_type": "code",
   "execution_count": 10,
   "id": "4205ae70",
   "metadata": {},
   "outputs": [
    {
     "data": {
      "text/plain": [
       "'              I came home crying, shaved my head: KKR\\'s Suyash Sharma on U-19 trials snub                                                 Talking about not being selected after giving trials for Under-19 last year, KKR\\'s Suyash Sharma said, \"I came home crying and shaved my head.\" He added, \"I was quite disappointed. Couldn’t believe despite doing well...this was happening to me.\" He further said, “I vowed to work on my skills so much so that one day...they will call me up themselves.\"        sports\\n Jadeja likes \\'Trauma\\' tweet that criticised CSK fans wanting him to get out to see Dhoni                    CSK\\'s Ravindra Jadeja liked a tweet that criticised CSK fans wanting him to get out to see MS Dhoni bat. Referring to Jadeja\\'s remark that CSK fans wait for him to get out, the tweet stated, \"Jaddu saying this with...smile...but lot of pain inside...it\\'s...trauma! Imagine your own team spectators not supporting you...Criticising you even after...three Man of the Match [awards]!\"        sports\\n                              Yuzvendra Chahal creates history, takes most wickets in IPL                                                                                          RR leg-spinner Yuzvendra Chahal has created history by becoming the highest wicket-taker in IPL. By dismissing KKR captain Nitish Rana in their IPL 2023 match on Thursday, Chahal took his tally of wickets in IPL to 184. He overtook Dwayne Bravo, who was the previous highest wicket-taker in IPL with 183 scalps.        sports\\n                     RR to bowl first against KKR, Trent Boult returns to RR\\'s playing XI                                                                               Rajasthan Royals (RR) captain Sanju Samson won the toss and elected to bowl first against Kolkata Knight Riders (KKR) in their IPL 2023 match on Thursday. KKR have won their previous two matches, while RR have suffered three defeats in a row in the tournament. RR have included Trent Boult and KM Asif in their playing XI.        sports\\n                             I have told my teammates \\'Don\\'t make me run a lot\\': MS Dhoni                                                On being asked about batting down the order and having strike rate of 200-plus in IPL 2023, CSK captain MS Dhoni said, \"That\\'s what my job is.\" He added, \"I\\'ve told...(teammates), \\'This is what I\\'m supposed to do. Don\\'t make me run a lot\\'.\" The 41-year-old, who\\'s nursing a knee injury, stated, \"I\\'m happy to contribute whatever deliveries I\\'m getting.\"        sports\\n      I keep hearing chants for Mahi bhai, crowd waits for me to get out: Ravindra Jadeja                                                                                        On being asked whether he\\'d want to bat higher for CSK, all-rounder Ravindra Jadeja said, \"When I bat after MS Dhoni...crowd keeps chanting for Mahi bhai.\" He added, \"When I bat before him, the crowd waits for me to get out [so that Dhoni can come to bat].\" He further said, \"As long as the team wins, I\\'m happy.\"        sports\\n               ICC releases annual ODI rankings, Pakistan overtake India to take 2nd spot                                                   The ICC on Thursday released the annual ODI rankings, with Pakistan overtaking India to be ranked second. Australia retained their number one spot with 118 rating points, while Pakistan are second with 116 points and India are third with 115 points. The finalists of 2019 World Cup, New Zealand and England, are ranked fourth and fifth, respectively.        sports\\n           Glenn Maxwell, wife Vini Raman expecting rainbow baby, share pic of ultrasound                         Australia all-rounder Glenn Maxwell and his wife Vini Raman took to Instagram to announce their rainbow baby is due in September 2023. Sharing picture of an ultrasound, Vini wrote, \"It\\'s so important for us to acknowledge this journey hasn\\'t been...smoothest or easiest.\" Notably, rainbow baby is a term coined for baby born after miscarriage, stillbirth or loss of an infant.        sports\\n\\'Mera Meme Bana Diya\\' song fits perfectly with my knock: Tewatia on his 5 sixes in 1 over                                                             On being asked about his five sixes in an over for RR against KXIP in IPL 2020, GT all-rounder Rahul Tewatia said, \"I like watching videos of my performances from...past.\"  Referring to an edited video of his knock which had \\'Edit Karke Image Tune Mera Meme Bana Diya\\' song in background, Tewatia said, \"It fits perfectly with the innings.\"        sports\\n  It\\'s all lies: Ronaldo\\'s mother on\\xa0reports of his relationship problems with girlfriend                                       Cristiano Ronaldo\\'s mother Dolores has refuted rumours of relationship problems between Ronaldo and his girlfriend Georgina Rodriguez. \"It’s all lies...Every couple argues, but what’s been written is a lie,\" Dolores said. Earlier, Georgina, in an Instagram post, had said, \"The jealous one invents a rumour, the gossipy one spreads it and the idiot believes it.\"        sports\\n                        MSD told Jadeja \\'Wrist\\'s dropping, you\\'re undercutting\\': Dasgupta                           Ex-India cricketer Deep Dasgupta said MS Dhoni spoke to Ravindra Jadeja throughout the second innings in CSK\\'s IPL 2023 match against DC. \"Dhoni said that Jadeja\\'s wrist is dropping and he is undercutting,\" he added. Discussing DC opener Phil Salt\\'s dismissal, Dasgupta stated, \"Every time Phil sees the ball swinging...he charges. Before he could do that, MS was up there.\"        sports\\n                         You\\'ll never win if there are 34 dot balls: Ponting on DC\\'s loss                                                             DC head coach Ricky Ponting said there were 34 dot balls during DC\\'s chase against CSK, adding that a team can never win while chasing down a target if there are so many dot balls. \"This match marked the...seventh time this season where we\\'ve lost a wicket in the game\\'s first over...We didn\\'t show any urgency against spinners,\" he stated.        sports\\n                       Few T20 cameos won\\'t make SKY a great ODI player: Sivaramakrishnan             Reacting to his earlier tweet where he had termed Suryakumar Yadav as a great example of only certain players being protected, ex-India spinner Laxman Sivaramakrishnan tweeted, \"I still stand by it.\" \"A few cameos in T20s...[won\\'t] make Suryakumar a great player [in] ODIs,\" added Sivaramakrishnan. \"You can\\'t pick a player based on T20 performance for all formats,\" he\\'d earlier tweeted.        sports\\n                         Dad said \\'People taunted me a lot, you shut them up\\': RR\\'s Jurel                                                 Sharing his father\\'s reaction following his 34 off 15 balls against CSK, RR\\'s Dhruv Jurel said, \"My father said, \\'People taunted me a lot that I\\'m spoiling your life by not forcing you to study but you shut everyone up\\'.\" \"My parents were very emotional,\" added Jurel. \"When my gloves would tear, papa would stitch...by hand,\" Jurel had earlier stated.        sports\\n                         Harsha compares facing CSK at Chepauk to a spider inviting a fly                    Talking about facing MS Dhoni-led CSK on a slow turner at Chepauk Stadium, commentator Harsha Bhogle tweeted, \"[It\\'s] like a spider inviting a fly.\" \"Hopefully, the spider doesn\\'t get caught in its own web,\" read a reaction. Ex-India cricketer Irfan Pathan had earlier stated that Dhoni \"closes the door\" of the stadium, \"thrashes the opposition\" mercilessly in CSK\\'s home matches.        sports\\n                       Yelled as loud as I can, everyone only heard \\'Dhoni, Dhoni\\': Boult                                         RR\\'s Trent Boult said he tried to yell as loudly as he could during his team\\'s huddle before taking the field in the recent IPL 2023 match against CSK. \"Everyone could only hear, \\'Dhoni, Dhoni\\' getting screamed across the ground,\" added Boult. The pacer termed Sanju Samson as \"quite funny\", adding that Yuzvendra Chahal\\'s the heartbeat of their dressing room.        sports\\n                             His journey is a life lesson: Harbhajan on KKR\\'s Rinku Singh                                                             Former India cricketer Harbhajan Singh said KKR\\'s Rinku Singh\\'s journey is a life lesson and all young kids should learn from him. \"He\\'s such an inspirational player. He has run all the hard yards and worked very hard to get to where he\\'s today,\" Harbhajan added. He further stated, \"That India cap is not far away from Rinku Singh\\'s head.\"        sports\\n                       Village kid playing in chaddi baniyan now finisher in IPL: Tewatia                                                   Speaking about his journey in the IPL, GT all-rounder Rahul Tewatia said, \"A kid from...village, playing in \\'chaddi baniyan\\' on...streets, is now playing the role of a finisher in an IPL team.\" On being asked if he still dreams of playing for India, Tewatia stated that dream has been there \"since I was a kid watching cricket on television\".\\\\n\\\\n\\\\n\\\\n        sports\\n                        Zlatan said \\'I live on building top so God can look over\\': Tomori                                  Recalling his conversation with Zlatan Ibrahimović, AC Milan defender Fikayo Tomori said, \"He...[asked] me where I lived...It was actually a building close to his.\" The defender stated that Ibrahimović said he lived at the top of his building so that \"God can look over the city\". \"I remember thinking, \\'So, this is the Zlatan I...[saw] on social media!\" said Tomori.        sports\\n                             Protesting wrestlers wear black bands, call it a \\'Black Day\\'                                                                Wrestlers protesting against the alleged sexual harassment by WFI chief Brij Bhushan Singh wore black bands on Thursday as a mark of protest and called it a \\'Black Day\\'. Vinesh Phogat, Bajrang Punia, Sakshee Malikkh and Satyawart Kadian were spotted wearing black bands on their foreheads, while some supporters wore them on their arms.         sports\\n                           No one manages spinners better than Dhoni on slow pitch: Irfan                                       Ex-India all-rounder Irfan Pathan praised MS Dhoni for the way he managed his spinners in the Chennai Super Kings (CSK) match against Delhi Capitals (DC) on Wednesday. \"If it\\'s a slow pitch, no one manages the spinners better than Dhoni,\" Irfan said. He added that Dhoni wasn\\'t only involved in managing his bowlers but also in formulating strategies with them.         sports\\n                       He should fix knee & return next year: Harbhajan on Dhoni\\'s injury                                                       Talking about CSK captain MS Dhoni\\'s injury, ex-India cricketer Harbhajan Singh said the former should \"fix that knee and come back next year\". \"Whatever the talk is going on over this being Dhoni\\'s last season, I think that should be put to rest,\" Singh stated. Dhoni was seen limping while running between the wickets in the match against DC.\\\\n        sports\\n                       MS Dhoni has found his best again this season of IPL: Graeme Smith                                                             Ex-South Africa captain Graeme Smith said there\\'s \"enormous pressure\" on CSK captain MS Dhoni every time he goes to bat. \"The roars every time he gets on strike, and the crowd goes berserk. It\\'s incredible to watch [and] this IPL season he has found his best again,\" Smith added. Dhoni scored 20 runs off nine balls against DC on Wednesday.        sports\\n                        He will be more impactful in new franchise: Daren on KKR\\'s Narine                                                                              Former West Indies captain Daren Ganga, while talking about KKR spinner Sunil Narine\\'s form in IPL 2023, said the latter should change his franchise to freshen up and be more impactful. He added that Narine is still a \"formidable force\" and has been \"consistent with line and lengths\". Narine is playing for KKR since 2012.        sports\\n                         Hard work, practice at KKR academy paying off: Rinku on IPL form                                                                                  KKR batter Rinku Singh said \"hard work\" and \"practice\" at the KKR academy in Mumbai is the reason behind his form in IPL 2023. \"I...try to keep it simple and play normal shots. If I try something extra it\\'ll affect my batting,\" Rinku stated. Rinku has scored 337 runs this year and is the highest scorer for KKR so far.        sports\\n                     Video shows moment cake is thrown at Porsche Chairman during meeting A video captured the moment a cake was thrown at Porsche SE Chairman, Wolfgang Porsche, during parent company Volkswagen\\'s shareholder meeting in Berlin. It also sent bits flying toward Volkswagen supervisory board Chairman Hans Dieter Poetsch. An activist threw the cake in protest against Volkswagen\\'s factory in China\\'s Xinjiang, accusing the company of ignoring human rights abuses in the region.      business\\n                                  Pakistan rupee falls to all-time low of 300 a US dollar                                                                          Pakistan\\'s rupee slumped to a new record low of 300 a US dollar on Thursday. The fall comes amid the military stepping in to squash violent protests that erupted after former Prime Minister Imran Khan\\'s arrest this week. Dollar bonds due 2031 rose from the lowest since November and were indicated at 33.44 cents on the dollar.      business\\n                        SpiceJet denies insolvency reports, says trying to revive airline                        SpiceJet said it\\'s taking steps to revive its grounded fleet using the $50 million it received from government\\'s Emergency Credit Line Guarantee Scheme and internal cash accruals. The airline said it had no intention of filing for insolvency and was focussed on its business. \"We\\'re focussed firmly on...getting more and more planes back into air,\" SpiceJet MD Ajay Singh said.      business\\n              Wells Fargo ex-VP in US invited female employee to shower with him: Lawsuit                                         Carl Nelson, a former Senior VP at financial services company Wells Fargo, invited a female subordinate to his house to \"exercise and shower with him\", according to a lawsuit filed in the Los Angeles Superior Court. He allegedly gave her unwanted massages because she \"looked tense\". Nelson also threatened to deny her job opportunities if she didn\\'t date him.      business\\n                       Dr Reddy\\'s stock falls 7% after Q4 result, is Nifty 50\\'s top loser                                      Dr Reddy\\'s Laboratories\\' shares fell nearly 7% on NSE and were the top loser on the Nifty 50 index on Thursday after analysts cut ratings and estimates after the company\\'s fourth-quarter profit missed estimates. Dr Reddy\\'s Laboratories\\' stock was trading 6.81% lower at ₹4,552/share at 3:03 pm on NSE. Its net profit rose to ₹960 crore in the March quarter.\\\\n\\\\n\\\\n      business\\n                            Who is Robyn Grew, Man Group\\'s first female CEO in 240 years?             London-based Man Group, the largest publicly listed hedge fund, appointed 54-year-old Robyn Grew as its first female CEO in 240 years. Currently the Group President, Robyn is a qualified barrister who attended Coventry University to study business law and Bar School in London. She has worked in the investment industry since 1994 with companies like Lehman Brothers and Barclays Capital.      business\\n                       Bank of England raises lending rates to 4.5% in 12th straight hike                                  Bank of England (BoE) raised its benchmark lending rate to 4.5%, the highest level since 2008. This is the 12th straight hike as the BoE is fighting double-digit price increases. BoE no longer predicts recession after it revised up its growth forecasts from gloomy numbers released in February, the biggest such improvement since it first published forecasts in 1997.      business\\n                        Peloton recalls 2 mn exercise bikes over seat post breaking issue                                                            US-based exercise equipment firm Peloton has recalled 20 lakh exercise bikes in the US over the possibility of the seat post breaking while in use, the US Consumer Product Safety Commission (CPSC) said. The firm has received 35 reports of the seat post breaking and detaching from the bike during use. There have been 13 reports of injuries.      business\\n                       UK blocks Microsoft, Activision from buying interest in each other  UK\\'s Competition and Markets Authority (CMA) published an interim order on Thursday that restricts Microsoft and \\'Call of Duty\\' maker Activision Blizzard from acquiring an interest in each other without its consent. This comes weeks after the competition regulator blocked Microsoft\\'s $69-billion acquisition of Activision. The deal was blocked over concerns it\\'d affect competition in cloud gaming.      business\\n                         Karnataka HC quashes GST notice of ₹21,000-cr against Gameskraft          The Karnataka High Court on Thursday quashed a GST notice against Bengaluru-based online gaming company Gameskraft Technology for alleged evasion of ₹21,000 crore, the biggest such claim in the history of indirect taxation. In September 2022, a GST intelligence unit issued a show-cause notice to Gameskraft for the alleged evasion. Gameskraft was also accused of promoting online betting.\\\\n      business\\n                        BharatPe is a $3 bn write-off, value destroyed by Rajnish: Grover                    After the Delhi Police Economic Offences Wing registered an FIR against Ashneer Grover and his family, the BharatPe Co-founder said the company is a $3 billion write-off and its value has been destroyed by Chairman Rajnish Kumar. \"I\\'ve said earlier also that hiring him (Kumar) was my mistake...The company has seen zero growth...since I left BharatPe,\" Grover told Moneycontrol.\\\\n      business\\n                                    ONDC caps incentives for sellers amid surge in orders                           The government-backed Open Network for Digital Commerce (ONDC) has capped incentives for seller-side apps amid a surge in daily orders. An incentive of up to ₹75, which was being provided for logistics-related costs for every eligible order, has been capped at a maximum of ₹2.25 lakh per seller-side app per day. ONDC has also made changes related to hyperlocal deliveries.      business\\n                        Can\\'t simply restart investments, need to evaluate: SoftBank CFO                                          SoftBank CFO Yoshimitsu Goto said while the company has seen signs of improvement in the last three months, it \"can\\'t simply restart investments\". He stated that SoftBank would look at the ongoing \"technological evolution\" and invest in AI-related opportunities. \"It\\'s not that we will only invest in generative AI, but AI is kind of our main focus,\" he added.      business\\n                          Emirates Group reports record annual profit of $3 bn in 2022-23                                                     Dubai\\'s Emirates Group has reported a record annual profit of $3 billion in 2022-23. Its revenue increased 81% to $32.6 billion. Emirates airline also reported its most profitable year ever with a profit of $ 2.9 billion. The airline had made a \"full recovery\" since the hit to demand caused by COVID-19, CEO Sheikh Ahmed bin Saeed Al Maktoum said.      business\\n                       McD sued for $15,000 after its food allegedly burns 4-yr-old in US                      McDonald\\'s has been sued for $15,000 in the US by the parents of a four-year-old after their daughter allegedly suffered second-degree burns due to the outlet\\'s chicken nugget in 2019. The incident reportedly occurred when they bought a \\'Chicken McNugget\\' meal at a drive-thru. The McNugget dropped and got wedged between her thigh and the seatbelt for approximately two minutes.      business\\n                        Billionaire Icahn\\'s firm failed to address key issues: Hindenburg                                                      Hindenburg Research has said that billionaire Carl Icahn\\'s investment firm Icahn Enterprises LP (IEP) has failed to address every key issue it had raised. The short seller has initiated a short position in IEP bonds. Earlier, Icahn called Hindenburg\\'s report against his firm \"self-serving\" and vowed to take all appropriate steps to \"fight back\".      business\\n                        Weekly jobless claims in US jump to highest level since late 2021                          The amount of Americans filing new claims for jobless benefits rose to its highest level since October 2021 last week. The labor department\\'s data showed that initial claims for state unemployment benefits increased 22,000 to a seasonally adjusted 2,64,000 for the week ended May 6. The Federal Reserve raised its benchmark interest rate to a 16-year high earlier this month.      business\\n                        We need crew to stick to us to restart operations: Go First\\'s IRP                                                           Go First\\'s IRP Abhilash Lal, on Thursday, reassured the airline\\'s employees that all steps are being taken to ensure that it resumes operations soon. \"Go First cannot restart without a crew...we need all of you to stick with us while we figure out how to restart operations,\" Lal was quoted as saying by an employee who spoke to Moneycontrol.      business\\n                                          NIIF appoints COO Rajiv Dhar as interim CEO, MD                                                  National Investment and Infrastructure Fund (NIIF), an investment platform for international and Indian investors, has appointed COO Rajiv Dhar as the MD and CEO of the company on interim basis. The succession follows Sujoy Bose\\'s request to relieve him from his responsibilities as MD and CEO, the company said. Dhar has been part of NIIF since 2017.      business\\n                             Govt lowers GST e-invoicing threshold to ₹5 crore from Aug 1                                                                                   The government said that e-invoicing will be required from registered entities with an annual turnover of ₹5 crore from August 1, 2023. This move is a part of the phased reduction in the turnover limit for e-invoicing. Earlier, this limit was fixed at ₹10 crore, as per the official notification issued in August 2022.      business\\n                              Gautam Adani\\'s 3 firms planning to raise $5 billion: Report       Billionaire Gautam Adani-led three companies are planning to raise funds up to $5 billion, Bloomberg reported. The board of Adani Enterprises, Adani Green Energy and Adani Transmission will meet on Saturday to discuss a fundraise via sale of shares or other securities, an exchange filing stated. Earlier this year, Adani Group\\'s market value dipped following a report from Hindenburg Research.      business\\n                                  Indian firms have invested ₹40,400 cr in Canada: Report                                                             Indian companies have invested over ₹40,400 crore in Canada and have created thousands of jobs in the country, as per a report released by the Confederation of Indian Industry (CII). Around 30 Indian firms employ approximately 17,000 people across eight Canadian provinces. The R&D expenditure by these firms in Canada is over ₹4,286 crore.      business\\n                        Too early for Fed to declare victory on inflation: US billionaire                                                             US billionaire David Rubenstein has warned it\\'s too early for the US Federal Reserve to declare victory on inflation after several rate increases in the past year. \"It\\'s premature to have rate cuts this summer,\" Rubenstein said. \"The Fed has said its target is 2% inflation. There\\'s no way in the world you get to 2% this summer,\" he added.      business\\n                                  Asian Paints net profit rises 45% to ₹1,268 crore in Q4                                                           The net profit of Asian Paints jumped 45.11% to ₹1,268.41 crore for the quarter ended March 31, 2023. The Mumbai-headquartered company had reported a net profit of ₹874.05 crore in the year-ago quarter. Its revenue from sales went up 10.91% to ₹8,750.85 crore, while its revenue from operations rose 11.33% to ₹8,787.34 crore in quarter four.      business\\n                         METRO Cash & Carry completes ₹2,850 cr deal with Reliance Retail                                   German retailer METRO AG announced the completion of the sale of its Indian business to Reliance Retail Ventures for ₹2,850 crore. The deal includes all 31 wholesale stores operated by METRO Cash & Carry India and the entire real estate portfolio to Reliance. All METRO India stores will continue to operate under the METRO brand during the agreed transition period.      business\\n            WhatsApp responds to int\\'l calls scam, announces new move to cut calls by 50%                                       WhatsApp has ramped up its AI and machine learning systems to deal with the issue of users receiving spam calls from international numbers. \"Our new enforcement will reduce the current calling rate by at least 50%,\" a WhatsApp spokesperson said. \"By missed call, bad actors lead curious users to call or message back only to get scammed,\" the spokesperson added.    technology\\n                       Microsoft won\\'t give salary hikes to full-time employees this year            Microsoft will not give salary hikes to full-time employees this year, CEO Satya Nadella said in an internal email on Wednesday. \"This year, the economic conditions are very different across many dimensions,\" Nadella said in the email. \"While we\\'ll have salary increases for certain hourly or equivalent roles, we won\\'t have salary increases for full-time employees this year,\" he added.\\\\n    technology\\n    What is the Universal Translator tool announced at Google\\'s I/O developer conference?             At its I/O developer conference, Google announced it is testing a translation service that redubs video in a new language while also synchronising speaker\\'s lips with words they never spoke. Called \"Universal Translator\", the tool transcribes the speech; translates it; regenerates the speech in that language; and then edits video so that speaker\\'s lips more closely match the new audio.    technology\\n                              Govt to send notice to WhatsApp on international spam calls                                                 The Ministry of Electronics and Information Technology (MeitY) will send a notice to WhatsApp on the issue of international spam calls to users, MoS IT Rajeev Chandrasekhar said. \"It is a part of the normal scope of activity of MeitY...We ask questions proactively and they will respond,\" he said. \"One issue is how do these numbers get out,\" he added.    technology\\n                              Google Search to show AI-powered results; shares first look                        Google during its annual I/O conference announced it will experiment with generative AI capabilities in Google Search. \"You’ll see an AI-powered snapshot of key information to consider, with links to dig deeper,\" Google said. Google will also help users shop with generative AI by providing them with a snapshot of noteworthy factors to consider and products that fit the bill.    technology\\n                       UK blocks Microsoft, Activision from buying interest in each other  UK\\'s Competition and Markets Authority (CMA) published an interim order on Thursday that restricts Microsoft and \\'Call of Duty\\' maker Activision Blizzard from acquiring an interest in each other without its consent. This comes weeks after the competition regulator blocked Microsoft\\'s $69-billion acquisition of Activision. The deal was blocked over concerns it\\'d affect competition in cloud gaming.    technology\\n                       No data sets programme access to Google without investment: MoS IT                                                 MoS for IT Rajeev Chandrasekhar has said foreign firms like Google will have to invest in Indian startups for access to Indian data sets programme. \"The India data sets programme will have access only for Indian startups. Google or other international companies have to invest in Indian artificial intelligence startups to get access in turn,\" he said.    technology\\n                           PM Modi launches ₹5,800-cr projects on National Technology Day      Prime Minister Narendra Modi on Thursday laid the foundation stone and dedicated to the country multiple projects worth over ₹5,800 crore on the occasion of National Technology Day. Laser Interferometer Gravitational Wave Observatory and Homi Bhabha Cancer Hospital and Research Centre were among the projects for which foundation stone was laid. PM also unveiled a commemorative stamp and coin.    technology\\n                       PM allotted ₹1,200 crore to invest in Indian chip startups: MoS IT       Prime Minister Narendra Modi has allocated a budget of ₹1,200 crore to invest in Indian semiconductor design start-ups and 27 domestic start-ups have already made the cut to benefit from the scheme, Minister of State for IT Rajeev Chandrasekhar said on Thursday. He also said the government\\'s focus is to support deeptech startups in areas like artificial intelligence and semiconductors.\\\\n\\\\n\\\\n    technology\\n                        Try it, but don\\'t trust it yet: Musk on Twitter\\'s \\'Encrypted DMs\\'                   After Twitter began rolling out its \\'Encrypted DMs\\' feature to Twitter Blue subscribers and verified organisations, CEO Elon Musk said, \"Try it, but don\\'t trust it yet.\" The feature is only available if both sender and receiver of messages are availing the feature. Also, the message recipient must either follow the sender or should\\'ve communicated with them on Twitter previously.    technology\\n                         India uses technology to empower, not to show dominance: PM Modi                                                    Addressing a National Technology Day event, PM Narendra Modi asserted that technology for the country is not about showing its dominance but as a tool to speed up its development. He hailed the 1998 Pokhran nuclear tests as one of the most glorious days in India\\'s history. PM Modi said his government has used technology as a source of empowerment.    technology\\n                        ChatGPT may use concepts that humans don\\'t have words for: OpenAI                                 OpenAI has said that language models, like the one ChatGPT uses, may represent \"alien concepts\" that humans don\\'t have words for. \"This could happen...because the model has discovered natural abstractions that humans have yet to discover,\" OpenAI said. It added that it could also be the case as language models care about different things like statistical constructs.    technology\\n                          Google to add AI tool to Gmail that will write emails for users                                              Google on Wednesday announced it\\'d add an AI feature to Gmail that will let users generate emails based on prompts. Giving a demonstration of the \\'Help me write\\' feature, CEO Sundar Pichai asked Gmail to write an email to get refund for a cancelled flight. Users will also be able to ask Gmail to \\'formalise\\', \\'elaborate\\' or \\'shorten\\' AI-generated emails.    technology\\n                            Google opens AI chatbot Bard to 180 countries including India                                                     Google on Wednesday said it\\'s removing waitlist for its AI chatbot Bard and opening the tool to more than 180 countries, including India. The company had initially rolled out the chatbot to the US and the UK. In its latest announcement, Google said Bard is now also available in Japanese and Korean, with support for 40 more languages coming soon.     technology\\n                                   Why do we celebrate National Technology Day on May 11?                                         India celebrates National Technology Day on May 11 to mark completion of \\'Operation Shakti\\' in 1998. The operation was a series of five nuclear bomb tests conducted at Indian Army\\'s Pokhran test range in May 1998. The celebration of National Technology Day was started in 1999 by former PM Atal Bihari Vajpayee, under whose leadership the tests were conducted.    technology\\n                       Russia fines Google $38,600 for LGBT propaganda, fake info: Report   Russia has fined Google $38,600 for failing to delete YouTube videos promoting \"LGBT propaganda\" and \"false information\" about Russia\\'s military campaign in Ukraine, Russian news agencies reported. Google\\'s Russian subsidiary filed for bankruptcy last year after its bank accounts were seized by authorities following a December 2021 fine of $92.6 million over \"repeated failure\" to delete content.    technology\\n                        Peloton recalls 2 mn exercise bikes over seat post breaking issue                                                            US-based exercise equipment firm Peloton has recalled 20 lakh exercise bikes in the US over the possibility of the seat post breaking while in use, the US Consumer Product Safety Commission (CPSC) said. The firm has received 35 reports of the seat post breaking and detaching from the bike during use. There have been 13 reports of injuries.    technology\\n                        OpenAI CEO to testify in US Senate for 1st time next week over AI                      OpenAI CEO Sam Altman will testify before US Congress for the first time next week as lawmakers grapple with how best to regulate artificial intelligence (AI) as the technology becomes more powerful. Altman was part of a White House meeting on AI last week that discussed how to ensure regulatory safeguards. IBM\\'s Chief Privacy Officer Christina Montgomery is another witness.\\\\n    technology\\n                       Fake Paytm Twitter accounts target users looking for customer care                                   Some Twitter users have received responses from accounts posing to be the customer care account of Paytm after tweeting the name of company, according to multiple reports. The fake messages, mimicking the writing style of the official account, ask users to call on a certain number. Reports noted that Paytm\\'s official customer care account is currently unverified.     technology\\n                           Twitter begins rollout of \\'Encrypted DMs\\' for paid subscribers Twitter has begun rolling out its \\'Encrypted DMs\\' feature to Twitter Blue subscribers and verified organisations, both of which are paid subscriptions. According to Twitter\\'s website, the feature is only available if both sender and receiver of messages are availing the feature. Moreover, the message recipient must either follow the sender or should\\'ve communicated with them on Twitter previously.    technology\\n                         New Twitter Blue users using GPT to gain followers: CRED Founder           New Twitter Blue subscribers are \"in diligent process of gathering followers with text support of GPT\", CRED Founder Kunal Shah tweeted. \"Twitter should probably allow them to post something interesting and profound automatically from GPT everyday as part of the paid subscription,\" Shah added. A user replied, \"Eventually, Twitter might just be millions of LLM bots talking to each other.\"    technology\\n                       Google\\'s image search tool to help spot AI-generated fake pictures                                           Google is introducing an \"About this image\" tool to help users evaluate the reliability of visual content. Its own generative AI tools will include metadata with each picture to indicate if it\\'s an AI-created image. \"About this image\" will provide users with when an image or similar images were first indexed by Google and where it may have first appeared.     technology\\n                         Karnataka HC quashes GST notice of ₹21,000-cr against Gameskraft          The Karnataka High Court on Thursday quashed a GST notice against Bengaluru-based online gaming company Gameskraft Technology for alleged evasion of ₹21,000 crore, the biggest such claim in the history of indirect taxation. In September 2022, a GST intelligence unit issued a show-cause notice to Gameskraft for the alleged evasion. Gameskraft was also accused of promoting online betting.\\\\n    technology\\n                        ICMR successfully conducts trial of blood bag delivery via drones     Indian Council of Medical Research on Wednesday successfully conducted trial run of blood bag delivery using drones under its \\'i-DRONE\\' initiative. The initiative, ICMR\\'s Drone Response and Outreach for North East, was used by ICMR during COVID-19 pandemic for distributing vaccines to hard-to-reach areas. The trial flight carried 10 units of whole blood samples from Greater Noida to New Delhi.    technology\\n                            Cisco CEO meets PM Modi, says \\'Thank you for your leadership\\'                        Cisco CEO Chuck Robbins met PM Narendra Modi on Wednesday, the same day when the US-based technology company announced that it will start manufacturing in India. Sharing pictures from the visit, Robbins tweeted, \"Thank you for your leadership, Honourable PM.\" Reacting to the post, the PM said, \"Good to see Cisco harnessing the wide range of opportunities available in India.\"    technology\\n                        TMKOC\\'s Mandar reacts to Jennifer accusing producer of harassment                              Reacting to Jennifer Mistry Bansiwal accusing \\'Taarak Mehta Ka Ooltah Chashmah\\' producer Asit Modi of sexual harassment, her co-star Mandar Chandwadkar said, \"I\\'m wondering why did she do this. I\\'ve no clue about what happened between them.\" \"It\\'s a happy place with a healthy environment,\" he added, responding to Jennifer\\'s remark that \\'TMKOC\\' set is male chauvinistic. entertainment\\n                      Beyoncé wears colour-changing dress during concert; video surfaces                           Singer Beyoncé wore a colour-changing dress during her Renaissance World Tour. A clip from the tour\\'s opening night show held in Stockholm showed her plain-white costume changing colours through UV lights. Reddit Co-founder Alexis Ohanian reacted to the dress by tweeting, \"I was wondering when someone would incorporate this tech into a performance — leave it to Beyoncé.\" entertainment\\n     Blackmail, cheap publicity: \\'Taarak Mehta...\\' makers on Jennifer\\'s harassment claims                        \\'Taarak Mehta Ka Ooltah Chashmah\\' producer Asit Modi has called actress Jennifer Mistry Bansiwal\\'s sexual harassment allegation against him \"baseless\" and said he will take legal action against her for trying to defame him. The show\\'s project head Sohil Ramani said, \"She\\'s just doing it to blackmail us. It is for cheap publicity.\" Jennifer also named Ramani in her complaint. entertainment\\n      \\'Betrayal,\\' says Onir as Congress govt in Raj opposes gay marriage, Tharoor replies            After filmmaker Onir accused Congress of \"betrayal\" on the issue of same-sex marriage as the Rajasthan government opposed the petitioners, Congress leader Shashi Tharoor has responded. \"Personally, many of us individuals support you, [Onir]. State governments take their own positions,\" said Tharoor. Onir had called Rajasthan government\\'s stand on gay marriages \"very very disappointing\". entertainment\\n       \\'Taarak Mehta...\\' actress Jennifer accuses producer Asit of harassment, quits show                                      TV actress Jennifer Mistry Bansiwal, who played the role of Mrs Roshan Sodhi on \\'Taarak Mehta Ka Ooltah Chashmah\\', has accused its producer Asit Modi of making \"sexual advances\" towards her \"many times\". The actress told ETimes she quit the show two months back and that she has filed a sexual harassment complaint against Modi and executive producer Jatin Bajaj. entertainment\\n  Rashmika trolled for promoting chicken in ad, Twitter user says \\'Isn\\'t she vegetarian?\\'          Rashmika Mandanna has been trolled for a burger brand\\'s advertisement, where she\\'s seen eating chicken. Several people pointed out that Rashmika earlier revealed she\\'s a vegetarian. \"Celebs and their hypocrisy,\" a person tweeted while another person wrote, \"Isn\\'t she vegetarian?\" However, another comment read, \"We all are humans, not perfect. We all have phases of eating vegetarian food.\" entertainment\\n                            Deepika Padukone appears on TIME Magazine cover, pic released                                                           Deepika Padukone has appeared on the cover of American news magazine TIME, with pictures of the same and from her magazine photoshoot being released online. \"The Global Star. Deepika Padukone is bringing the world to Bollywood,\" says the cover of the May edition of the magazine. Deepika also shared behind-the-scenes pictures from the shoot. entertainment\\n               Fought cancer, was told I had 2-3 years left: \\'Rocky\\' actor Dolph Lundgren                                                                     Dolph Lundgren, who was seen in films like \\'Rocky IV\\' and \\'The Expendables\\', has revealed he battled cancer and at one point was told that he had \"two to three years\" left. Lundgren revealed he was first diagnosed with a tumour in 2015. He underwent surgery to remove six tumours in 2020 but was diagnosed with a liver tumour again. entertainment\\n    Deepika reacts to political backlash against her, says \\'don’t feel anything about it\\'                                                                          Deepika Padukone has reacted to the various political controversies and backlash against her and her movie roles in a TIME Magazine interview. \"I don\\'t know if I\\'m supposed to feel something about it. But the truth is, I don\\'t feel anything about it,\" said Deepika. Protests were held over her movies \\'Padmaavat\\' and \\'Pathaan\\'. entertainment\\n      I don\\'t give a f*** who he has dated: Priyanka Chopra on Nick Jonas\\' ex-girlfriends                                   Priyanka Chopra revealed she never got bothered by husband Nick Jonas\\' dating history. \"I don\\'t give a f*** who he\\'s dated...We\\'re talking about the future...I don\\'t read my book backwards. I believe you go forward in your chapters,\" she said on Alex Cooper\\'s Call Her Daddy podcast. Nick\\'s exes reportedly include Miley Cyrus, Selena Gomez, Olivia Culpo and others. entertainment\\n           Complaint filed against Prabhas, Kriti Sanon\\'s \\'Adipurush\\' before Censor Board                                A complaint has been filed against Prabhas and Kriti Sanon\\'s film \\'Adipurush\\' before Censor Board. The complaint, filed by Sanatan Dharma Pracharak Sanjay Dinanath Tiwari, said if mistakes can be made at the time of poster and teaser releases, then such errors can also be in the film which might hurt religious sentiments. The complaint demanded a special screen test. entertainment\\n                                        Gauahar Khan, Zaid Darbar blessed with a baby boy                                                                                        Actress Gauahar Khan and her husband Zaid Darbar shared on Instagram that they have been blessed with a baby boy. \"Arrived 10th of May 2023 to make us realise what happiness truly means,\" their social media post read. The couple got married in December 2020 and announced that they were expecting two years later. entertainment\\n                         Sonam is gutsy, Deepika isn\\'t adventurous: Designers Abu-Sandeep                        While talking about Hindi film actresses being adventurous in their fashion choices, designers Abu Jani and Sandeep Khosla said that no one, except for Sonam Kapoor is \"gutsy\". \"Nobody makes a style statement today apart from a Sonam Kapoor who...does whatever she wants to do,\" they said. \"Deepika Padukone is...always perfect but she is not adventurous,\" the designers added. entertainment\\n                       Imagine Dragons films music video in war-torn Ukraine\\'s front line                                                                   Musical band Imagine Dragons has released a music video which it filmed on the front lines of war-torn Ukraine. The video for the group\\'s song \\'Crushed\\' follows a Ukrainian boy, named Sasha, who endured months of shelling in his town. The band said it hopes to raise money for the victims of the war, which broke out in February 2022. entertainment\\n                          I\\'ll only play lead even if I\\'ve to invest my money: Nawazuddin                                                                                  Actor Nawazuddin Siddiqui said that he will only be doing lead roles in movies even if he will have to invest his own money. \"In this industry...supporting actors are relegated to secondary roles. I\\'ve somehow escaped that and I don\\'t want to repeat that,\" he added. Nawazuddin will next be seen in \\'Jogira Sara Ra Ra\\'. entertainment\\n                                  Ranveer has always put me & my ambitions first: Deepika                              Actress Deepika Padukone, who has appeared on the cover of TIME magazine, said that her husband-actor Ranveer Singh has always put her first. In the interview, Deepika talked about how actresses came with a shelf life that expired after their marriage. \"I\\'ve never had that experience because [Ranveer] has always put me, my dreams, and my ambitions first,\" Deepika said. entertainment\\n                       Uorfi is daring, where are girls like this?: Designers Abu-Sandeep                                                                         Fashion designers Abu Jani and Sandeep Khosla, who recently collaborated with Uorfi Javed, said that people told them that \"she\\'s got nothing\". \"She is daring, where are girls like this? And a mind of her own and a bright mind,\" the designers added. They added that unlike many other actors, she knows exactly what she is doing. entertainment\\n                                  Irrfan was in constant internal struggle: Piyush Mishra    Actor-writer-musician Piyush Mishra explained the difference between the current and older generations of actors, citing an example of the late actor Irrfan Khan. \"He used to be in a constant struggle with himself. He knew that becoming a better actor would take time and effort,\" he said. \"Today\\'s generation thinks...going...gym and singing equals training. They want everything fast,\" he added. entertainment\\n                         After Anushka, Manushi Chhillar to make her debut at Cannes 2023                                                                                                            Former Miss World and actress Manushi Chhillar will be making her debut at the Cannes Film Festival 2023. The festival will also be attended by actress Anushka Sharma, who will make her debut at the event. The 76th edition of the film festival is scheduled to take place from May 16 to May 27. entertainment\\n                       Even after 8 years, children are watching \\'F.I.R.\\': Kavita Kaushik                                                      Actress Kavita Kaushik, known for her TV show \\'F.I.R.\\' which ended in 2015, said that even after eight years, children are still watching \\'F.I.R.\\'. \"When they...recognise me, it feels strange, but special,\" she said. \"It was much later that I got to know about the impact the show had left on people as well as the Indian television,\" Kavita said. entertainment\\n                       Can\\'t attend parties & ask for work: Neha on being told to network                                                                                      Actress Neha Sharma revealed that in the beginning, she was advised to do networking to get work in Bollywood. \"It\\'s not something I can do. I\\'m an actor, I know how to act, I don\\'t know how to be, \\'Sir kaam de do,\\'\" she said. Neha shared that she did go to parties, but soon realised \\'networking\\' wasn\\'t her thing. entertainment\\n                       Guj vendor gives free tea to holders of \\'The Kerala Story\\' tickets                                                                     A tea seller in Gujarat\\'s Surat is offering free tea and coffee to those who produce tickets of \\'The Kerala Story\\'. The seller has also put up a poster of the controversial movie at \\'Kesariya Tea Shop\\'. Last year, a sarpanch in Gujarat said people would be exempted from local taxes if they came with tickets of \\'The Kashmir Files\\'. entertainment\\n                           MP has withdrawn tax exemption to \\'The Kerala...\\': Congress MP                                                                         Congress Rajya Sabha MP Vivek Tankha has claimed that his advocate friends have told him that the Madhya Pradesh government has withdrawn the tax exemption given to the movie \\'The Kerala Story\\' and shared a picture of the order on the same. He called the decision \"prudent\" and added that the movie isn\\'t suitable for the youth. entertainment\\n                        Want to ask Amitabh Bachchan \\'Where do you want to stop?\\': Piyush                                                                                                        Actor Piyush Mishra said that he wants to ask Amitabh Bachchan about what drives him to continue working at the age of 80. \"There is no one else like him, and nobody works as intensely as he does,\" Mishra said. He added, \"I want to ask him, \\'Where do you want to go?...where do you want to stop?\\'\" entertainment\\n                        I never made wrong decisions: Kangana on Rascals & Double Dhamaal                                                                Kangana Ranaut reacted to an old video shared by a fan page where she talked about doing films like \\'Double Dhamaal\\' and \\'Rascals\\'. \"Even when I knew I deserved better, I never grew frustrated or cynical...above all, I never made any wrong decisions ever,\" she said. In the video, Kangana said doing these films was a \\'part of the plan\\'. entertainment'"
      ]
     },
     "execution_count": 10,
     "metadata": {},
     "output_type": "execute_result"
    }
   ],
   "source": [
    "na.get_inshorts_text()"
   ]
  },
  {
   "cell_type": "code",
   "execution_count": null,
   "id": "c5c2e818",
   "metadata": {},
   "outputs": [],
   "source": [
    "df = na.get_inshorts_df()\n"
   ]
  },
  {
   "cell_type": "code",
   "execution_count": null,
   "id": "b3ab34ec",
   "metadata": {},
   "outputs": [],
   "source": [
    "df"
   ]
  },
  {
   "cell_type": "code",
   "execution_count": null,
   "id": "fdec699a",
   "metadata": {},
   "outputs": [],
   "source": []
  },
  {
   "cell_type": "code",
   "execution_count": null,
   "id": "a80bf59e",
   "metadata": {},
   "outputs": [],
   "source": []
  },
  {
   "cell_type": "code",
   "execution_count": null,
   "id": "9536eb0d",
   "metadata": {},
   "outputs": [],
   "source": []
  },
  {
   "cell_type": "code",
   "execution_count": null,
   "id": "2667f2c6",
   "metadata": {},
   "outputs": [],
   "source": [
    "# the css class is 'clickable'"
   ]
  },
  {
   "cell_type": "code",
   "execution_count": null,
   "id": "7af1c746",
   "metadata": {},
   "outputs": [],
   "source": [
    "# Lets start with business\n",
    "\n",
    "url = 'https://inshorts.com/en/read/business'\n",
    "response = requests.get(url)\n",
    "response"
   ]
  },
  {
   "cell_type": "code",
   "execution_count": null,
   "id": "1795d00b",
   "metadata": {},
   "outputs": [],
   "source": [
    "soup = BeautifulSoup(response.content, 'html.parser')"
   ]
  },
  {
   "cell_type": "code",
   "execution_count": null,
   "id": "3a54c13f",
   "metadata": {},
   "outputs": [],
   "source": [
    "soup.title.string"
   ]
  },
  {
   "cell_type": "code",
   "execution_count": null,
   "id": "f9dc6d65",
   "metadata": {},
   "outputs": [],
   "source": [
    "article_headlines = soup.find_all('span', itemprop=\"headline\")"
   ]
  },
  {
   "cell_type": "code",
   "execution_count": null,
   "id": "7d8e64a5",
   "metadata": {
    "scrolled": true
   },
   "outputs": [],
   "source": [
    "article_headlines"
   ]
  },
  {
   "cell_type": "code",
   "execution_count": null,
   "id": "522b1011",
   "metadata": {},
   "outputs": [],
   "source": [
    "article_contents = soup.find_all('div', itemprop='articleBody')"
   ]
  },
  {
   "cell_type": "code",
   "execution_count": null,
   "id": "f9889697",
   "metadata": {},
   "outputs": [],
   "source": [
    "article_contents"
   ]
  },
  {
   "cell_type": "code",
   "execution_count": null,
   "id": "dd268915",
   "metadata": {},
   "outputs": [],
   "source": [
    "headline_list = []\n",
    "for item in article_headlines:\n",
    "    headline_list.append(item.contents)"
   ]
  },
  {
   "cell_type": "code",
   "execution_count": null,
   "id": "e82a3d5d",
   "metadata": {},
   "outputs": [],
   "source": [
    "content_list = []\n",
    "for item in article_contents:\n",
    "    content_list.append(item.contents)"
   ]
  },
  {
   "cell_type": "code",
   "execution_count": null,
   "id": "3bce9617",
   "metadata": {},
   "outputs": [],
   "source": [
    "business_articles = []\n",
    "for headline, content in itertools.zip_longest(headline_list, content_list):\n",
    "    business_dict = (\n",
    "    {\n",
    "        'title': headline, \n",
    "        'content': content,\n",
    "        'category': 'business'\n",
    "    })\n",
    "    business_articles.append(business_dict)"
   ]
  },
  {
   "cell_type": "code",
   "execution_count": null,
   "id": "c93f19ee",
   "metadata": {},
   "outputs": [],
   "source": [
    "business_articles"
   ]
  },
  {
   "cell_type": "code",
   "execution_count": null,
   "id": "d3372dbe",
   "metadata": {},
   "outputs": [],
   "source": [
    "# moving to Sports"
   ]
  },
  {
   "cell_type": "code",
   "execution_count": null,
   "id": "9ad1baa1",
   "metadata": {},
   "outputs": [],
   "source": [
    "def get_inshorts_dicts(url, category): \n",
    "\n",
    "    response = requests.get(url)\n",
    "\n",
    "    soup = BeautifulSoup(response.content, 'html.parser')\n",
    "    article_headlines = soup.find_all('span', itemprop=\"headline\")\n",
    "    article_contents = soup.find_all('div', itemprop='articleBody')\n",
    "\n",
    "    headline_list = []\n",
    "    for item in article_headlines:\n",
    "        headline_list.append(item.contents)\n",
    "    \n",
    "    content_list = []\n",
    "    for item in article_contents:\n",
    "        content_list.append(item.contents)\n",
    "    \n",
    "    article_list = []\n",
    "    for headline, content in itertools.zip_longest(headline_list, content_list):\n",
    "        category_dict = (\n",
    "        {\n",
    "            'title': headline[0], \n",
    "            'content': content[0],\n",
    "            'category': category\n",
    "        })\n",
    "        article_list.append(category_dict)\n",
    "    \n",
    "    return article_list"
   ]
  },
  {
   "cell_type": "code",
   "execution_count": null,
   "id": "f4398b0c",
   "metadata": {},
   "outputs": [],
   "source": [
    "sports_list = get_inshorts_dicts('https://inshorts.com/en/read/sports', 'sports')"
   ]
  },
  {
   "cell_type": "code",
   "execution_count": null,
   "id": "5d85e6e3",
   "metadata": {},
   "outputs": [],
   "source": [
    "sports_list"
   ]
  },
  {
   "cell_type": "code",
   "execution_count": null,
   "id": "be11a35b",
   "metadata": {},
   "outputs": [],
   "source": [
    "business_list = get_inshorts_dicts('https://inshorts.com/en/read/business', 'business')"
   ]
  },
  {
   "cell_type": "code",
   "execution_count": null,
   "id": "d3448479",
   "metadata": {},
   "outputs": [],
   "source": [
    "technology_list = get_inshorts_dicts('https://inshorts.com/en/read/technology', 'technology')"
   ]
  },
  {
   "cell_type": "code",
   "execution_count": null,
   "id": "13ca9d22",
   "metadata": {},
   "outputs": [],
   "source": [
    "entertainment_list = get_inshorts_dicts('https://inshorts.com/en/read/entertainment', 'entertainment')"
   ]
  },
  {
   "cell_type": "code",
   "execution_count": null,
   "id": "002356ca",
   "metadata": {},
   "outputs": [],
   "source": [
    "inshorts_list = []\n",
    "inshorts_list.append(sports_list)\n",
    "inshorts_list.append(business_list)\n",
    "inshorts_list.append(technology_list)\n",
    "inshorts_list.append(entertainment_list)"
   ]
  },
  {
   "cell_type": "code",
   "execution_count": null,
   "id": "f9a20182",
   "metadata": {},
   "outputs": [],
   "source": [
    "inshorts_list"
   ]
  },
  {
   "cell_type": "code",
   "execution_count": null,
   "id": "cd43e3d3",
   "metadata": {},
   "outputs": [],
   "source": [
    "sports_df = na.get_sports_df()\n",
    "business_df = na.get_business_df()\n",
    "entertainment_df = na.get_entertainment_df()\n",
    "technology_df = na.get_technology_df()"
   ]
  },
  {
   "cell_type": "code",
   "execution_count": null,
   "id": "d36977ee",
   "metadata": {},
   "outputs": [],
   "source": [
    "df = pd.concat([sports_df, business_df, technology_df, entertainment_df], axis = 0)"
   ]
  },
  {
   "cell_type": "code",
   "execution_count": null,
   "id": "a793da0a",
   "metadata": {},
   "outputs": [],
   "source": [
    "df"
   ]
  }
 ],
 "metadata": {
  "kernelspec": {
   "display_name": "Python 3 (ipykernel)",
   "language": "python",
   "name": "python3"
  },
  "language_info": {
   "codemirror_mode": {
    "name": "ipython",
    "version": 3
   },
   "file_extension": ".py",
   "mimetype": "text/x-python",
   "name": "python",
   "nbconvert_exporter": "python",
   "pygments_lexer": "ipython3",
   "version": "3.9.13"
  }
 },
 "nbformat": 4,
 "nbformat_minor": 5
}
