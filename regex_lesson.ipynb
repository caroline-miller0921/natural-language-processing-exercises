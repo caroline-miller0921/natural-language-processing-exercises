{
 "cells": [
  {
   "cell_type": "markdown",
   "metadata": {},
   "source": [
    "# Regex\n",
    "\n",
    "- What is a regular expression?\n",
    "- When are regular expressions useful?"
   ]
  },
  {
   "cell_type": "code",
   "execution_count": 34,
   "metadata": {},
   "outputs": [],
   "source": [
    "import pandas as pd\n",
    "import re # part of the python stdlib"
   ]
  },
  {
   "cell_type": "code",
   "execution_count": 2,
   "metadata": {},
   "outputs": [],
   "source": [
    "log_file_lines = '''\n",
    "76.185.131.226 - - [11/May/2020:14:25:53 +0000] \"GET / HTTP/1.1\" 200 42 \"-\" \"python-requests/2.23.0\"\n",
    "76.185.131.226 - - [11/May/2020:16:25:46 +0000] \"GET / HTTP/1.1\" 200 42 \"-\" \"python-requests/2.23.0\"\n",
    "76.185.131.226 - - [11/May/2020:16:25:58 +0000] \"GET / HTTP/1.1\" 200 42 \"-\" \"Mozilla/5.0 (Macintosh; Intel Mac OS X 10_12_6) AppleWebKit/537.36 (KHTML, like Gecko) Chrome/81.0.4044.129 Safari/537.36\"\n",
    "76.185.131.226 - - [11/May/2020:16:25:58 +0000] \"GET /favicon.ico HTTP/1.1\" 200 162 \"https://python.zach.lol/\" \"Mozilla/5.0 (Macintosh; Intel Mac OS X 10_12_6) AppleWebKit/537.36 (KHTML, like Gecko) Chrome/81.0.4044.129 Safari/537.36\"\n",
    "104.5.217.57 - - [11/May/2020:16:26:27 +0000] \"GET / HTTP/1.1\" 200 42 \"-\" \"python-requests/2.23.0\"\n",
    "76.185.131.226 - - [11/May/2020:16:26:46 +0000] \"GET /documentation HTTP/1.1\" 200 348 \"-\" \"python-requests/2.23.0\"\n",
    "76.185.131.226 - - [11/May/2020:16:26:54 +0000] \"GET /documentation HTTP/1.1\" 200 348 \"-\" \"python-requests/2.23.0\"\n",
    "104.5.217.57 - - [11/May/2020:16:27:04 +0000] \"GET /documentation HTTP/1.1\" 200 348 \"-\" \"python-requests/2.23.0\"\n",
    "76.185.131.226 - - [11/May/2020:16:27:05 +0000] \"GET /documentation HTTP/1.1\" 200 348 \"-\" \"python-requests/2.23.0\"\n",
    "76.185.131.226 - - [11/May/2020:16:27:10 +0000] \"GET /documentation HTTP/1.1\" 200 348 \"-\" \"python-requests/2.23.0\"\n",
    "'''"
   ]
  },
  {
   "cell_type": "code",
   "execution_count": 3,
   "metadata": {},
   "outputs": [
    {
     "data": {
      "text/html": [
       "<div>\n",
       "<style scoped>\n",
       "    .dataframe tbody tr th:only-of-type {\n",
       "        vertical-align: middle;\n",
       "    }\n",
       "\n",
       "    .dataframe tbody tr th {\n",
       "        vertical-align: top;\n",
       "    }\n",
       "\n",
       "    .dataframe thead th {\n",
       "        text-align: right;\n",
       "    }\n",
       "</style>\n",
       "<table border=\"1\" class=\"dataframe\">\n",
       "  <thead>\n",
       "    <tr style=\"text-align: right;\">\n",
       "      <th></th>\n",
       "      <th>ip</th>\n",
       "      <th>timestamp</th>\n",
       "      <th>method</th>\n",
       "      <th>path</th>\n",
       "      <th>status</th>\n",
       "      <th>bytes_sent</th>\n",
       "      <th>referrer</th>\n",
       "      <th>user_agent</th>\n",
       "    </tr>\n",
       "  </thead>\n",
       "  <tbody>\n",
       "    <tr>\n",
       "      <th>0</th>\n",
       "      <td>76.185.131.226</td>\n",
       "      <td>11/May/2020:14:25:53 +0000</td>\n",
       "      <td>GET</td>\n",
       "      <td>/</td>\n",
       "      <td>200</td>\n",
       "      <td>42</td>\n",
       "      <td>-</td>\n",
       "      <td>python-requests/2.23.0</td>\n",
       "    </tr>\n",
       "    <tr>\n",
       "      <th>1</th>\n",
       "      <td>76.185.131.226</td>\n",
       "      <td>11/May/2020:16:25:46 +0000</td>\n",
       "      <td>GET</td>\n",
       "      <td>/</td>\n",
       "      <td>200</td>\n",
       "      <td>42</td>\n",
       "      <td>-</td>\n",
       "      <td>python-requests/2.23.0</td>\n",
       "    </tr>\n",
       "    <tr>\n",
       "      <th>2</th>\n",
       "      <td>76.185.131.226</td>\n",
       "      <td>11/May/2020:16:25:58 +0000</td>\n",
       "      <td>GET</td>\n",
       "      <td>/</td>\n",
       "      <td>200</td>\n",
       "      <td>42</td>\n",
       "      <td>-</td>\n",
       "      <td>Mozilla/5.0 (Macintosh; Intel Mac OS X 10_12_6...</td>\n",
       "    </tr>\n",
       "    <tr>\n",
       "      <th>3</th>\n",
       "      <td>76.185.131.226</td>\n",
       "      <td>11/May/2020:16:25:58 +0000</td>\n",
       "      <td>GET</td>\n",
       "      <td>/favicon.ico</td>\n",
       "      <td>200</td>\n",
       "      <td>162</td>\n",
       "      <td>https://python.zach.lol/</td>\n",
       "      <td>Mozilla/5.0 (Macintosh; Intel Mac OS X 10_12_6...</td>\n",
       "    </tr>\n",
       "    <tr>\n",
       "      <th>4</th>\n",
       "      <td>104.5.217.57</td>\n",
       "      <td>11/May/2020:16:26:27 +0000</td>\n",
       "      <td>GET</td>\n",
       "      <td>/</td>\n",
       "      <td>200</td>\n",
       "      <td>42</td>\n",
       "      <td>-</td>\n",
       "      <td>python-requests/2.23.0</td>\n",
       "    </tr>\n",
       "    <tr>\n",
       "      <th>5</th>\n",
       "      <td>76.185.131.226</td>\n",
       "      <td>11/May/2020:16:26:46 +0000</td>\n",
       "      <td>GET</td>\n",
       "      <td>/documentation</td>\n",
       "      <td>200</td>\n",
       "      <td>348</td>\n",
       "      <td>-</td>\n",
       "      <td>python-requests/2.23.0</td>\n",
       "    </tr>\n",
       "    <tr>\n",
       "      <th>6</th>\n",
       "      <td>76.185.131.226</td>\n",
       "      <td>11/May/2020:16:26:54 +0000</td>\n",
       "      <td>GET</td>\n",
       "      <td>/documentation</td>\n",
       "      <td>200</td>\n",
       "      <td>348</td>\n",
       "      <td>-</td>\n",
       "      <td>python-requests/2.23.0</td>\n",
       "    </tr>\n",
       "    <tr>\n",
       "      <th>7</th>\n",
       "      <td>104.5.217.57</td>\n",
       "      <td>11/May/2020:16:27:04 +0000</td>\n",
       "      <td>GET</td>\n",
       "      <td>/documentation</td>\n",
       "      <td>200</td>\n",
       "      <td>348</td>\n",
       "      <td>-</td>\n",
       "      <td>python-requests/2.23.0</td>\n",
       "    </tr>\n",
       "    <tr>\n",
       "      <th>8</th>\n",
       "      <td>76.185.131.226</td>\n",
       "      <td>11/May/2020:16:27:05 +0000</td>\n",
       "      <td>GET</td>\n",
       "      <td>/documentation</td>\n",
       "      <td>200</td>\n",
       "      <td>348</td>\n",
       "      <td>-</td>\n",
       "      <td>python-requests/2.23.0</td>\n",
       "    </tr>\n",
       "    <tr>\n",
       "      <th>9</th>\n",
       "      <td>76.185.131.226</td>\n",
       "      <td>11/May/2020:16:27:10 +0000</td>\n",
       "      <td>GET</td>\n",
       "      <td>/documentation</td>\n",
       "      <td>200</td>\n",
       "      <td>348</td>\n",
       "      <td>-</td>\n",
       "      <td>python-requests/2.23.0</td>\n",
       "    </tr>\n",
       "  </tbody>\n",
       "</table>\n",
       "</div>"
      ],
      "text/plain": [
       "               ip                   timestamp method            path status  \\\n",
       "0  76.185.131.226  11/May/2020:14:25:53 +0000    GET               /    200   \n",
       "1  76.185.131.226  11/May/2020:16:25:46 +0000    GET               /    200   \n",
       "2  76.185.131.226  11/May/2020:16:25:58 +0000    GET               /    200   \n",
       "3  76.185.131.226  11/May/2020:16:25:58 +0000    GET    /favicon.ico    200   \n",
       "4    104.5.217.57  11/May/2020:16:26:27 +0000    GET               /    200   \n",
       "5  76.185.131.226  11/May/2020:16:26:46 +0000    GET  /documentation    200   \n",
       "6  76.185.131.226  11/May/2020:16:26:54 +0000    GET  /documentation    200   \n",
       "7    104.5.217.57  11/May/2020:16:27:04 +0000    GET  /documentation    200   \n",
       "8  76.185.131.226  11/May/2020:16:27:05 +0000    GET  /documentation    200   \n",
       "9  76.185.131.226  11/May/2020:16:27:10 +0000    GET  /documentation    200   \n",
       "\n",
       "  bytes_sent                  referrer  \\\n",
       "0         42                         -   \n",
       "1         42                         -   \n",
       "2         42                         -   \n",
       "3        162  https://python.zach.lol/   \n",
       "4         42                         -   \n",
       "5        348                         -   \n",
       "6        348                         -   \n",
       "7        348                         -   \n",
       "8        348                         -   \n",
       "9        348                         -   \n",
       "\n",
       "                                          user_agent  \n",
       "0                             python-requests/2.23.0  \n",
       "1                             python-requests/2.23.0  \n",
       "2  Mozilla/5.0 (Macintosh; Intel Mac OS X 10_12_6...  \n",
       "3  Mozilla/5.0 (Macintosh; Intel Mac OS X 10_12_6...  \n",
       "4                             python-requests/2.23.0  \n",
       "5                             python-requests/2.23.0  \n",
       "6                             python-requests/2.23.0  \n",
       "7                             python-requests/2.23.0  \n",
       "8                             python-requests/2.23.0  \n",
       "9                             python-requests/2.23.0  "
      ]
     },
     "execution_count": 3,
     "metadata": {},
     "output_type": "execute_result"
    }
   ],
   "source": [
    "# the 'r' means that the string is a raw string\n",
    "# r''\n",
    "# r\"\"\n",
    "# r''''''\n",
    "\n",
    "regex = r'(?P<ip>.*?)\\s.*?\\[(?P<timestamp>.*?)\\]\\s+\"(?P<method>[A-Z]+)\\s(?P<path>.*?)\\sHTTP/1.1\"\\s(?P<status>\\d+)\\s(?P<bytes_sent>\\d+)\\s\"(?P<referrer>.*?)\"\\s\"(?P<user_agent>.*?)\"'\n",
    "regex = re.compile(regex,re.VERBOSE)\n",
    "\n",
    "lines = pd.Series(log_file_lines.strip().split('\\n'))\n",
    "lines.str.extract(regex)"
   ]
  },
  {
   "cell_type": "markdown",
   "metadata": {},
   "source": [
    "- search: shows a single match for a regex\n",
    "- findall: shows *all* the matches for a regex in a subject"
   ]
  },
  {
   "cell_type": "markdown",
   "metadata": {},
   "source": [
    "### Literals"
   ]
  },
  {
   "cell_type": "code",
   "execution_count": 13,
   "metadata": {},
   "outputs": [
    {
     "data": {
      "text/plain": [
       "<re.Match object; span=(1, 2), match='b'>"
      ]
     },
     "execution_count": 13,
     "metadata": {},
     "output_type": "execute_result"
    }
   ],
   "source": [
    "# single characters work they way you'd expect \n",
    "# this regular expression looks for the pattern of the letter b\n",
    "\n",
    "regexp = r'b'\n",
    "subject = 'abc'\n",
    "subject2= 'Hello this is time for class blob yes class time is now'\n",
    "\n",
    "re.search(regexp, subject)"
   ]
  },
  {
   "cell_type": "code",
   "execution_count": 14,
   "metadata": {},
   "outputs": [
    {
     "data": {
      "text/plain": [
       "<re.Match object; span=(29, 30), match='b'>"
      ]
     },
     "execution_count": 14,
     "metadata": {},
     "output_type": "execute_result"
    }
   ],
   "source": [
    "re.search(regexp, subject2)"
   ]
  },
  {
   "cell_type": "markdown",
   "metadata": {},
   "source": [
    "<div style=\"background-color: rgba(0, 100, 200, .1); padding: 1em 3em; border-radius: 5px; border: 1px solid black\">\n",
    "    <div style=\"font-weight: bold; font-size: 1.2em; border-bottom: 1px dashed black; padding-bottom: .5em;\">\n",
    "        Mini Exercise\n",
    "    </div>\n",
    "    <ol>\n",
    "        <li>Change your regular expression to match the literal character \"c\". What do you notice?</li>\n",
    "        <li>Change your regular expression to match the literal string \"ab\". What do you notice?</li>\n",
    "        <li>Change your regular expression to match the literal \"d\". What do you notice?</li>\n",
    "        <li>Use <code>re.findall</code> instead of <code>re.search</code>. How do the results differ?</li>\n",
    "    </ol>\n",
    "</div>"
   ]
  },
  {
   "cell_type": "code",
   "execution_count": 15,
   "metadata": {},
   "outputs": [
    {
     "data": {
      "text/plain": [
       "<re.Match object; span=(2, 3), match='c'>"
      ]
     },
     "execution_count": 15,
     "metadata": {},
     "output_type": "execute_result"
    }
   ],
   "source": [
    "# 1\n",
    "regexp = r'c'\n",
    "\n",
    "re.search(regexp, subject)"
   ]
  },
  {
   "cell_type": "code",
   "execution_count": 16,
   "metadata": {},
   "outputs": [
    {
     "data": {
      "text/plain": [
       "<re.Match object; span=(0, 2), match='ab'>"
      ]
     },
     "execution_count": 16,
     "metadata": {},
     "output_type": "execute_result"
    }
   ],
   "source": [
    "# 2\n",
    "regexp = r'ab'\n",
    "\n",
    "re.search(regexp, subject)\n",
    "\n",
    "# not sure what the span is referring to..?"
   ]
  },
  {
   "cell_type": "code",
   "execution_count": 36,
   "metadata": {},
   "outputs": [],
   "source": [
    "# 3\n",
    "regexp = r'd'\n",
    "\n",
    "re.search(regexp, subject)"
   ]
  },
  {
   "cell_type": "code",
   "execution_count": 21,
   "metadata": {},
   "outputs": [
    {
     "data": {
      "text/plain": [
       "['cl', 'cl']"
      ]
     },
     "execution_count": 21,
     "metadata": {},
     "output_type": "execute_result"
    }
   ],
   "source": [
    "# 4\n",
    "\n",
    "regexp = r'a'\n",
    "\n",
    "re.findall(regexp, subject2)\n",
    "\n",
    "# returns a list\n",
    "\n",
    "regexp2 = r'cl'\n",
    "\n",
    "re.findall(regexp2, subject2)"
   ]
  },
  {
   "cell_type": "code",
   "execution_count": 30,
   "metadata": {},
   "outputs": [
    {
     "name": "stdout",
     "output_type": "stream",
     "text": [
      "\\n\n",
      "\n",
      "\n",
      "\\n\n"
     ]
    }
   ],
   "source": [
    "print('\\\\n\\n\\n')\n",
    "print('\\\\n')"
   ]
  },
  {
   "cell_type": "code",
   "execution_count": 37,
   "metadata": {},
   "outputs": [
    {
     "data": {
      "text/plain": [
       "['d']"
      ]
     },
     "execution_count": 37,
     "metadata": {},
     "output_type": "execute_result"
    }
   ],
   "source": [
    "pattern = re.compile('d')\n",
    "\n",
    "pattern.findall('dog')"
   ]
  },
  {
   "cell_type": "code",
   "execution_count": 38,
   "metadata": {},
   "outputs": [
    {
     "data": {
      "text/plain": [
       "<re.Match object; span=(0, 1), match='d'>"
      ]
     },
     "execution_count": 38,
     "metadata": {},
     "output_type": "execute_result"
    }
   ],
   "source": [
    "pattern.search('dog', 0)"
   ]
  },
  {
   "cell_type": "markdown",
   "metadata": {},
   "source": [
    "### Metacharacters\n",
    "\n",
    "- `.` - anything really\n",
    "- `\\w`: any letter or number; `\\W` anything that is *not* a letter or number\n",
    "- `\\s`: any type whitespace\n",
    "- `\\d`: any numeral, \\D being anything that is NOT a numeral\n",
    "- Captial variants"
   ]
  },
  {
   "cell_type": "code",
   "execution_count": 39,
   "metadata": {
    "scrolled": true
   },
   "outputs": [
    {
     "data": {
      "text/plain": [
       "['H',\n",
       " 'e',\n",
       " 'l',\n",
       " 'l',\n",
       " 'o',\n",
       " 't',\n",
       " 'h',\n",
       " 'i',\n",
       " 's',\n",
       " 'i',\n",
       " 's',\n",
       " 't',\n",
       " 'i',\n",
       " 'm',\n",
       " 'e',\n",
       " 'f',\n",
       " 'o',\n",
       " 'r',\n",
       " 'c',\n",
       " 'l',\n",
       " 'a',\n",
       " 's',\n",
       " 's',\n",
       " 'b',\n",
       " 'l',\n",
       " 'o',\n",
       " 'b',\n",
       " 'y',\n",
       " 'e',\n",
       " 's',\n",
       " 'c',\n",
       " 'l',\n",
       " 'a',\n",
       " 's',\n",
       " 's',\n",
       " 't',\n",
       " 'i',\n",
       " 'm',\n",
       " 'e',\n",
       " 'i',\n",
       " 's',\n",
       " 'n',\n",
       " 'o',\n",
       " 'w']"
      ]
     },
     "execution_count": 39,
     "metadata": {},
     "output_type": "execute_result"
    }
   ],
   "source": [
    "regexp = r'\\w'\n",
    "\n",
    "re.findall(regexp, subject2)\n",
    "\n",
    "# returns every character that is a letter or number"
   ]
  },
  {
   "cell_type": "code",
   "execution_count": 40,
   "metadata": {},
   "outputs": [
    {
     "data": {
      "text/plain": [
       "[' ', ' ', ' ', ' ', ' ', ' ', ' ', ' ', ' ', ' ', ' ']"
      ]
     },
     "execution_count": 40,
     "metadata": {},
     "output_type": "execute_result"
    }
   ],
   "source": [
    "regexp = r'\\s'\n",
    "\n",
    "re.findall(regexp, subject2)"
   ]
  },
  {
   "cell_type": "code",
   "execution_count": 42,
   "metadata": {},
   "outputs": [
    {
     "data": {
      "text/plain": [
       "[]"
      ]
     },
     "execution_count": 42,
     "metadata": {},
     "output_type": "execute_result"
    }
   ],
   "source": [
    "regexp = r'\\d'\n",
    "\n",
    "re.findall(regexp, subject2)"
   ]
  },
  {
   "cell_type": "code",
   "execution_count": 41,
   "metadata": {},
   "outputs": [
    {
     "data": {
      "text/plain": [
       "[' ', ' ', ' ', ' ', ' ', ' ', ' ', ' ', ' ', ' ', ' ']"
      ]
     },
     "execution_count": 41,
     "metadata": {},
     "output_type": "execute_result"
    }
   ],
   "source": [
    "regexp = r'\\W'\n",
    "\n",
    "re.findall(regexp, subject2)"
   ]
  },
  {
   "cell_type": "markdown",
   "metadata": {},
   "source": [
    "<div style=\"background-color: rgba(0, 100, 200, .1); padding: 1em 3em; border-radius: 5px; border: 1px solid black\">\n",
    "    <div style=\"font-weight: bold; font-size: 1.2em; border-bottom: 1px dashed black; padding-bottom: .5em;\">\n",
    "        Mini Exercise\n",
    "    </div>\n",
    "    <p>Continue to use the same subject variable from above.</p>\n",
    "    <ol>\n",
    "        <li>Use all of the above metacharacters with <code>re.findall</code>. What do you notice?</li>\n",
    "        <li>What does the regular expression <code>\\w\\w</code> match?</li>\n",
    "        <li>Use only metacharacters to write a regular expression to match \"c 1\".</li>\n",
    "        <li>Use a combination of metacharacters to match 3 digits in a row.</li>\n",
    "    </ol>\n",
    "</div>"
   ]
  },
  {
   "cell_type": "code",
   "execution_count": 43,
   "metadata": {
    "scrolled": true
   },
   "outputs": [
    {
     "data": {
      "text/plain": [
       "['I',\n",
       " \"'\",\n",
       " 'm',\n",
       " ' ',\n",
       " 'a',\n",
       " ' ',\n",
       " 'l',\n",
       " 'i',\n",
       " 't',\n",
       " 't',\n",
       " 'l',\n",
       " 'e',\n",
       " ' ',\n",
       " 't',\n",
       " 'e',\n",
       " 'a',\n",
       " 'p',\n",
       " 'o',\n",
       " 't',\n",
       " ',',\n",
       " ' ',\n",
       " 's',\n",
       " 'h',\n",
       " 'o',\n",
       " 'r',\n",
       " 't',\n",
       " ' ',\n",
       " 'a',\n",
       " 'n',\n",
       " 'd',\n",
       " ' ',\n",
       " 's',\n",
       " 'h',\n",
       " 'o',\n",
       " 'u',\n",
       " 't',\n",
       " '_',\n",
       " '.',\n",
       " ' ',\n",
       " 'H',\n",
       " 'e',\n",
       " 'r',\n",
       " 'e',\n",
       " ' ',\n",
       " 'i',\n",
       " 's',\n",
       " ' ',\n",
       " 'm',\n",
       " 'y',\n",
       " ' ',\n",
       " 'h',\n",
       " 'a',\n",
       " 'n',\n",
       " 'd',\n",
       " 'l',\n",
       " 'e',\n",
       " ';',\n",
       " ' ',\n",
       " 'h',\n",
       " 'e',\n",
       " 'r',\n",
       " 'e',\n",
       " ' ',\n",
       " 'i',\n",
       " 's',\n",
       " ' ',\n",
       " 'm',\n",
       " 'y',\n",
       " ' ',\n",
       " 's',\n",
       " 'p',\n",
       " 'o',\n",
       " 'u',\n",
       " 't',\n",
       " '!']"
      ]
     },
     "execution_count": 43,
     "metadata": {},
     "output_type": "execute_result"
    }
   ],
   "source": [
    "subject3 = r\"I'm a little teapot, short and shout_. Here is my handle; here is my spout!\"\n",
    "\n",
    "regexp = r'.'\n",
    "\n",
    "re.findall(regexp, subject3)"
   ]
  },
  {
   "cell_type": "code",
   "execution_count": 44,
   "metadata": {
    "scrolled": true
   },
   "outputs": [
    {
     "data": {
      "text/plain": [
       "['I',\n",
       " 'm',\n",
       " 'a',\n",
       " 'l',\n",
       " 'i',\n",
       " 't',\n",
       " 't',\n",
       " 'l',\n",
       " 'e',\n",
       " 't',\n",
       " 'e',\n",
       " 'a',\n",
       " 'p',\n",
       " 'o',\n",
       " 't',\n",
       " 's',\n",
       " 'h',\n",
       " 'o',\n",
       " 'r',\n",
       " 't',\n",
       " 'a',\n",
       " 'n',\n",
       " 'd',\n",
       " 's',\n",
       " 'h',\n",
       " 'o',\n",
       " 'u',\n",
       " 't',\n",
       " '_',\n",
       " 'H',\n",
       " 'e',\n",
       " 'r',\n",
       " 'e',\n",
       " 'i',\n",
       " 's',\n",
       " 'm',\n",
       " 'y',\n",
       " 'h',\n",
       " 'a',\n",
       " 'n',\n",
       " 'd',\n",
       " 'l',\n",
       " 'e',\n",
       " 'h',\n",
       " 'e',\n",
       " 'r',\n",
       " 'e',\n",
       " 'i',\n",
       " 's',\n",
       " 'm',\n",
       " 'y',\n",
       " 's',\n",
       " 'p',\n",
       " 'o',\n",
       " 'u',\n",
       " 't']"
      ]
     },
     "execution_count": 44,
     "metadata": {},
     "output_type": "execute_result"
    }
   ],
   "source": [
    "regexp = r'\\w'\n",
    "\n",
    "re.findall(regexp, subject3)"
   ]
  },
  {
   "cell_type": "code",
   "execution_count": 45,
   "metadata": {},
   "outputs": [
    {
     "data": {
      "text/plain": [
       "[\"'\",\n",
       " ' ',\n",
       " ' ',\n",
       " ' ',\n",
       " ',',\n",
       " ' ',\n",
       " ' ',\n",
       " ' ',\n",
       " '.',\n",
       " ' ',\n",
       " ' ',\n",
       " ' ',\n",
       " ' ',\n",
       " ';',\n",
       " ' ',\n",
       " ' ',\n",
       " ' ',\n",
       " ' ',\n",
       " '!']"
      ]
     },
     "execution_count": 45,
     "metadata": {},
     "output_type": "execute_result"
    }
   ],
   "source": [
    "regexp = r'\\W'\n",
    "\n",
    "re.findall(regexp, subject3)"
   ]
  },
  {
   "cell_type": "code",
   "execution_count": 46,
   "metadata": {},
   "outputs": [
    {
     "data": {
      "text/plain": [
       "[' ', ' ', ' ', ' ', ' ', ' ', ' ', ' ', ' ', ' ', ' ', ' ', ' ', ' ']"
      ]
     },
     "execution_count": 46,
     "metadata": {},
     "output_type": "execute_result"
    }
   ],
   "source": [
    "regexp = r'\\s'\n",
    "\n",
    "re.findall(regexp, subject3)"
   ]
  },
  {
   "cell_type": "code",
   "execution_count": 47,
   "metadata": {},
   "outputs": [
    {
     "data": {
      "text/plain": [
       "[]"
      ]
     },
     "execution_count": 47,
     "metadata": {},
     "output_type": "execute_result"
    }
   ],
   "source": [
    "regexp = r'\\d'\n",
    "\n",
    "re.findall(regexp, subject3)"
   ]
  },
  {
   "cell_type": "code",
   "execution_count": 48,
   "metadata": {
    "scrolled": true
   },
   "outputs": [
    {
     "data": {
      "text/plain": [
       "['I',\n",
       " \"'\",\n",
       " 'm',\n",
       " ' ',\n",
       " 'a',\n",
       " ' ',\n",
       " 'l',\n",
       " 'i',\n",
       " 't',\n",
       " 't',\n",
       " 'l',\n",
       " 'e',\n",
       " ' ',\n",
       " 't',\n",
       " 'e',\n",
       " 'a',\n",
       " 'p',\n",
       " 'o',\n",
       " 't',\n",
       " ',',\n",
       " ' ',\n",
       " 's',\n",
       " 'h',\n",
       " 'o',\n",
       " 'r',\n",
       " 't',\n",
       " ' ',\n",
       " 'a',\n",
       " 'n',\n",
       " 'd',\n",
       " ' ',\n",
       " 's',\n",
       " 'h',\n",
       " 'o',\n",
       " 'u',\n",
       " 't',\n",
       " '_',\n",
       " '.',\n",
       " ' ',\n",
       " 'H',\n",
       " 'e',\n",
       " 'r',\n",
       " 'e',\n",
       " ' ',\n",
       " 'i',\n",
       " 's',\n",
       " ' ',\n",
       " 'm',\n",
       " 'y',\n",
       " ' ',\n",
       " 'h',\n",
       " 'a',\n",
       " 'n',\n",
       " 'd',\n",
       " 'l',\n",
       " 'e',\n",
       " ';',\n",
       " ' ',\n",
       " 'h',\n",
       " 'e',\n",
       " 'r',\n",
       " 'e',\n",
       " ' ',\n",
       " 'i',\n",
       " 's',\n",
       " ' ',\n",
       " 'm',\n",
       " 'y',\n",
       " ' ',\n",
       " 's',\n",
       " 'p',\n",
       " 'o',\n",
       " 'u',\n",
       " 't',\n",
       " '!']"
      ]
     },
     "execution_count": 48,
     "metadata": {},
     "output_type": "execute_result"
    }
   ],
   "source": [
    "regexp = r'\\D'\n",
    "\n",
    "re.findall(regexp, subject3)"
   ]
  },
  {
   "cell_type": "code",
   "execution_count": 49,
   "metadata": {},
   "outputs": [
    {
     "data": {
      "text/plain": [
       "['li',\n",
       " 'tt',\n",
       " 'le',\n",
       " 'te',\n",
       " 'ap',\n",
       " 'ot',\n",
       " 'sh',\n",
       " 'or',\n",
       " 'an',\n",
       " 'sh',\n",
       " 'ou',\n",
       " 't_',\n",
       " 'He',\n",
       " 're',\n",
       " 'is',\n",
       " 'my',\n",
       " 'ha',\n",
       " 'nd',\n",
       " 'le',\n",
       " 'he',\n",
       " 're',\n",
       " 'is',\n",
       " 'my',\n",
       " 'sp',\n",
       " 'ou']"
      ]
     },
     "execution_count": 49,
     "metadata": {},
     "output_type": "execute_result"
    }
   ],
   "source": [
    "regexp = r'\\w\\w'\n",
    "\n",
    "re.findall(regexp, subject3)"
   ]
  },
  {
   "cell_type": "code",
   "execution_count": 50,
   "metadata": {
    "scrolled": true
   },
   "outputs": [
    {
     "data": {
      "text/plain": [
       "['I',\n",
       " \"'\",\n",
       " 'm',\n",
       " 'a',\n",
       " 'l',\n",
       " 'i',\n",
       " 't',\n",
       " 't',\n",
       " 'l',\n",
       " 'e',\n",
       " 't',\n",
       " 'e',\n",
       " 'a',\n",
       " 'p',\n",
       " 'o',\n",
       " 't',\n",
       " ',',\n",
       " 's',\n",
       " 'h',\n",
       " 'o',\n",
       " 'r',\n",
       " 't',\n",
       " 'a',\n",
       " 'n',\n",
       " 'd',\n",
       " 's',\n",
       " 'h',\n",
       " 'o',\n",
       " 'u',\n",
       " 't',\n",
       " '_',\n",
       " '.',\n",
       " 'H',\n",
       " 'e',\n",
       " 'r',\n",
       " 'e',\n",
       " 'i',\n",
       " 's',\n",
       " 'm',\n",
       " 'y',\n",
       " 'h',\n",
       " 'a',\n",
       " 'n',\n",
       " 'd',\n",
       " 'l',\n",
       " 'e',\n",
       " ';',\n",
       " 'h',\n",
       " 'e',\n",
       " 'r',\n",
       " 'e',\n",
       " 'i',\n",
       " 's',\n",
       " 'm',\n",
       " 'y',\n",
       " 's',\n",
       " 'p',\n",
       " 'o',\n",
       " 'u',\n",
       " 't',\n",
       " '!']"
      ]
     },
     "execution_count": 50,
     "metadata": {},
     "output_type": "execute_result"
    }
   ],
   "source": [
    "regexp = r'\\S'\n",
    "\n",
    "re.findall(regexp, subject3)"
   ]
  },
  {
   "cell_type": "code",
   "execution_count": 52,
   "metadata": {},
   "outputs": [
    {
     "data": {
      "text/plain": [
       "['c 1']"
      ]
     },
     "execution_count": 52,
     "metadata": {},
     "output_type": "execute_result"
    }
   ],
   "source": [
    "regexp = r'\\w\\s\\d'\n",
    "subject4 = 'c 1'\n",
    "re.findall(regexp, subject4)"
   ]
  },
  {
   "cell_type": "code",
   "execution_count": 53,
   "metadata": {},
   "outputs": [
    {
     "data": {
      "text/plain": [
       "['1', '2', '3']"
      ]
     },
     "execution_count": 53,
     "metadata": {},
     "output_type": "execute_result"
    }
   ],
   "source": [
    "subject5 = r\"1, 2, 3 strikes you're out at the old ballgame\"\n",
    "\n",
    "regexp = r'\\d'\n",
    "\n",
    "re.findall(regexp, subject5)"
   ]
  },
  {
   "cell_type": "markdown",
   "metadata": {},
   "source": [
    "### Repeating\n",
    "\n",
    "- `{}`: custom number of repititions\n",
    "    - `{x}`: exactly x repititions\n",
    "    - `{x,}`: x or more\n",
    "    - `{x,y}`: between x and y repititions\n",
    "- `*`: zero or more\n",
    "- `+`: one or more\n",
    "- `?`: optional\n",
    "- `?`: greedy + non-greedy"
   ]
  },
  {
   "cell_type": "code",
   "execution_count": 56,
   "metadata": {},
   "outputs": [
    {
     "data": {
      "text/plain": [
       "['1', '2', '3']"
      ]
     },
     "execution_count": 56,
     "metadata": {},
     "output_type": "execute_result"
    }
   ],
   "source": [
    "regexp = r'\\d{1,3}'\n",
    "\n",
    "re.findall(regexp, subject5)"
   ]
  },
  {
   "cell_type": "code",
   "execution_count": 57,
   "metadata": {},
   "outputs": [
    {
     "data": {
      "text/plain": [
       "['1', '2', '3']"
      ]
     },
     "execution_count": 57,
     "metadata": {},
     "output_type": "execute_result"
    }
   ],
   "source": [
    "regexp = r'\\d{1}'\n",
    "\n",
    "re.findall(regexp, subject5)"
   ]
  },
  {
   "cell_type": "code",
   "execution_count": 58,
   "metadata": {},
   "outputs": [
    {
     "data": {
      "text/plain": [
       "[]"
      ]
     },
     "execution_count": 58,
     "metadata": {},
     "output_type": "execute_result"
    }
   ],
   "source": [
    "regexp = r'\\d{2}'\n",
    "\n",
    "re.findall(regexp, subject5)"
   ]
  },
  {
   "cell_type": "code",
   "execution_count": 59,
   "metadata": {},
   "outputs": [
    {
     "data": {
      "text/plain": [
       "['1', '2', '3', 'strikes', 'you', 're', 'out', 'at', 'the', 'old', 'ballgame']"
      ]
     },
     "execution_count": 59,
     "metadata": {},
     "output_type": "execute_result"
    }
   ],
   "source": [
    "# so remember that \\w will return all charatcers that are letters and numbers, so \\w+ will return everything concatted\n",
    "# til it reaches a character which is not a number or letter\n",
    "\n",
    "regexp = r'\\w+'\n",
    "\n",
    "re.findall(regexp, subject5)"
   ]
  },
  {
   "cell_type": "code",
   "execution_count": 60,
   "metadata": {},
   "outputs": [
    {
     "data": {
      "text/plain": [
       "['1',\n",
       " '',\n",
       " '',\n",
       " '2',\n",
       " '',\n",
       " '',\n",
       " '3',\n",
       " '',\n",
       " 'strikes',\n",
       " '',\n",
       " 'you',\n",
       " '',\n",
       " 're',\n",
       " '',\n",
       " 'out',\n",
       " '',\n",
       " 'at',\n",
       " '',\n",
       " 'the',\n",
       " '',\n",
       " 'old',\n",
       " '',\n",
       " 'ballgame',\n",
       " '']"
      ]
     },
     "execution_count": 60,
     "metadata": {},
     "output_type": "execute_result"
    }
   ],
   "source": [
    "regexp = r'\\w*'\n",
    "\n",
    "re.findall(regexp, subject5)"
   ]
  },
  {
   "cell_type": "code",
   "execution_count": 61,
   "metadata": {},
   "outputs": [
    {
     "data": {
      "text/plain": [
       "[]"
      ]
     },
     "execution_count": 61,
     "metadata": {},
     "output_type": "execute_result"
    }
   ],
   "source": [
    "regexp = r'\\?'\n",
    "\n",
    "re.findall(regexp, subject5)"
   ]
  },
  {
   "cell_type": "markdown",
   "metadata": {},
   "source": [
    "<div style=\"background-color: rgba(0, 100, 200, .1); padding: 1em 3em; border-radius: 5px; border: 1px solid black\">\n",
    "    <div style=\"font-weight: bold; font-size: 1.2em; border-bottom: 1px dashed black; padding-bottom: .5em;\">\n",
    "        Mini Exercise\n",
    "    </div>\n",
    "    <p>Use the string below as your subject for this exercise.</p>\n",
    "    <pre><code>Codeup, founded in 2014, is located at 600 Navarro St. Suite 350, San Antonio, TX 78230. You can find us online at http://codeup.com and our alumni portal is located at https://alumni.codeup.com.</code></pre>\n",
    "    <ol>\n",
    "        <li>Write a regular expression that matches all the numbers.</li>\n",
    "        <li>Write a regular expression that matches a 5 digit number, but not a number with fewer digits.</li>\n",
    "        <li>Write a regular expression that matches `http://` or `https://`.</li>\n",
    "        <li>Write a regular expression that matches all of the words.</li>\n",
    "    </ol>\n",
    "</div>"
   ]
  },
  {
   "cell_type": "code",
   "execution_count": 89,
   "metadata": {},
   "outputs": [
    {
     "data": {
      "text/plain": [
       "['2014', '600', '350', '78230']"
      ]
     },
     "execution_count": 89,
     "metadata": {},
     "output_type": "execute_result"
    }
   ],
   "source": [
    "regexp = r\"\\d+\"\n",
    "subject = (\n",
    "    'Codeup, founded in 2014, is located at 600 Navarro St. Suite 350, '\n",
    "    'San Antonio, TX 78230. You can find us online at http://codeup.com '\n",
    "    'and our alumni portal is located at https://alumni.codeup.com. '\n",
    "    \"It's a great school!\"\n",
    ")\n",
    "\n",
    "re.findall(regexp, subject)"
   ]
  },
  {
   "cell_type": "code",
   "execution_count": 90,
   "metadata": {},
   "outputs": [
    {
     "data": {
      "text/plain": [
       "['3.5']"
      ]
     },
     "execution_count": 90,
     "metadata": {},
     "output_type": "execute_result"
    }
   ],
   "source": [
    "# what if we wanted to account for float numbers?\n",
    "\n",
    "subject2 = 'Codeup is located at 600 Navarro St. Suite 350, San Antonio, TX 78230. I have a 3.5 GPA.'\n",
    "\n",
    "regexp = r'\\d+\\.\\d+'\n",
    "\n",
    "re.findall(regexp, subject2)\n",
    "\n",
    "# this only gives us the float.... not what we want"
   ]
  },
  {
   "cell_type": "code",
   "execution_count": 92,
   "metadata": {},
   "outputs": [
    {
     "data": {
      "text/plain": [
       "['600', '350', '78230.', '3.5']"
      ]
     },
     "execution_count": 92,
     "metadata": {},
     "output_type": "execute_result"
    }
   ],
   "source": [
    "regexp = r'\\d+\\.?\\d*'\n",
    "\n",
    "re.findall(regexp, subject2)\n",
    "\n",
    "# got it! nice"
   ]
  },
  {
   "cell_type": "code",
   "execution_count": 65,
   "metadata": {},
   "outputs": [
    {
     "data": {
      "text/plain": [
       "['78230']"
      ]
     },
     "execution_count": 65,
     "metadata": {},
     "output_type": "execute_result"
    }
   ],
   "source": [
    "regexp = r'\\d{5}'\n",
    "\n",
    "re.findall(regexp, subject)"
   ]
  },
  {
   "cell_type": "code",
   "execution_count": 96,
   "metadata": {},
   "outputs": [
    {
     "data": {
      "text/plain": [
       "['http://', 'https://']"
      ]
     },
     "execution_count": 96,
     "metadata": {},
     "output_type": "execute_result"
    }
   ],
   "source": [
    "regexp = r'https?://'\n",
    "\n",
    "re.findall(regexp, subject)"
   ]
  },
  {
   "cell_type": "code",
   "execution_count": 86,
   "metadata": {},
   "outputs": [
    {
     "data": {
      "text/plain": [
       "['Codeup',\n",
       " 'founded',\n",
       " 'in',\n",
       " '2014',\n",
       " 'is',\n",
       " 'located',\n",
       " 'at',\n",
       " '600',\n",
       " 'Navarro',\n",
       " 'St',\n",
       " 'Suite',\n",
       " '350',\n",
       " 'San',\n",
       " 'Antonio',\n",
       " 'TX',\n",
       " '78230',\n",
       " 'You',\n",
       " 'can',\n",
       " 'find',\n",
       " 'us',\n",
       " 'online',\n",
       " 'at',\n",
       " 'http',\n",
       " 'codeup',\n",
       " 'com',\n",
       " 'and',\n",
       " 'our',\n",
       " 'alumni',\n",
       " 'portal',\n",
       " 'is',\n",
       " 'located',\n",
       " 'at',\n",
       " 'https',\n",
       " 'alumni',\n",
       " 'codeup',\n",
       " 'com',\n",
       " 'It',\n",
       " 's',\n",
       " 'a',\n",
       " 'great',\n",
       " 'school']"
      ]
     },
     "execution_count": 86,
     "metadata": {},
     "output_type": "execute_result"
    }
   ],
   "source": [
    "regexp = r'\\w+'\n",
    "\n",
    "re.findall(regexp, subject)"
   ]
  },
  {
   "cell_type": "markdown",
   "metadata": {},
   "source": [
    "### Any/None Of"
   ]
  },
  {
   "cell_type": "code",
   "execution_count": null,
   "metadata": {},
   "outputs": [],
   "source": [
    "# we cannot use brackets '[]' to denote potential optional characters\n",
    "\n",
    "# '-' between characters can parse the range of characters\n",
    "# '^' can act as a NOT inside brackets"
   ]
  },
  {
   "cell_type": "code",
   "execution_count": 97,
   "metadata": {
    "collapsed": true
   },
   "outputs": [
    {
     "data": {
      "text/plain": [
       "['o',\n",
       " 'd',\n",
       " 'e',\n",
       " 'u',\n",
       " 'p',\n",
       " 'f',\n",
       " 'o',\n",
       " 'u',\n",
       " 'n',\n",
       " 'd',\n",
       " 'e',\n",
       " 'd',\n",
       " 'i',\n",
       " 'n',\n",
       " 'i',\n",
       " 's',\n",
       " 'l',\n",
       " 'o',\n",
       " 'c',\n",
       " 'a',\n",
       " 't',\n",
       " 'e',\n",
       " 'd',\n",
       " 'a',\n",
       " 't',\n",
       " 'a',\n",
       " 'v',\n",
       " 'a',\n",
       " 'r',\n",
       " 'r',\n",
       " 'o',\n",
       " 't',\n",
       " 'u',\n",
       " 'i',\n",
       " 't',\n",
       " 'e',\n",
       " 'a',\n",
       " 'n',\n",
       " 'n',\n",
       " 't',\n",
       " 'o',\n",
       " 'n',\n",
       " 'i',\n",
       " 'o',\n",
       " 'o',\n",
       " 'u',\n",
       " 'c',\n",
       " 'a',\n",
       " 'n',\n",
       " 'f',\n",
       " 'i',\n",
       " 'n',\n",
       " 'd',\n",
       " 'u',\n",
       " 's',\n",
       " 'o',\n",
       " 'n',\n",
       " 'l',\n",
       " 'i',\n",
       " 'n',\n",
       " 'e',\n",
       " 'a',\n",
       " 't',\n",
       " 'h',\n",
       " 't',\n",
       " 't',\n",
       " 'p',\n",
       " 'c',\n",
       " 'o',\n",
       " 'd',\n",
       " 'e',\n",
       " 'u',\n",
       " 'p',\n",
       " 'c',\n",
       " 'o',\n",
       " 'm',\n",
       " 'a',\n",
       " 'n',\n",
       " 'd',\n",
       " 'o',\n",
       " 'u',\n",
       " 'r',\n",
       " 'a',\n",
       " 'l',\n",
       " 'u',\n",
       " 'm',\n",
       " 'n',\n",
       " 'i',\n",
       " 'p',\n",
       " 'o',\n",
       " 'r',\n",
       " 't',\n",
       " 'a',\n",
       " 'l',\n",
       " 'i',\n",
       " 's',\n",
       " 'l',\n",
       " 'o',\n",
       " 'c',\n",
       " 'a',\n",
       " 't',\n",
       " 'e',\n",
       " 'd',\n",
       " 'a',\n",
       " 't',\n",
       " 'h',\n",
       " 't',\n",
       " 't',\n",
       " 'p',\n",
       " 's',\n",
       " 'a',\n",
       " 'l',\n",
       " 'u',\n",
       " 'm',\n",
       " 'n',\n",
       " 'i',\n",
       " 'c',\n",
       " 'o',\n",
       " 'd',\n",
       " 'e',\n",
       " 'u',\n",
       " 'p',\n",
       " 'c',\n",
       " 'o',\n",
       " 'm',\n",
       " 't',\n",
       " 's',\n",
       " 'a',\n",
       " 'g',\n",
       " 'r',\n",
       " 'e',\n",
       " 'a',\n",
       " 't',\n",
       " 's',\n",
       " 'c',\n",
       " 'h',\n",
       " 'o',\n",
       " 'o',\n",
       " 'l']"
      ]
     },
     "execution_count": 97,
     "metadata": {},
     "output_type": "execute_result"
    }
   ],
   "source": [
    "regexp = r'[a-z]'\n",
    "\n",
    "re.findall(regexp, subject)\n",
    "\n",
    "# returns any lower case letter"
   ]
  },
  {
   "cell_type": "code",
   "execution_count": 98,
   "metadata": {
    "collapsed": true
   },
   "outputs": [
    {
     "data": {
      "text/plain": [
       "['C',\n",
       " 'o',\n",
       " 'd',\n",
       " 'e',\n",
       " 'u',\n",
       " 'p',\n",
       " 'f',\n",
       " 'o',\n",
       " 'u',\n",
       " 'n',\n",
       " 'd',\n",
       " 'e',\n",
       " 'd',\n",
       " 'i',\n",
       " 'n',\n",
       " 'i',\n",
       " 's',\n",
       " 'l',\n",
       " 'o',\n",
       " 'c',\n",
       " 'a',\n",
       " 't',\n",
       " 'e',\n",
       " 'd',\n",
       " 'a',\n",
       " 't',\n",
       " 'N',\n",
       " 'a',\n",
       " 'v',\n",
       " 'a',\n",
       " 'r',\n",
       " 'r',\n",
       " 'o',\n",
       " 'S',\n",
       " 't',\n",
       " 'S',\n",
       " 'u',\n",
       " 'i',\n",
       " 't',\n",
       " 'e',\n",
       " 'S',\n",
       " 'a',\n",
       " 'n',\n",
       " 'A',\n",
       " 'n',\n",
       " 't',\n",
       " 'o',\n",
       " 'n',\n",
       " 'i',\n",
       " 'o',\n",
       " 'T',\n",
       " 'X',\n",
       " 'Y',\n",
       " 'o',\n",
       " 'u',\n",
       " 'c',\n",
       " 'a',\n",
       " 'n',\n",
       " 'f',\n",
       " 'i',\n",
       " 'n',\n",
       " 'd',\n",
       " 'u',\n",
       " 's',\n",
       " 'o',\n",
       " 'n',\n",
       " 'l',\n",
       " 'i',\n",
       " 'n',\n",
       " 'e',\n",
       " 'a',\n",
       " 't',\n",
       " 'h',\n",
       " 't',\n",
       " 't',\n",
       " 'p',\n",
       " 'c',\n",
       " 'o',\n",
       " 'd',\n",
       " 'e',\n",
       " 'u',\n",
       " 'p',\n",
       " 'c',\n",
       " 'o',\n",
       " 'm',\n",
       " 'a',\n",
       " 'n',\n",
       " 'd',\n",
       " 'o',\n",
       " 'u',\n",
       " 'r',\n",
       " 'a',\n",
       " 'l',\n",
       " 'u',\n",
       " 'm',\n",
       " 'n',\n",
       " 'i',\n",
       " 'p',\n",
       " 'o',\n",
       " 'r',\n",
       " 't',\n",
       " 'a',\n",
       " 'l',\n",
       " 'i',\n",
       " 's',\n",
       " 'l',\n",
       " 'o',\n",
       " 'c',\n",
       " 'a',\n",
       " 't',\n",
       " 'e',\n",
       " 'd',\n",
       " 'a',\n",
       " 't',\n",
       " 'h',\n",
       " 't',\n",
       " 't',\n",
       " 'p',\n",
       " 's',\n",
       " 'a',\n",
       " 'l',\n",
       " 'u',\n",
       " 'm',\n",
       " 'n',\n",
       " 'i',\n",
       " 'c',\n",
       " 'o',\n",
       " 'd',\n",
       " 'e',\n",
       " 'u',\n",
       " 'p',\n",
       " 'c',\n",
       " 'o',\n",
       " 'm',\n",
       " 'I',\n",
       " 't',\n",
       " 's',\n",
       " 'a',\n",
       " 'g',\n",
       " 'r',\n",
       " 'e',\n",
       " 'a',\n",
       " 't',\n",
       " 's',\n",
       " 'c',\n",
       " 'h',\n",
       " 'o',\n",
       " 'o',\n",
       " 'l']"
      ]
     },
     "execution_count": 98,
     "metadata": {},
     "output_type": "execute_result"
    }
   ],
   "source": [
    "regexp = r'[a-zA-Z]'\n",
    "\n",
    "re.findall(regexp, subject)\n",
    "\n",
    "# returns all the letters"
   ]
  },
  {
   "cell_type": "code",
   "execution_count": 103,
   "metadata": {},
   "outputs": [
    {
     "data": {
      "text/plain": [
       "['Codeup',\n",
       " 'founded',\n",
       " 'in',\n",
       " 'is',\n",
       " 'located',\n",
       " 'at',\n",
       " 'Navarro',\n",
       " 'St',\n",
       " 'Suite',\n",
       " 'San',\n",
       " 'Antonio',\n",
       " 'TX',\n",
       " 'You',\n",
       " 'can',\n",
       " 'find',\n",
       " 'us',\n",
       " 'online',\n",
       " 'at',\n",
       " 'http',\n",
       " 'codeup',\n",
       " 'com',\n",
       " 'and',\n",
       " 'our',\n",
       " 'alumni',\n",
       " 'portal',\n",
       " 'is',\n",
       " 'located',\n",
       " 'at',\n",
       " 'https',\n",
       " 'alumni',\n",
       " 'codeup',\n",
       " 'com',\n",
       " 'It',\n",
       " 'great',\n",
       " 'school']"
      ]
     },
     "execution_count": 103,
     "metadata": {},
     "output_type": "execute_result"
    }
   ],
   "source": [
    "regexp = r'\\w+[a-zA-Z]'\n",
    "\n",
    "re.findall(regexp, subject)\n",
    "\n",
    "# returns all letters and sparses when it comes across a character which is not a letter nor a number"
   ]
  },
  {
   "cell_type": "markdown",
   "metadata": {},
   "source": [
    "<div style=\"background-color: rgba(0, 100, 200, .1); padding: 1em 3em; border-radius: 5px; border: 1px solid black\">\n",
    "    <div style=\"font-weight: bold; font-size: 1.2em; border-bottom: 1px dashed black; padding-bottom: .5em;\">\n",
    "        Mini Exercise\n",
    "    </div>\n",
    "    <p>For this exercise you should make up various subjects and test them with your regular expressions.</p>\n",
    "    <ol>\n",
    "        <li>Write a regular expression that matches even numbers.</li>\n",
    "        <li>Write a regular expression that matches 2 or more odd numbers in a row.</li>\n",
    "        <li>Write a regular expression that any word with a vowel in it.</li>\n",
    "    </ol>\n",
    "</div>"
   ]
  },
  {
   "cell_type": "code",
   "execution_count": 111,
   "metadata": {},
   "outputs": [],
   "source": [
    "subject = \"I graduated highschool in 2013. My GPA was 3.36. I joined the Army at age 17. I can't remember when I started basic Training, but I know I graduated on October 31, 2013.\"\n",
    "subject2 = 'I started playing softball when I was 10 I think. My number was 6. I usually batted 1st in the lineup.'"
   ]
  },
  {
   "cell_type": "code",
   "execution_count": 121,
   "metadata": {},
   "outputs": [
    {
     "data": {
      "text/plain": [
       "['20', '36', '20']"
      ]
     },
     "execution_count": 121,
     "metadata": {},
     "output_type": "execute_result"
    }
   ],
   "source": [
    "regexp = r'\\d*[02468]'\n",
    "\n",
    "re.findall(regexp, subject)"
   ]
  },
  {
   "cell_type": "code",
   "execution_count": 113,
   "metadata": {},
   "outputs": [
    {
     "data": {
      "text/plain": [
       "['10 ', '6. ']"
      ]
     },
     "execution_count": 113,
     "metadata": {},
     "output_type": "execute_result"
    }
   ],
   "source": [
    "re.findall(regexp, subject2)"
   ]
  },
  {
   "cell_type": "code",
   "execution_count": 123,
   "metadata": {},
   "outputs": [
    {
     "data": {
      "text/plain": [
       "[]"
      ]
     },
     "execution_count": 123,
     "metadata": {},
     "output_type": "execute_result"
    }
   ],
   "source": [
    "regexp = r'\\d*[13579]{2}'\n",
    "\n",
    "re.findall(regexp, subject2)"
   ]
  },
  {
   "cell_type": "code",
   "execution_count": 124,
   "metadata": {},
   "outputs": [
    {
     "data": {
      "text/plain": [
       "['2013', '17', '31', '2013']"
      ]
     },
     "execution_count": 124,
     "metadata": {},
     "output_type": "execute_result"
    }
   ],
   "source": [
    "re.findall(regexp, subject)"
   ]
  },
  {
   "cell_type": "code",
   "execution_count": 128,
   "metadata": {},
   "outputs": [
    {
     "data": {
      "text/plain": [
       "['I',\n",
       " 'graduate',\n",
       " 'highschoo',\n",
       " 'i',\n",
       " 'GPA',\n",
       " 'wa',\n",
       " 'I',\n",
       " 'joine',\n",
       " 'the',\n",
       " 'A',\n",
       " 'a',\n",
       " 'age',\n",
       " 'I',\n",
       " 'ca',\n",
       " 'remembe',\n",
       " 'whe',\n",
       " 'I',\n",
       " 'starte',\n",
       " 'basi',\n",
       " 'Traini',\n",
       " 'bu',\n",
       " 'I',\n",
       " 'kno',\n",
       " 'I',\n",
       " 'graduate',\n",
       " 'o',\n",
       " 'Octobe']"
      ]
     },
     "execution_count": 128,
     "metadata": {},
     "output_type": "execute_result"
    }
   ],
   "source": [
    "regexp = '\\w*[aeiouAEIOU]'\n",
    "re.findall(regexp, subject)"
   ]
  },
  {
   "cell_type": "markdown",
   "metadata": {},
   "source": [
    "### Anchors\n",
    "\n",
    "- `^`: starts with\n",
    "- `$`: ends with\n",
    "- `\\b`: word boundary"
   ]
  },
  {
   "cell_type": "code",
   "execution_count": null,
   "metadata": {},
   "outputs": [],
   "source": []
  },
  {
   "cell_type": "markdown",
   "metadata": {},
   "source": [
    "<div style=\"background-color: rgba(0, 100, 200, .1); padding: 1em 3em; border-radius: 5px; border: 1px solid black\">\n",
    "    <div style=\"font-weight: bold; font-size: 1.2em; border-bottom: 1px dashed black; padding-bottom: .5em;\">\n",
    "        Mini Exercise\n",
    "    </div>\n",
    "    <p>For this exercise you should make up various subjects and test them with your regular expressions.</p>\n",
    "    <ol>\n",
    "        <li>Write a regular expression that matches if a word starts with a vowel.</li>\n",
    "        <li>Write a regular expression that matches if a word starts with a capital letter.</li>\n",
    "        <li>Write a regular expression that matches if a word ends with a capital letter.</li>        \n",
    "        <li>Write a regular expression that matches if a word starts <b>and</b> ends with a capital letter.</li>\n",
    "    </ol>\n",
    "</div>"
   ]
  },
  {
   "cell_type": "code",
   "execution_count": null,
   "metadata": {},
   "outputs": [],
   "source": [
    "regexp = r'^[aeiouAEIOU]'"
   ]
  },
  {
   "cell_type": "markdown",
   "metadata": {},
   "source": [
    "### Capture Groups"
   ]
  },
  {
   "cell_type": "markdown",
   "metadata": {},
   "source": [
    "## `re.sub`\n",
    "\n",
    "- removing\n",
    "- substitution"
   ]
  },
  {
   "cell_type": "code",
   "execution_count": 129,
   "metadata": {},
   "outputs": [
    {
     "data": {
      "text/plain": [
       "[('abbbbbc', 'cbbaa'), ('baba', 'ab')]"
      ]
     },
     "execution_count": 129,
     "metadata": {},
     "output_type": "execute_result"
    }
   ],
   "source": [
    "# capture groups are denoted by paratheses\n",
    "\n",
    "regexp = r'([abc]+) ([abc]+)'\n",
    "subject = 'abbbbbc cbbaa bbbba sandwich baba ab zz'\n",
    "\n",
    "re.findall(regexp, subject)"
   ]
  },
  {
   "cell_type": "code",
   "execution_count": 130,
   "metadata": {},
   "outputs": [
    {
     "data": {
      "text/plain": [
       "'abbbbbc cbbaa bbbba slamwich baba ab zz'"
      ]
     },
     "execution_count": 130,
     "metadata": {},
     "output_type": "execute_result"
    }
   ],
   "source": [
    "regexp = 'sandwich'\n",
    "\n",
    "re.sub(regexp, 'slamwich', subject)"
   ]
  },
  {
   "cell_type": "code",
   "execution_count": 139,
   "metadata": {},
   "outputs": [
    {
     "data": {
      "text/plain": [
       "'Hello, I would lile a ham sandwich please'"
      ]
     },
     "execution_count": 139,
     "metadata": {},
     "output_type": "execute_result"
    }
   ],
   "source": [
    "# capture groups have a initial value of 1\n",
    "\n",
    "subject = 'Hello, I would lile a ham sandwich please'\n",
    "\n",
    "regexp = r'(ham)\\s+(\\w)\\s '\n",
    "re.sub(regexp, r'\\2 of \\1       ', subject)"
   ]
  },
  {
   "cell_type": "markdown",
   "metadata": {},
   "source": [
    "<div style=\"background-color: rgba(0, 100, 200, .1); padding: 1em 3em; border-radius: 5px; border: 1px solid black\">\n",
    "    <div style=\"font-weight: bold; font-size: 1.2em; border-bottom: 1px dashed black; padding-bottom: .5em;\">\n",
    "        Mini Exercise\n",
    "    </div>\n",
    "    <p>Use the code below to get started on this exercise.</p>\n",
    "    <pre><code>dates = pd.Series(['2020-11-12', '2020-07-13', '2021-01-12'])</code></pre>\n",
    "    <p>Use regular expression substitution to reformat the dates in the format common in the US: m/d/y.</p>\n",
    "</div>"
   ]
  },
  {
   "cell_type": "markdown",
   "metadata": {},
   "source": [
    "## Misc"
   ]
  },
  {
   "cell_type": "markdown",
   "metadata": {},
   "source": [
    "### Pandas Usage\n",
    "\n",
    "- `.str`\n",
    "    - `.extract`\n",
    "    - `.count`\n",
    "    - `.contains`\n",
    "    - `.replace`\n",
    "- extract + concat\n",
    "- named groups"
   ]
  },
  {
   "cell_type": "code",
   "execution_count": 140,
   "metadata": {},
   "outputs": [],
   "source": [
    "df = pd.DataFrame()\n",
    "df['text'] = pd.Series([\n",
    "    'You should go check out https://regex101.com, it is a great website!',\n",
    "    'My favorite search engine is https://duckduckgo.com',\n",
    "    'If you have a question, you can get it answered through http://askjeeves.com, it is great!',\n",
    "])\n"
   ]
  },
  {
   "cell_type": "code",
   "execution_count": 141,
   "metadata": {},
   "outputs": [
    {
     "data": {
      "text/html": [
       "<div>\n",
       "<style scoped>\n",
       "    .dataframe tbody tr th:only-of-type {\n",
       "        vertical-align: middle;\n",
       "    }\n",
       "\n",
       "    .dataframe tbody tr th {\n",
       "        vertical-align: top;\n",
       "    }\n",
       "\n",
       "    .dataframe thead th {\n",
       "        text-align: right;\n",
       "    }\n",
       "</style>\n",
       "<table border=\"1\" class=\"dataframe\">\n",
       "  <thead>\n",
       "    <tr style=\"text-align: right;\">\n",
       "      <th></th>\n",
       "      <th>text</th>\n",
       "    </tr>\n",
       "  </thead>\n",
       "  <tbody>\n",
       "    <tr>\n",
       "      <th>0</th>\n",
       "      <td>You should go check out https://regex101.com, ...</td>\n",
       "    </tr>\n",
       "    <tr>\n",
       "      <th>1</th>\n",
       "      <td>My favorite search engine is https://duckduckg...</td>\n",
       "    </tr>\n",
       "    <tr>\n",
       "      <th>2</th>\n",
       "      <td>If you have a question, you can get it answere...</td>\n",
       "    </tr>\n",
       "  </tbody>\n",
       "</table>\n",
       "</div>"
      ],
      "text/plain": [
       "                                                text\n",
       "0  You should go check out https://regex101.com, ...\n",
       "1  My favorite search engine is https://duckduckg...\n",
       "2  If you have a question, you can get it answere..."
      ]
     },
     "execution_count": 141,
     "metadata": {},
     "output_type": "execute_result"
    }
   ],
   "source": [
    "df"
   ]
  },
  {
   "cell_type": "code",
   "execution_count": null,
   "metadata": {},
   "outputs": [],
   "source": []
  },
  {
   "cell_type": "code",
   "execution_count": null,
   "metadata": {},
   "outputs": [],
   "source": []
  },
  {
   "cell_type": "code",
   "execution_count": null,
   "metadata": {},
   "outputs": [],
   "source": []
  },
  {
   "cell_type": "code",
   "execution_count": null,
   "metadata": {},
   "outputs": [],
   "source": []
  },
  {
   "cell_type": "markdown",
   "metadata": {},
   "source": [
    "### Interactive Regex Tool\n",
    "\n",
    "To install the `hlre` tool:\n",
    "\n",
    "```\n",
    "python -m pip install hlre\n",
    "```\n",
    "\n",
    "[For more documentation and the source](https://github.com/zgulde/hlre)\n",
    "\n",
    "See also [regex101](https://regex101.com) (make sure to select the Python flavor)"
   ]
  },
  {
   "cell_type": "markdown",
   "metadata": {},
   "source": [
    "### Named capture groups"
   ]
  },
  {
   "cell_type": "code",
   "execution_count": null,
   "metadata": {},
   "outputs": [],
   "source": [
    "text = 'You should go check out https://regex101.com, it is a great website!'\n",
    "\n",
    "match = re.search(r'(?P<protocol>https?)://(?P<base_domain>\\w+)\\.(?P<tld>\\w+)', text)\n",
    "match.groupdict()"
   ]
  },
  {
   "cell_type": "code",
   "execution_count": null,
   "metadata": {},
   "outputs": [],
   "source": [
    "df.text.str.extract(r'(?P<protocol>https?)://(?P<base_domain>\\w+)\\.(?P<tld>\\w+)')"
   ]
  },
  {
   "cell_type": "markdown",
   "metadata": {},
   "source": [
    "### Verbose regular expressions"
   ]
  },
  {
   "cell_type": "markdown",
   "metadata": {},
   "source": [
    "- `re.VERBOSE`\n",
    "- `(?# this is a comment)`"
   ]
  },
  {
   "cell_type": "code",
   "execution_count": null,
   "metadata": {},
   "outputs": [],
   "source": [
    "text = 'You should go check out https://regex101.com, it is a great website!'\n",
    "\n",
    "regexp = r'''\n",
    "(?P<protocol>https?)\n",
    ":// (?# ignore the :// that seperates protocol from domain)\n",
    "(?P<base_domain>\\w+)\n",
    "\\.\n",
    "(?P<tld>\\w+)\n",
    "'''\n",
    "match = re.search(regexp, text, re.VERBOSE) # whitespace in the regex is ignored\n",
    "match.groupdict()"
   ]
  }
 ],
 "metadata": {
  "kernelspec": {
   "display_name": "Python 3 (ipykernel)",
   "language": "python",
   "name": "python3"
  },
  "language_info": {
   "codemirror_mode": {
    "name": "ipython",
    "version": 3
   },
   "file_extension": ".py",
   "mimetype": "text/x-python",
   "name": "python",
   "nbconvert_exporter": "python",
   "pygments_lexer": "ipython3",
   "version": "3.9.13"
  }
 },
 "nbformat": 4,
 "nbformat_minor": 4
}
